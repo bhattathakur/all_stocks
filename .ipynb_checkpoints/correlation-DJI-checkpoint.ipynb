{
 "cells": [
  {
   "cell_type": "code",
   "execution_count": null,
   "metadata": {},
   "outputs": [],
   "source": [
    "import pandas as pd\n",
    "import numpy as np\n",
    "import seaborn as sns\n",
    "import matplotlib.pyplot as plt\n",
    "import yfinance as yf\n",
    "import os\n"
   ]
  },
  {
   "cell_type": "code",
   "execution_count": null,
   "metadata": {},
   "outputs": [],
   "source": [
    "data = yf.download(\"SPY\", period='52wk',\n",
    "                   group_by=\"ticker\")\n",
    "data.to_csv(\"/home/thakur/test/snp500/SPY.csv\",index=False)"
   ]
  },
  {
   "cell_type": "code",
   "execution_count": null,
   "metadata": {},
   "outputs": [],
   "source": [
    "# #select the list\n",
    "# root='/home/thakur/test/snp500'\n",
    "# spy=['SPY']\n",
    "# list25=['AAPL','MSFT', 'AMZN', 'TSLA', 'GOOGL', 'GOOG', 'BRK.B', 'UNH', 'JNJ', 'XOM', 'JPM', 'META', 'V', 'PG', 'NVDA', 'HD', 'CVX', 'LLY', 'MA', 'ABBV', 'PFE', 'MRK', 'PEP', 'BAC', 'KO']\n",
    "\n",
    "# desired_list=spy+list25\n",
    "# desired_list\n",
    "# #fold=sorted(os.listdir(root))\n",
    "# fold=os.listdir(root)\n",
    "# df=pd.DataFrame()\n",
    "\n",
    "# for en,i in enumerate(fold,start=1):\n",
    "#     #if en!=1:continue\n",
    "#     #print(f\"{en}\\t {i}\")\n",
    "#     tick=i.split(\".\")[0]\n",
    "#     if tick not in list25:continue\n",
    "#     #print(f\"Ticker: {tick}\")\n",
    "#     file=root+\"/\"+tick+\".csv\"\n",
    "#     #print(f\"file: {file}\")\n",
    "#     temp_df=(\n",
    "#     pd.read_csv(file)\n",
    "#     .Close\n",
    "#     .tail(50)\n",
    "#     .to_list()\n",
    "#     #.values\n",
    "#     )\n",
    "\n",
    "#     #print(f\"df: {temp_df}\")\n",
    "#     df[tick]=temp_df\n",
    "#     #print(f\"df: {close.dtypes}\")\n",
    "# df\n",
    "    "
   ]
  },
  {
   "cell_type": "code",
   "execution_count": null,
   "metadata": {},
   "outputs": [],
   "source": [
    "#select the list\n",
    "root='/home/thakur/test/snp500'\n",
    "\n",
    "# desired_list\n",
    "fold=sorted(os.listdir(root))\n",
    "tick=['SPY.csv']\n",
    "if tick[0] in fold:\n",
    "    fold.remove(tick[0])\n",
    "else:\n",
    "    print(f\"{tick[0]} is not prsent!\")\n",
    "\n",
    "fold=fold[:500]\n",
    "twod=np.array(fold).reshape(25,20).tolist()\n",
    "\n",
    "for i in range(len(twod)):\n",
    "    new_list=twod[i]\n",
    "    new_list.insert(0,'SPY.csv')\n",
    "\n",
    "    \n",
    "    if i!=0:continue\n",
    "    print(f\"COUNT: {i+1}/{len(twod)}:\")\n",
    "    \n",
    "    #new_list=tick+twod[i]\n",
    "    print(new_list,end='\\n')\n",
    "    df=pd.DataFrame()\n",
    "\n",
    "    for en,j in enumerate(new_list,start=1):\n",
    "        #if en!=1:continue\n",
    "        #print(f\"{en}\\t {j}\")\n",
    "        tick=j.split(\".\")[0]\n",
    "        #if tick not in list25:continue\n",
    "        #print(f\"Ticker: {tick}\")\n",
    "        file=root+\"/\"+tick+\".csv\"\n",
    "        #print(f\"file: {file}\")\n",
    "        temp_df=(\n",
    "        pd.read_csv(file)\n",
    "        #.Close\n",
    "        .tail(50)\n",
    "        .Close\n",
    "        #.reset_index([],axis=1)\n",
    "        #.to_list()\n",
    "        #.values\n",
    "        )\n",
    "\n",
    "        #print(f\"df: {temp_df}\")\n",
    "        df[tick]=temp_df.copy()\n",
    "\n",
    "    new_list.clear()  \n",
    "    corr_df = df.corr(method='pearson')\n",
    "    print(f\"corr_df:\\n{corr_df}\")\n",
    "    print(f\"corr_df_spy:\\n{corr_df['SPY']}\")\n",
    "#reset symbol as index (rather than 0-X)\n",
    "    corr_df.head().reset_index()\n",
    "\n",
    "    plt.figure(figsize=(23, 18))\n",
    "    sns.heatmap(corr_df, annot=True, cmap='RdYlGn')\n",
    "    plt.figure()\n",
    "    plt.show()\n",
    "\n",
    "    "
   ]
  },
  {
   "cell_type": "code",
   "execution_count": null,
   "metadata": {},
   "outputs": [],
   "source": [
    "#select the list\n",
    "root='/home/thakur/test/snp500'\n",
    "\n",
    "new_list=[]\n",
    "\n",
    "# desired_list\n",
    "fold=sorted(os.listdir(root))\n",
    "tick=['SPY.csv']\n",
    "if tick[0] in fold:\n",
    "    fold.remove(tick[0])\n",
    "else:\n",
    "    print(f\"{tick[0]} is not prsent!\")\n",
    "\n",
    "fold.insert(0,'SPY.csv')\n",
    "\n",
    "\n",
    "df=pd.DataFrame()\n",
    "\n",
    "for en,j in enumerate(fold,start=1):\n",
    "    tick=j.split(\".\")[0]\n",
    "\n",
    "    file=root+\"/\"+tick+\".csv\"\n",
    "    #print(f\"file: {file}\")\n",
    "    temp_df=(\n",
    "    pd.read_csv(file)\n",
    "    #.Close\n",
    "    .tail(50)\n",
    "    .Close\n",
    "    )\n",
    "\n",
    "    #print(f\"df: {temp_df}\")\n",
    "    df[tick]=temp_df.copy()\n",
    "    corr_df = df.corr(method='pearson')"
   ]
  },
  {
   "cell_type": "code",
   "execution_count": null,
   "metadata": {},
   "outputs": [],
   "source": [
    "corr_df"
   ]
  },
  {
   "cell_type": "code",
   "execution_count": null,
   "metadata": {},
   "outputs": [],
   "source": [
    "spy_corr=corr_df['SPY']\n",
    "spy_corr['AMD']"
   ]
  },
  {
   "cell_type": "code",
   "execution_count": null,
   "metadata": {},
   "outputs": [],
   "source": [
    "high=corr_df['SPY'].sort_values(ascending=False)[:50]\n",
    "low=corr_df['SPY'].sort_values(ascending=True)[:50]\n",
    "low"
   ]
  },
  {
   "cell_type": "code",
   "execution_count": null,
   "metadata": {},
   "outputs": [],
   "source": [
    "high\n"
   ]
  },
  {
   "cell_type": "code",
   "execution_count": null,
   "metadata": {},
   "outputs": [],
   "source": []
  }
 ],
 "metadata": {
  "kernelspec": {
   "display_name": "Python 3 (ipykernel)",
   "language": "python",
   "name": "python3"
  },
  "language_info": {
   "codemirror_mode": {
    "name": "ipython",
    "version": 3
   },
   "file_extension": ".py",
   "mimetype": "text/x-python",
   "name": "python",
   "nbconvert_exporter": "python",
   "pygments_lexer": "ipython3",
   "version": "3.10.6"
  },
  "vscode": {
   "interpreter": {
    "hash": "916dbcbb3f70747c44a77c7bcd40155683ae19c65e1c03b4aa3499c5328201f1"
   }
  }
 },
 "nbformat": 4,
 "nbformat_minor": 4
}
