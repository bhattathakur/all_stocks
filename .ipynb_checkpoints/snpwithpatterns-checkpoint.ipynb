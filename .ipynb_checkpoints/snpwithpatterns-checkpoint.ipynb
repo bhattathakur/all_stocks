{
 "cells": [
  {
   "cell_type": "markdown",
   "id": "7d5a4922-d437-4015-9883-066818be95d2",
   "metadata": {},
   "source": [
    "# SNP "
   ]
  },
  {
   "cell_type": "code",
   "execution_count": null,
   "id": "07078417-ab11-4657-bd3c-da17f1ca0d86",
   "metadata": {},
   "outputs": [],
   "source": [
    "import pandas as pd"
   ]
  },
  {
   "cell_type": "code",
   "execution_count": null,
   "id": "347ca7c6-82e0-498f-857d-38d77dc94e71",
   "metadata": {},
   "outputs": [],
   "source": [
    "df=pd.read_csv('/home/thakur/test/combined/all_snp.csv')"
   ]
  },
  {
   "cell_type": "code",
   "execution_count": null,
   "id": "f3ffcb32-43b2-4803-b8a2-2a7dfe6c8acc",
   "metadata": {},
   "outputs": [],
   "source": [
    "def return_query(qr):\n",
    "    return df.query(qr).sort_values(by='CP').reset_index(drop=True)"
   ]
  },
  {
   "cell_type": "code",
   "execution_count": null,
   "id": "ae0b82b6-6f46-4297-b112-db4d72a9f6a1",
   "metadata": {},
   "outputs": [],
   "source": [
    "df"
   ]
  },
  {
   "cell_type": "code",
   "execution_count": null,
   "id": "51cabf0a-cec4-41cd-be25-0e5e8375e347",
   "metadata": {},
   "outputs": [],
   "source": [
    "df.query('SMA5 > SMA21')\\\n",
    ".sort_values(by='CP')\\\n",
    ".reset_index(drop=True)\\\n",
    "\n"
   ]
  },
  {
   "cell_type": "code",
   "execution_count": null,
   "id": "e5334cfc-a1d1-4155-8f99-0d616e6704e3",
   "metadata": {},
   "outputs": [],
   "source": [
    "return_query('RSI>70')\n"
   ]
  },
  {
   "cell_type": "code",
   "execution_count": null,
   "id": "5b0eb13d-7fdc-41c2-a434-9fcfa58218d5",
   "metadata": {},
   "outputs": [],
   "source": [
    "return_query('RSI<30')"
   ]
  },
  {
   "cell_type": "code",
   "execution_count": null,
   "id": "b009c744-4411-4872-bf84-7ed3e02191ab",
   "metadata": {},
   "outputs": [],
   "source": [
    "return_query('RSI<30')"
   ]
  },
  {
   "cell_type": "code",
   "execution_count": null,
   "id": "9f811543-8eea-4aba-b912-532e237c18e0",
   "metadata": {},
   "outputs": [],
   "source": []
  }
 ],
 "metadata": {
  "kernelspec": {
   "display_name": "Python 3 (ipykernel)",
   "language": "python",
   "name": "python3"
  },
  "language_info": {
   "codemirror_mode": {
    "name": "ipython",
    "version": 3
   },
   "file_extension": ".py",
   "mimetype": "text/x-python",
   "name": "python",
   "nbconvert_exporter": "python",
   "pygments_lexer": "ipython3",
   "version": "3.10.6"
  }
 },
 "nbformat": 4,
 "nbformat_minor": 5
}
