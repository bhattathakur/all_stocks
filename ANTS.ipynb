{
 "cells": [
  {
   "cell_type": "markdown",
   "id": "b0342410-3888-48d0-b66b-eb7e205f21a2",
   "metadata": {},
   "source": [
    "# David Ryan's ANTS methond\n",
    "- 20-25 % increase in price for 15 days\n",
    "- 20-25 % increase in volume for 15 days\n",
    "- 12 out of 15 days up"
   ]
  },
  {
   "cell_type": "code",
   "execution_count": null,
   "id": "b00aafc0-7d21-4557-9146-fa361fae82b7",
   "metadata": {},
   "outputs": [],
   "source": [
    "# The goal is to determine if the average volume over the 15 day range is greater than the 50-day average volume before the range.\n",
    "# A couple of things to consider. Your range shows 12 days, all calculations are based on using all 15 days in the range.\n",
    "#Also, the % change is not simply the move from the start to the end of the range, \n",
    "#it's calculated as the average change over the range. If you take all 15 closes, \n",
    "#get the average and compare to close before the range, the % change is < 20%\n",
    "# https://www.tradingview.com/script/uEaFv7tm-Ants-Momentum-Volume-and-Price-MVP/"
   ]
  },
  {
   "cell_type": "code",
   "execution_count": null,
   "id": "8b177d26-d5f7-4d22-8dcf-c12e5cbc7e68",
   "metadata": {},
   "outputs": [],
   "source": [
    "import os\n",
    "import pandas as pd"
   ]
  },
  {
   "cell_type": "code",
   "execution_count": null,
   "id": "e2e7f72c-e32b-499d-a821-2a645dc3c501",
   "metadata": {},
   "outputs": [],
   "source": []
  },
  {
   "cell_type": "code",
   "execution_count": null,
   "id": "4ec6f896-b42d-4b19-b293-18f6c90f4991",
   "metadata": {},
   "outputs": [],
   "source": [
    "for dirs in ['mega']:\n",
    "    main_root=f'/home/thakur/test/{dirs}'\n",
    "    stocks=os.listdir(main_root)\n",
    "    #stocks=os.listdir(f'/home/thakur/test/{dirs}')\n",
    "    print(stocks)"
   ]
  },
  {
   "cell_type": "code",
   "execution_count": null,
   "id": "c06cf52d-b992-4adf-80de-9fddba9580b1",
   "metadata": {},
   "outputs": [],
   "source": [
    "for k,i in enumerate(stocks):\n",
    "    if k!=0:continue\n",
    "    print(f'{k}')\n",
    "    file=f'{main_root}/{i}'\n",
    "    print(f'{file}')"
   ]
  },
  {
   "cell_type": "code",
   "execution_count": null,
   "id": "aae4f4a5-dd6f-4dfe-b2d7-dcaa27258ef1",
   "metadata": {},
   "outputs": [],
   "source": [
    "file"
   ]
  },
  {
   "cell_type": "code",
   "execution_count": null,
   "id": "fbb87f8e-6633-484c-8473-196e55d772a0",
   "metadata": {},
   "outputs": [],
   "source": [
    "df=pd.read_csv(file)"
   ]
  },
  {
   "cell_type": "code",
   "execution_count": null,
   "id": "f41385f2-61cc-4f93-b9bc-ce816bfe374b",
   "metadata": {},
   "outputs": [],
   "source": [
    "def get_sub_df(df,begin=0):\n",
    "    '''\n",
    "    returns two dfs temp_head and temp_tail\n",
    "    '''\n",
    "    temp_df=df.tail(65+begin)\n",
    "    temp_df=temp_df.head(65)\n",
    "    temp_head_vol=temp_df.head(50).Volume.mean() #for average volume\n",
    "    temp_tail=temp_df.tail(16) #for price and volume\n",
    "    return temp_head_vol,temp_tail\n",
    "    "
   ]
  },
  {
   "cell_type": "code",
   "execution_count": null,
   "id": "3e254d48-6b9c-4b21-a081-e7a9a0e018cd",
   "metadata": {},
   "outputs": [],
   "source": [
    "def get_15_day_status(temp_df):\n",
    "    #up for at least 12 out of 15 days\n",
    "    temp_test=temp_df['Adj Close']-temp_df.shift(1)['Adj Close']\n",
    "    return sum(temp_test.tail(15)>0)>11"
   ]
  },
  {
   "cell_type": "code",
   "execution_count": null,
   "id": "1a55a9dd-3c70-44fe-a01e-030bc33f10a1",
   "metadata": {},
   "outputs": [],
   "source": [
    "def get_volume_status(temp_df,vol):\n",
    "    return temp_df.tail(15).Volume.mean()>1.20*vol"
   ]
  },
  {
   "cell_type": "code",
   "execution_count": null,
   "id": "dbd89c6b-7b9c-4903-9e53-afc8a472c6c2",
   "metadata": {},
   "outputs": [],
   "source": [
    "def get_increment_status(temp_df):\n",
    "    first=temp_df.head(1)['Adj Close'].values[0]\n",
    "    last=temp_df.tail(1)['Adj Close'].values[0]\n",
    "    #print(f'first: {first}')\n",
    "    #print(f'last : {last}')\n",
    "    \n",
    "    increments=(last-first)*100/first\n",
    "    #print(f'increments: {increments}')\n",
    "    return increments>20.0 and increments<25.0\n",
    "    "
   ]
  },
  {
   "cell_type": "code",
   "execution_count": null,
   "id": "a7107b12-f7b4-4eba-b60b-1c2b2272fa3a",
   "metadata": {},
   "outputs": [],
   "source": [
    "\n",
    "def check_all_in_dir(dirs):\n",
    "    main_root=f'/home/thakur/test/{dirs}'\n",
    "    print(f'Working Dir: {main_root}')\n",
    "    stocks=os.listdir(main_root)\n",
    "    #stocks=os.listdir(f'/home/thakur/test/{dirs}')\n",
    "    ticker=[];days_up=[];volume_up=[];price_up=[]\n",
    "    #print(stocks)\n",
    "    for i in stocks:\n",
    "        file=f'{main_root}/{i}'\n",
    "        #print(f'{file}')\n",
    "        df=pd.read_csv(file)\n",
    "        #50 day mean volume and tail df\n",
    "        vol,tail=get_sub_df(df)\n",
    "        \n",
    "        day_up=get_15_day_status(tail)\n",
    "        tail=tail.tail(15)\n",
    "        vol_up=get_volume_status(tail,vol)\n",
    "        increment_status=get_increment_status(tail)\n",
    "        \n",
    "        ticker.append(i.split('.')[0])\n",
    "        days_up.append(day_up)\n",
    "        volume_up.append(vol_up)\n",
    "        price_up.append(increment_status)\n",
    "        \n",
    "    zipped=list(zip(ticker,days_up,volume_up,price_up))\n",
    "    df = pd.DataFrame(zipped, columns=['TICKER', 'DAYS_UP', 'VOLUME_UP','INCREMENT']).reset_index(drop=True)\n",
    "\n",
    "    return df\n",
    "        \n",
    "    "
   ]
  },
  {
   "cell_type": "code",
   "execution_count": null,
   "id": "1b5c418d-a12c-4e4a-8145-89db1d23f298",
   "metadata": {},
   "outputs": [],
   "source": [
    "my_list=['mega','medium','large','small','micro','nano']\n",
    "condition='DAYS_UP & VOLUME_UP & INCREMENT'\n",
    "for i,k in enumerate(my_list,start=1):\n",
    "    print(40*'=')\n",
    "    print(f\"\\n{i}/{len(my_list)} Working With {k.upper()}..\\n\")\n",
    "    \n",
    "    df_m=check_all_in_dir(k)\n",
    "   \n",
    "    df_tem=df_m.query(condition).reset_index(drop=True)\n",
    "    \n",
    "    if not df_tem.empty:\n",
    "        print(f'Saved into the file: david_{k}.csv\\n')\n",
    "        df_tem.to_csv(f'david_{k}.csv',index=False)\n",
    "        print(df_tem)\n",
    "    "
   ]
  },
  {
   "cell_type": "code",
   "execution_count": null,
   "id": "ac3d4aca-6462-45ca-8d39-3e13fb41a2f7",
   "metadata": {},
   "outputs": [],
   "source": []
  }
 ],
 "metadata": {
  "kernelspec": {
   "display_name": "Python 3 (ipykernel)",
   "language": "python",
   "name": "python3"
  },
  "language_info": {
   "codemirror_mode": {
    "name": "ipython",
    "version": 3
   },
   "file_extension": ".py",
   "mimetype": "text/x-python",
   "name": "python",
   "nbconvert_exporter": "python",
   "pygments_lexer": "ipython3",
   "version": "3.10.6"
  }
 },
 "nbformat": 4,
 "nbformat_minor": 5
}
