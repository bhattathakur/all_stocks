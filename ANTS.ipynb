{
 "cells": [
  {
   "cell_type": "markdown",
   "id": "b0342410-3888-48d0-b66b-eb7e205f21a2",
   "metadata": {},
   "source": [
    "# David Ryan's ANTS methond\n",
    "- 20-25 % increase in price for 15 days\n",
    "- 20-25 % increase in volume for 15 days\n",
    "- 12 out of 15 days up"
   ]
  },
  {
   "cell_type": "code",
   "execution_count": null,
   "id": "b00aafc0-7d21-4557-9146-fa361fae82b7",
   "metadata": {},
   "outputs": [],
   "source": [
    "# The goal is to determine if the average volume over the 15 day range is greater than the 50-day average volume before the range.\n",
    "# A couple of things to consider. Your range shows 12 days, all calculations are based on using all 15 days in the range.\n",
    "#Also, the % change is not simply the move from the start to the end of the range, \n",
    "#it's calculated as the average change over the range. If you take all 15 closes, \n",
    "#get the average and compare to close before the range, the % change is < 20%\n",
    "# https://www.tradingview.com/script/uEaFv7tm-Ants-Momentum-Volume-and-Price-MVP/"
   ]
  }
 ],
 "metadata": {
  "kernelspec": {
   "display_name": "Python 3 (ipykernel)",
   "language": "python",
   "name": "python3"
  },
  "language_info": {
   "codemirror_mode": {
    "name": "ipython",
    "version": 3
   },
   "file_extension": ".py",
   "mimetype": "text/x-python",
   "name": "python",
   "nbconvert_exporter": "python",
   "pygments_lexer": "ipython3",
   "version": "3.10.6"
  }
 },
 "nbformat": 4,
 "nbformat_minor": 5
}
