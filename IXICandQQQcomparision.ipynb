{
 "cells": [
  {
   "cell_type": "code",
   "execution_count": null,
   "id": "9d4ce542-cb0e-47ee-9360-907c4b48fd88",
   "metadata": {},
   "outputs": [],
   "source": [
    "%matplotlib inline\n",
    "import pandas as pd\n",
    "import yfinance as yf\n",
    "import numpy as np\n",
    "import mplfinance as mpf\n",
    "import matplotlib.pyplot as plt\n",
    "import talib as ta\n",
    "import seaborn as sns\n",
    "from datetime import datetime\n",
    "sns.set_theme()\n",
    "\n",
    "pd.set_option('display.max_columns', None);pd.set_option('display.max_rows', None)"
   ]
  },
  {
   "cell_type": "code",
   "execution_count": null,
   "id": "d49c066d-19e5-451d-ab83-8316488071e7",
   "metadata": {},
   "outputs": [],
   "source": [
    "df=yf.download(tickers = \"SPY ^SPX\",  # list of tickers\n",
    "            period = \"1y\",         # time period\n",
    "            interval = \"1d\",       # trading interval\n",
    "            prepost = False,       # download pre/post market hours data?\n",
    "            repair = True)         # repair obvious price errors e.g. 100x?"
   ]
  },
  {
   "cell_type": "code",
   "execution_count": null,
   "id": "9919578d-b089-4876-b021-5af8f29ca1c5",
   "metadata": {},
   "outputs": [],
   "source": [
    "df=df[::-1]\n",
    "df.head()"
   ]
  },
  {
   "cell_type": "code",
   "execution_count": null,
   "id": "17da4141-e4a6-41a6-a320-a7852c6b7c8c",
   "metadata": {},
   "outputs": [],
   "source": [
    "df.columns"
   ]
  },
  {
   "cell_type": "code",
   "execution_count": null,
   "id": "5dd851f9-7beb-48ca-8a4b-9c01a5981495",
   "metadata": {},
   "outputs": [],
   "source": [
    "df_close=df['Adj Close']"
   ]
  },
  {
   "cell_type": "code",
   "execution_count": null,
   "id": "525eb0ef-f72c-4eaf-9d1c-00d6ec570fdf",
   "metadata": {},
   "outputs": [],
   "source": [
    "df_close.head()"
   ]
  },
  {
   "cell_type": "code",
   "execution_count": null,
   "id": "dfb0d7a5-ee3b-4eb1-930b-8a3daa5ba931",
   "metadata": {},
   "outputs": [],
   "source": [
    "val1=df_close.columns[0]\n",
    "val1"
   ]
  },
  {
   "cell_type": "code",
   "execution_count": null,
   "id": "e22d61c5-63ad-4bb9-b003-0ad9b24aa912",
   "metadata": {},
   "outputs": [],
   "source": [
    "df_close[val1].plot()\n"
   ]
  },
  {
   "cell_type": "code",
   "execution_count": null,
   "id": "3e9943ce-d061-46f7-b385-a34c7d95b261",
   "metadata": {},
   "outputs": [],
   "source": [
    "val2=df_close.columns[1]\n",
    "val2"
   ]
  },
  {
   "cell_type": "code",
   "execution_count": null,
   "id": "00f50a1a-21de-4b76-86cc-461d6afe42f0",
   "metadata": {},
   "outputs": [],
   "source": [
    "df_close[val2].plot()"
   ]
  },
  {
   "cell_type": "code",
   "execution_count": null,
   "id": "6334dd46-cc1c-46b1-8de6-02fcadc1b86f",
   "metadata": {},
   "outputs": [],
   "source": [
    "val1_list=df_close[val1].to_list()\n",
    "plt.plot(val1_list)"
   ]
  },
  {
   "cell_type": "code",
   "execution_count": null,
   "id": "35c16c7f-03bc-4ab0-829b-e3ccb1943b56",
   "metadata": {},
   "outputs": [],
   "source": [
    "val2_list=df_close[val2].to_list()\n",
    "plt.plot(val2_list)"
   ]
  },
  {
   "cell_type": "code",
   "execution_count": null,
   "id": "e8834936-b172-4e0d-b4fe-3870dd7e6fcf",
   "metadata": {},
   "outputs": [],
   "source": [
    "fit1=np.polyfit(df_close[val2],df_close[val1],deg=1)"
   ]
  },
  {
   "cell_type": "code",
   "execution_count": null,
   "id": "1806554d-9af1-4101-88d4-5198694e50d7",
   "metadata": {},
   "outputs": [],
   "source": [
    "fit1"
   ]
  },
  {
   "cell_type": "code",
   "execution_count": null,
   "id": "39754714-003c-4c1e-a7ec-71c266a9feab",
   "metadata": {},
   "outputs": [],
   "source": [
    "m=fit1[0]\n",
    "c=fit1[1]\n",
    "print(f\"\"\"\n",
    "slope    :   {m:<0.2f}\n",
    "intercept: {c:<0.2f}\n",
    "\"\"\")"
   ]
  },
  {
   "cell_type": "code",
   "execution_count": null,
   "id": "6abe4bdb-4a62-4d3d-803d-1f86171c9819",
   "metadata": {},
   "outputs": [],
   "source": [
    "#coorlation\n",
    "cor=df_close.corr()\n",
    "cor"
   ]
  },
  {
   "cell_type": "code",
   "execution_count": null,
   "id": "5bb6423a-c234-4134-a22a-61a1a5534fb6",
   "metadata": {},
   "outputs": [],
   "source": [
    "#correlated value\n",
    "cor_list=cor['^SPX']\n",
    "cor_value=cor_val[0]\n",
    "print(f\"Corrlated value: {cor_value:0.3f}\")"
   ]
  },
  {
   "cell_type": "code",
   "execution_count": null,
   "id": "c2113569-319d-4fb6-b363-2dbd7080dacc",
   "metadata": {},
   "outputs": [],
   "source": [
    "df_close['corr']=100/99.6*df_close['^SPX']*m+c\n",
    "df_close.head(20)"
   ]
  },
  {
   "cell_type": "code",
   "execution_count": null,
   "id": "f2150a4f-41fc-48b2-9d32-b957ac221b0b",
   "metadata": {},
   "outputs": [],
   "source": [
    "#considering 20 days\n",
    "df_close['diff']=df_close['corr']-df_close['SPY']"
   ]
  },
  {
   "cell_type": "code",
   "execution_count": null,
   "id": "5775673d-2ce5-485a-a1ba-97126cf3dd0e",
   "metadata": {},
   "outputs": [],
   "source": [
    "df_close.head(20)"
   ]
  },
  {
   "cell_type": "code",
   "execution_count": null,
   "id": "c1e7c763-b8de-4026-bdf8-8cb57ba00106",
   "metadata": {},
   "outputs": [],
   "source": [
    "#mean differences for days\n",
    "days=365\n",
    "mean=df_close['diff'].head(days).mean()\n",
    "print(f\"Mean for {days} days: {mean:0.2f}\")"
   ]
  },
  {
   "cell_type": "code",
   "execution_count": null,
   "id": "eb45ea33-5ffc-4feb-9b1d-b8bd4e8243d3",
   "metadata": {},
   "outputs": [],
   "source": [
    "fit=np.polyfit(val1_list,val2_list,deg=1)"
   ]
  },
  {
   "cell_type": "code",
   "execution_count": null,
   "id": "e57cd5c9-b312-4476-b950-519f75a274fb",
   "metadata": {},
   "outputs": [],
   "source": [
    "fit"
   ]
  },
  {
   "cell_type": "code",
   "execution_count": null,
   "id": "2126e88c-5434-47d2-9099-d7fba8b20587",
   "metadata": {},
   "outputs": [],
   "source": [
    "def qqq_values(ixic_value):\n",
    "    return ixic_value*fit[0]+fit[1]"
   ]
  },
  {
   "cell_type": "code",
   "execution_count": null,
   "id": "71d71d90-bfdd-46d3-8db4-f084baff08d5",
   "metadata": {},
   "outputs": [],
   "source": [
    "q_val=qqq_values(13492.52)#*100/0.979345\n",
    "q_val"
   ]
  },
  {
   "cell_type": "code",
   "execution_count": null,
   "id": "846192cb-2806-40e2-9d11-8b1d32a8b3be",
   "metadata": {},
   "outputs": [],
   "source": [
    "q_val*100/97.9345"
   ]
  },
  {
   "cell_type": "code",
   "execution_count": null,
   "id": "a722c8e3-c1eb-45a9-9f60-d480090de5c1",
   "metadata": {},
   "outputs": [],
   "source": [
    "#corrrelation\n",
    "df_close.corr()"
   ]
  },
  {
   "cell_type": "code",
   "execution_count": null,
   "id": "635f0185-cba7-4442-b177-b84c0df3f60a",
   "metadata": {},
   "outputs": [],
   "source": [
    "df_close.head()"
   ]
  },
  {
   "cell_type": "code",
   "execution_count": null,
   "id": "d546c526-f8c8-4ed6-a3e4-cccd7daa8469",
   "metadata": {},
   "outputs": [],
   "source": []
  },
  {
   "cell_type": "code",
   "execution_count": null,
   "id": "900b562c-1dfb-4482-be6d-6137e65cf048",
   "metadata": {},
   "outputs": [],
   "source": [
    "df_close['corr']=(df_close[val2]*fit[0]+fit[1])\n",
    "df_close\n",
    "#df_close['QQQ_diff']=df_close['QQQ_corr']-df['QQQ']"
   ]
  },
  {
   "cell_type": "code",
   "execution_count": null,
   "id": "a8ee00a4-6255-480c-b5c1-857650ef83f9",
   "metadata": {},
   "outputs": [],
   "source": [
    "\n",
    "df_close['QQQ_diff']=df_close['QQQ_corr']-df_close['QQQ']"
   ]
  },
  {
   "cell_type": "code",
   "execution_count": null,
   "id": "d113af1b-f2c0-4019-817e-f1a6beb4810d",
   "metadata": {},
   "outputs": [],
   "source": [
    "df_close.head(20)"
   ]
  },
  {
   "cell_type": "code",
   "execution_count": null,
   "id": "39613b5e-f847-446b-992d-e01c98e74265",
   "metadata": {},
   "outputs": [],
   "source": [
    "df_close['QQQ'].plot()\n",
    "df_close['QQQ_corr'].plot()"
   ]
  },
  {
   "cell_type": "code",
   "execution_count": null,
   "id": "cf4b892b-1f45-43c3-9677-78147150b6ca",
   "metadata": {},
   "outputs": [],
   "source": []
  }
 ],
 "metadata": {
  "kernelspec": {
   "display_name": "Python 3 (ipykernel)",
   "language": "python",
   "name": "python3"
  },
  "language_info": {
   "codemirror_mode": {
    "name": "ipython",
    "version": 3
   },
   "file_extension": ".py",
   "mimetype": "text/x-python",
   "name": "python",
   "nbconvert_exporter": "python",
   "pygments_lexer": "ipython3",
   "version": "3.10.6"
  }
 },
 "nbformat": 4,
 "nbformat_minor": 5
}
