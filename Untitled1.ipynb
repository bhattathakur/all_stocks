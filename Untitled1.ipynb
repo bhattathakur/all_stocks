{
 "cells": [
  {
   "cell_type": "code",
   "execution_count": null,
   "id": "29b077e5-6c96-4b11-8f27-e14f5b54b084",
   "metadata": {},
   "outputs": [],
   "source": [
    "import pandas as pd\n",
    "import yfinance as yf\n",
    "import numpy as np\n",
    "import matplotlib.pyplot as plt"
   ]
  },
  {
   "cell_type": "code",
   "execution_count": null,
   "id": "066d8bd2-7903-43d8-bc42-bac143ca5140",
   "metadata": {},
   "outputs": [],
   "source": [
    "ticker_df=pd.read_html(\"https://en.wikipedia.org/wiki/Nasdaq-100\")[4]"
   ]
  },
  {
   "cell_type": "code",
   "execution_count": null,
   "id": "c0552fb0-342b-43f0-93be-45263a923e40",
   "metadata": {},
   "outputs": [],
   "source": [
    "ticker_df"
   ]
  },
  {
   "cell_type": "code",
   "execution_count": null,
   "id": "f3f70bc4-4e8e-4802-af40-ee61dbbc447b",
   "metadata": {},
   "outputs": [],
   "source": [
    "tickers=ticker_df.Symbol.to_list()"
   ]
  },
  {
   "cell_type": "code",
   "execution_count": null,
   "id": "b266b158-8ec5-4ed5-95de-9f454e48b2b4",
   "metadata": {},
   "outputs": [],
   "source": [
    "df=yf.download(tickers,start='2010-01-01')"
   ]
  },
  {
   "cell_type": "code",
   "execution_count": null,
   "id": "1395b34f-a738-4b4f-9d89-cee857a42b16",
   "metadata": {},
   "outputs": [],
   "source": [
    "df=df['Adj Close'].dropna(axis=1)"
   ]
  },
  {
   "cell_type": "code",
   "execution_count": null,
   "id": "f0fc9944-71dc-4a0e-968e-bc8d3209220f",
   "metadata": {},
   "outputs": [],
   "source": [
    "df"
   ]
  },
  {
   "cell_type": "code",
   "execution_count": null,
   "id": "db36cd0e-39fa-4cf9-b53e-2f142851b288",
   "metadata": {},
   "outputs": [],
   "source": [
    "mtl=(df.pct_change()+1)[1:].resample('M').prod()"
   ]
  },
  {
   "cell_type": "code",
   "execution_count": null,
   "id": "f4447252-07f2-4463-bb2b-144d302f2c20",
   "metadata": {},
   "outputs": [],
   "source": [
    "mtl"
   ]
  },
  {
   "cell_type": "code",
   "execution_count": null,
   "id": "90b8057c-8711-4128-891a-0b8c46ddbe6a",
   "metadata": {},
   "outputs": [],
   "source": [
    "def get_rolling_ret(df,n):\n",
    "    return df.rolling(n).apply(np.prod)"
   ]
  },
  {
   "cell_type": "code",
   "execution_count": null,
   "id": "537719d5-fe62-4441-9d04-6de0bdd6d156",
   "metadata": {},
   "outputs": [],
   "source": [
    "ret_12,ret_6,ret_3=get_rolling_ret(mtl,12),get_rolling_ret(mtl,6),get_rolling_ret(mtl,3)"
   ]
  },
  {
   "cell_type": "code",
   "execution_count": null,
   "id": "a627ecbc-76ff-4575-a4b1-11b989d5460c",
   "metadata": {},
   "outputs": [],
   "source": [
    "ret_12"
   ]
  },
  {
   "cell_type": "code",
   "execution_count": null,
   "id": "a6543a0d-b1d6-4c4d-b646-2df322e24942",
   "metadata": {},
   "outputs": [],
   "source": [
    "ret_6"
   ]
  },
  {
   "cell_type": "code",
   "execution_count": null,
   "id": "48d275a2-07ff-4f38-a966-72bc78350573",
   "metadata": {},
   "outputs": [],
   "source": [
    "ret_3"
   ]
  },
  {
   "cell_type": "code",
   "execution_count": null,
   "id": "042b6e8c-42f8-4065-b1e4-48c3cceed172",
   "metadata": {},
   "outputs": [],
   "source": [
    "top_50=ret_12.loc['2010-12-31'].nlargest(50).index"
   ]
  },
  {
   "cell_type": "code",
   "execution_count": null,
   "id": "70fc61c7-d7f4-41c8-b438-6d850ddf1bff",
   "metadata": {},
   "outputs": [],
   "source": [
    "def get_top(date):\n",
    "    top_50=ret_12.loc[date].nlargest(50).index\n",
    "    top_30=ret_6.loc[date,top_50].nlargest(30).index\n",
    "    top_10=ret_3.loc[date,top_30].nlargest(10).index\n",
    "    return top_10"
   ]
  },
  {
   "cell_type": "code",
   "execution_count": null,
   "id": "95a3dffd-3d68-44a7-ab95-e5b100b8c704",
   "metadata": {},
   "outputs": [],
   "source": [
    "get_top('2010-12-31')"
   ]
  },
  {
   "cell_type": "code",
   "execution_count": null,
   "id": "87f57e3c-7ea6-424f-a71a-34c6e15a48ef",
   "metadata": {},
   "outputs": [],
   "source": [
    "get_top('2022-11-30')"
   ]
  },
  {
   "cell_type": "code",
   "execution_count": null,
   "id": "1150f7da-cabb-4ee7-8734-ed65908fd43c",
   "metadata": {},
   "outputs": [],
   "source": [
    "portfolio=mtl.loc['2010-12-31':,get_top('2010-12-31')][1:2]"
   ]
  },
  {
   "cell_type": "code",
   "execution_count": null,
   "id": "5c0e24b9-7981-46ef-b951-fc93d8f51f3e",
   "metadata": {},
   "outputs": [],
   "source": [
    "portfolio.mean(axis=1).values[0]"
   ]
  },
  {
   "cell_type": "code",
   "execution_count": null,
   "id": "76cc6cbd-3228-4ade-bb76-afbabead1b79",
   "metadata": {},
   "outputs": [],
   "source": [
    "def pf_performance(date):\n",
    "    portfolio=mtl.loc[date:,get_top(date)][1:2]\n",
    "    return portfolio.mean(axis=1).values[0]"
   ]
  },
  {
   "cell_type": "code",
   "execution_count": null,
   "id": "5a682f52-2663-4057-9b10-5ed0cca94eb6",
   "metadata": {},
   "outputs": [],
   "source": [
    "pf_performance('2010-12-31')"
   ]
  },
  {
   "cell_type": "code",
   "execution_count": null,
   "id": "3582443f-d205-4d3e-8ae2-9efe70f9481d",
   "metadata": {},
   "outputs": [],
   "source": [
    "mtl"
   ]
  },
  {
   "cell_type": "code",
   "execution_count": null,
   "id": "9a1df656-ae20-425f-a454-70d222a34956",
   "metadata": {},
   "outputs": [],
   "source": [
    "mtl.index[:-1]"
   ]
  },
  {
   "cell_type": "code",
   "execution_count": null,
   "id": "341e6ff9-6e6c-451b-9adc-2e42f533e0e0",
   "metadata": {},
   "outputs": [],
   "source": [
    "returns=[]"
   ]
  },
  {
   "cell_type": "code",
   "execution_count": null,
   "id": "50874d0d-d79a-47f7-9313-3b4110ed2981",
   "metadata": {},
   "outputs": [],
   "source": [
    "\n",
    "for date in mtl.index[:-1]:\n",
    "    returns.append(pf_performance(date))"
   ]
  },
  {
   "cell_type": "code",
   "execution_count": null,
   "id": "f4f1e41c-643d-431d-9f5a-c92d3f90ac47",
   "metadata": {},
   "outputs": [],
   "source": [
    "fig,ax=plt.subplots()\n",
    "ax=pd.Series(returns,index=mtl.index[1:]).cumprod().plot(x='Date')\n",
    "#returns.cumprod().plot()"
   ]
  },
  {
   "cell_type": "code",
   "execution_count": null,
   "id": "88bf8ab7-8da7-4e7a-bcf1-e5e705b86c96",
   "metadata": {},
   "outputs": [],
   "source": [
    "nas_df=yf.download('^IXIC',start='2010-01-01')"
   ]
  },
  {
   "cell_type": "code",
   "execution_count": null,
   "id": "30353527-16ed-406f-8451-d83ab081fbd2",
   "metadata": {},
   "outputs": [],
   "source": [
    "(nas_df['Adj Close'].pct_change()+1).cumprod().plot(x='Date',ax=ax)\n",
    "plt.show()\n"
   ]
  },
  {
   "cell_type": "code",
   "execution_count": null,
   "id": "637e4cdd-8af9-4f82-99d1-a10942ed0a0e",
   "metadata": {},
   "outputs": [],
   "source": []
  }
 ],
 "metadata": {
  "kernelspec": {
   "display_name": "Python 3 (ipykernel)",
   "language": "python",
   "name": "python3"
  },
  "language_info": {
   "codemirror_mode": {
    "name": "ipython",
    "version": 3
   },
   "file_extension": ".py",
   "mimetype": "text/x-python",
   "name": "python",
   "nbconvert_exporter": "python",
   "pygments_lexer": "ipython3",
   "version": "3.10.6"
  }
 },
 "nbformat": 4,
 "nbformat_minor": 5
}
