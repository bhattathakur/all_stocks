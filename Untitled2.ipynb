{
 "cells": [
  {
   "cell_type": "code",
   "execution_count": null,
   "id": "8e9633ed-f800-407d-8cfa-4eaa231f8dd2",
   "metadata": {},
   "outputs": [],
   "source": [
    "import pandas as pd\n",
    "from IPython.display import HTML"
   ]
  },
  {
   "cell_type": "markdown",
   "id": "400466fb-3525-4aed-a6e5-9067582cfd25",
   "metadata": {},
   "source": [
    "#WSJ UPGRADES"
   ]
  },
  {
   "cell_type": "code",
   "execution_count": null,
   "id": "54e2a3e2-97c7-4c1a-b1f7-ba63afc94151",
   "metadata": {},
   "outputs": [],
   "source": [
    "wsj_up='/home/thakur/stock_information/wsjupgrades.txt'\n",
    "wsj_do='/home/thakur/stock_information/wsjdowngrades.txt'"
   ]
  },
  {
   "cell_type": "code",
   "execution_count": null,
   "id": "3c12577c-e59b-44e9-94a1-4e129be22e5c",
   "metadata": {
    "tags": []
   },
   "outputs": [],
   "source": [
    "df=pd.read_csv(wsj_up,skiprows=1,sep='\\t')"
   ]
  },
  {
   "cell_type": "code",
   "execution_count": null,
   "id": "93a101ff-7d22-4010-9455-d277c3670533",
   "metadata": {
    "tags": []
   },
   "outputs": [],
   "source": [
    "y_link='https://finance.yahoo.com/quote/{}?p=AAPL&.tsrc=fin-srch'\n",
    "n_link='https://www.nasdaq.com/market-activity/stocks/{}'"
   ]
  },
  {
   "cell_type": "code",
   "execution_count": null,
   "id": "b85ce61d-6288-4a47-b3fd-3327598e31be",
   "metadata": {},
   "outputs": [],
   "source": [
    "df"
   ]
  },
  {
   "cell_type": "code",
   "execution_count": null,
   "id": "dfdf1e73-cbd1-49fa-a1b1-2a1508653762",
   "metadata": {},
   "outputs": [],
   "source": [
    "df['Y-LINK']=df.TICKER.apply(lambda x:y_link.format(x))\n",
    "df['N-LINK']=df.TICKER.apply(lambda x:y_link.format(x))"
   ]
  },
  {
   "cell_type": "code",
   "execution_count": null,
   "id": "1b928236-1ed1-4693-b21e-738d9acfc67a",
   "metadata": {},
   "outputs": [],
   "source": [
    "HTML(df.to_html(render_links=True, escape=False))"
   ]
  },
  {
   "cell_type": "markdown",
   "id": "06ad356f-a560-4b1b-83aa-cb95d58c3da3",
   "metadata": {},
   "source": [
    "# WSJ DOWNGRADES"
   ]
  },
  {
   "cell_type": "code",
   "execution_count": null,
   "id": "430e52a8-a30c-46d7-9cfd-e76f30666277",
   "metadata": {},
   "outputs": [],
   "source": [
    "df=pd.read_csv(wsj_do,skiprows=1,sep='\\t')"
   ]
  },
  {
   "cell_type": "code",
   "execution_count": null,
   "id": "8da336ed-ae0c-43f1-a591-0918a2bc8703",
   "metadata": {},
   "outputs": [],
   "source": [
    "df"
   ]
  },
  {
   "cell_type": "code",
   "execution_count": null,
   "id": "a3886ebc-bb2c-4a79-8f49-33691dfdec39",
   "metadata": {},
   "outputs": [],
   "source": [
    "df['Y-LINK']=df.TICKER.apply(lambda x:y_link.format(x))\n",
    "df['N-LINK']=df.TICKER.apply(lambda x:y_link.format(x))"
   ]
  },
  {
   "cell_type": "code",
   "execution_count": null,
   "id": "b280af37-5298-4779-999c-17a760a635c3",
   "metadata": {},
   "outputs": [],
   "source": [
    "\n",
    "HTML(df.to_html(render_links=True, escape=False))"
   ]
  },
  {
   "cell_type": "code",
   "execution_count": null,
   "id": "4337d745-cafc-4178-8bc2-49b47021a444",
   "metadata": {},
   "outputs": [],
   "source": []
  }
 ],
 "metadata": {
  "kernelspec": {
   "display_name": "Python 3 (ipykernel)",
   "language": "python",
   "name": "python3"
  },
  "language_info": {
   "codemirror_mode": {
    "name": "ipython",
    "version": 3
   },
   "file_extension": ".py",
   "mimetype": "text/x-python",
   "name": "python",
   "nbconvert_exporter": "python",
   "pygments_lexer": "ipython3",
   "version": "3.10.6"
  }
 },
 "nbformat": 4,
 "nbformat_minor": 5
}
