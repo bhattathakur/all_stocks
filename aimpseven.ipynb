{
 "cells": [
  {
   "cell_type": "code",
   "execution_count": null,
   "id": "3805d337-e573-418e-b0da-bdd6d9c93645",
   "metadata": {},
   "outputs": [],
   "source": [
    "#libraries\n",
    "\n",
    "import pandas as pd\n",
    "import numpy as np\n",
    "import mplfinance as mpf\n",
    "import matplotlib.pyplot as plt\n",
    "import talib as ta\n",
    "import seaborn as sns\n",
    "#from datetime import datetime\n",
    "import glob\n",
    "import os\n",
    "#import subprocess\n",
    "sns.set_theme()\n",
    "\n",
    "pd.set_option('display.max_columns', None);pd.set_option('display.max_rows', None)\n"
   ]
  },
  {
   "cell_type": "code",
   "execution_count": null,
   "id": "aa4a04e8-0132-44ee-9c1c-4a684b795b84",
   "metadata": {},
   "outputs": [],
   "source": [
    "def plot_with_mpl(root,tick,day=60,sty='classic',typ='candle'):\n",
    "    \"returns the candle stick of a stock tick for the given root file.\"\n",
    "\n",
    "    df=pd.read_csv(root+'/'+tick+'.csv').tail(day)\n",
    "    df['Date']=df['Date'].apply(lambda x:x.split()[0])\n",
    "\n",
    "    df['rsi']=ta.RSI(df['Close']);df['sma-5']=ta.SMA(df['Close'],5);df['sma-10']=ta.SMA(df['Close'],10)\n",
    "    #df.fillna(0,inplace=True)\n",
    "    apds = [ \n",
    "         mpf.make_addplot((df['rsi']),panel=1,color='r',secondary_y=True,type='line',width=0.5),\n",
    "         #mpf.make_addplot((df['sma-5']),color='g',type='line',width=0.2),\n",
    "         #mpf.make_addplot((df['sma-10']),color='r',type='line',width=0.2)\n",
    "       ]\n",
    "    df.Volume=df.Volume/10**6              #100k volume\n",
    "    df.Date=pd.to_datetime(df.Date)\n",
    "    df.set_index('Date',inplace=True)\n",
    "    fig,axes=mpf.plot(df,type=typ,mav=(5,10,21),volume=True,tight_layout=False,figratio=(80,36),figscale=1,\n",
    "                    style=sty,returnfig=True,addplot=apds,scale_width_adjustment=dict(volume=0.6,candle=0.8,lines=0.4))#,update_width_config=dict(candle_linewidth=1.75,candle_width=0.1))\n",
    "    axes[0].legend([\" \",\" \",\"5-SMA\",\"10-SMA\",\"21-SMA\"],loc='upper center')\n",
    "    #axes[0].legend(loc='upper left')\n",
    "    axes[0].set_title(tick)\n",
    "    mpf.show()\n",
    "\n",
    "# def make_clickable(url, name):\n",
    "#     return '{}\" rel=\"noopener noreferrer\" target=\"_blank\">{}'.format(url,name)\n",
    "\n",
    "def get_yahoo_link(ticker):\n",
    "    \"\"\"\n",
    "    Get the yahoo link\n",
    "    \"\"\"\n",
    "    #return '{}\" rel=\"noopener noreferrer\" target=\"_blank\">{}'.format(url,name)\n",
    "    url=\"https://finance.yahoo.com/quote/{}?p={}&.tsrc=fin-srch\"\n",
    "    #return '{}\" rel=\"noopener noreferrer\" target=\"_blank\">{}'.format(url,ticker)\n",
    "    return url.format(ticker,ticker)\n",
    "\n",
    "def short_industry(x):\n",
    "    temp=x.split()\n",
    "    if len(temp)>2:\n",
    "        return temp[0]+\"-\"+temp[1]\n",
    "    else:\n",
    "        return x\n"
   ]
  },
  {
   "cell_type": "code",
   "execution_count": null,
   "id": "b7ad277a-e127-42a3-aa8a-6692361bedd6",
   "metadata": {},
   "outputs": [],
   "source": [
    "def plot_all(j,plot=True):\n",
    "    #j=0 #nano\n",
    "    df=pd.read_csv(files[j]).drop(columns=['SMA150','SMA200PAST20','NAME']).sort_values(by='CP').reset_index(drop=True)\n",
    "    df['YAHOO']=df['TICK'].apply(lambda x:get_yahoo_link(x))#.apply(lambda x: yahoo_clickable(x, 'yahoo'))\n",
    "\n",
    "    #df_sector=reset_index(df_sector)\n",
    "    print(df.to_string())\n",
    "    tick=df['TICK'].to_list()\n",
    "    #sec=df_sector['SECTOR'].to_list()\n",
    "    root=roots[j]\n",
    "    if plot:\n",
    "        for c,i in enumerate(tick):\n",
    "        #file=root.format(cat[c],i)\n",
    "        #print(f\"file: {file}\")\n",
    "            print(f\"\\n\\n{df[df['TICK']==i].to_string()}\\n\")\n",
    "            plot_with_mpl(root,i,sty='default')"
   ]
  },
  {
   "cell_type": "code",
   "execution_count": null,
   "id": "939e9f6a-3ec3-4352-a157-ac132ab85d3d",
   "metadata": {},
   "outputs": [],
   "source": [
    "#create yfinance portfolio sample\n",
    "def yahoo_portfolio(df,save_name):\n",
    "    \"\"\"\n",
    "    returns the yfinance compatable portfolio template for given df name of save file\n",
    "    \"\"\"\n",
    "    cols=['Symbol','Current Price','Date', 'Time', 'Change', 'Open', 'High', 'Low', 'Volume', 'Trade Date',\n",
    "          'Purchase Price','Quantity','Commission','High Limit','Low Limit','Comment']\n",
    "\n",
    "    sym=list(df.TICKER)\n",
    "    dic_val=[sym]+14*[None] #14 None\n",
    "    my_dict=dict(zip(cols,dic_val)) #dictionary\n",
    "    my_df=pd.DataFrame.from_dict(my_dict)\n",
    "    my_df.to_csv(save_name+\".csv\")\n",
    "    print(f\"Created the yahoo template: {save_name}.csv from data frame !\")"
   ]
  },
  {
   "cell_type": "code",
   "execution_count": null,
   "id": "f3d54170-635e-4023-a2d0-1cf86617ccb7",
   "metadata": {},
   "outputs": [],
   "source": [
    "root='/home/thakur/test/combined/{}'\n"
   ]
  },
  {
   "cell_type": "code",
   "execution_count": null,
   "id": "f43106ac-78d1-4a7c-b8c5-1971c36b8679",
   "metadata": {},
   "outputs": [],
   "source": [
    "all_nasdaq='all_nasdaq.csv'\n",
    "#all_mark='all_mark.csv'"
   ]
  },
  {
   "cell_type": "markdown",
   "id": "5703f08a-c1d5-41e3-a91c-7ff92736d254",
   "metadata": {},
   "source": [
    "\n",
    "\n",
    "# ALL NASDAQ"
   ]
  },
  {
   "cell_type": "code",
   "execution_count": null,
   "id": "8c85b9ec-1add-4522-9ef9-5dbd7bc51084",
   "metadata": {},
   "outputs": [],
   "source": [
    "df_nasdaq=pd.read_csv(root.format(all_nasdaq))\n",
    "df_nasdaq.head()"
   ]
  },
  {
   "cell_type": "markdown",
   "id": "d9d5d541-fcf8-4bcf-9c7b-7873798274ba",
   "metadata": {},
   "source": [
    "# SELECTED"
   ]
  },
  {
   "cell_type": "code",
   "execution_count": null,
   "id": "2e3202ef-90b8-4b07-8bca-e9bafa8b48a5",
   "metadata": {},
   "outputs": [],
   "source": [
    "sel_list=['MSFT','AAPL','GOOGL','META','NVDA','TSLA','AMZN']"
   ]
  },
  {
   "cell_type": "code",
   "execution_count": null,
   "id": "f2bc26e2-740d-4600-b1cd-3b57c0f1cf8c",
   "metadata": {},
   "outputs": [],
   "source": [
    "#test=df_mark.TICK.to_list()\n",
    "df=df_nasdaq[df_nasdaq.TICKER.isin(sel_list)]\\\n",
    ".reset_index(drop=True)\n",
    "df.index+=1\n",
    "df"
   ]
  },
  {
   "cell_type": "markdown",
   "id": "63bd2d70-d764-4f40-b0d6-04dfff542756",
   "metadata": {},
   "source": [
    "# SORT BY RSI"
   ]
  },
  {
   "cell_type": "code",
   "execution_count": null,
   "id": "a34eb823-d439-478b-b49e-72575c15cd03",
   "metadata": {},
   "outputs": [],
   "source": [
    "by='RSI'\n",
    "df.sort_values(by=by,ascending=False).reset_index(drop=True)\n",
    "\n",
    "\n"
   ]
  },
  {
   "cell_type": "markdown",
   "id": "cc9d0640-1d0c-44c2-9e61-598433bd3fd8",
   "metadata": {},
   "source": [
    "# SORT BY %CHG"
   ]
  },
  {
   "cell_type": "code",
   "execution_count": null,
   "id": "bd15db01-64a9-428d-8a2e-841ae1d629c1",
   "metadata": {},
   "outputs": [],
   "source": [
    "by='%CHG'\n",
    "df.sort_values(by=by,ascending=False).reset_index(drop=True)"
   ]
  },
  {
   "cell_type": "markdown",
   "id": "1a512020-49c5-476e-8128-adf854ff9b97",
   "metadata": {},
   "source": [
    "# SORT BY AVG VOLUME\n"
   ]
  },
  {
   "cell_type": "code",
   "execution_count": null,
   "id": "495e2d54-92d7-42d4-994a-0fa50fca6c1c",
   "metadata": {},
   "outputs": [],
   "source": [
    "by='AVGVOL'\n",
    "df.sort_values(by=by,ascending=False).reset_index(drop=True)"
   ]
  },
  {
   "cell_type": "markdown",
   "id": "38ae54d7-7fbf-4e98-807a-19c51297e3f6",
   "metadata": {},
   "source": [
    "# BY VOLUME"
   ]
  },
  {
   "cell_type": "code",
   "execution_count": null,
   "id": "0cf7d0f1-ce33-47fb-ae57-1974fcecaa14",
   "metadata": {},
   "outputs": [],
   "source": [
    "by='VOL'\n",
    "df.sort_values(by=by,ascending=False).reset_index(drop=True)"
   ]
  },
  {
   "cell_type": "markdown",
   "id": "30b9a953-37c2-444b-a00f-f32566b53959",
   "metadata": {},
   "source": [
    "# BY %ATR\n"
   ]
  },
  {
   "cell_type": "code",
   "execution_count": null,
   "id": "ee50b31f-cb7e-43dc-919f-94fc2ef2d6ee",
   "metadata": {},
   "outputs": [],
   "source": [
    "df['%ATR']=round(df['ATR']*100/df['CP'],2)\n",
    "by='%ATR'\n",
    "df=df.sort_values(by=by,ascending=False).reset_index(drop=True)\n",
    "df"
   ]
  },
  {
   "cell_type": "code",
   "execution_count": null,
   "id": "5d38a5de-db83-4c42-88b0-cf8a8d52d4db",
   "metadata": {},
   "outputs": [],
   "source": [
    "tickers=df.TICKER.to_list()\n",
    "\n",
    "\n",
    "\n",
    "r='/home/thakur/test/{}'\n",
    "for i in tickers:\n",
    "    root=df.loc[df.TICKER==i,\"CATEGORY\"].values[0]\n",
    "    root=r.format(root)\n",
    "    plot_with_mpl(root,i,sty='default')"
   ]
  },
  {
   "cell_type": "code",
   "execution_count": null,
   "id": "1be398ac-89ad-4af2-be7c-004158ae73f1",
   "metadata": {},
   "outputs": [],
   "source": [
    "ticker='TSLA'\n",
    "category='mega'\n",
    "file=f'/home/thakur/test/{category}/{ticker}.csv'\n",
    "print(f\"file: {file}\")\n",
    "df=pd.read_csv(file)\n",
    "df['Volume']=round(df['Volume']/1e6,2)\n",
    "df.tail(20)"
   ]
  },
  {
   "cell_type": "code",
   "execution_count": null,
   "id": "5d3f37e1-3496-468a-86ce-8e03c228a315",
   "metadata": {},
   "outputs": [],
   "source": [
    "df['C-O']=df['Close']-df['Open'];\n",
    "df['H-O']=df['High']-df['Open'];\n",
    "df['O-L']=df['Open']-df['Low'];\n",
    "df['H-L']=df['High']-df['Low'];"
   ]
  },
  {
   "cell_type": "code",
   "execution_count": null,
   "id": "d3092af4-71e1-4a52-aac9-e1a55054bd5e",
   "metadata": {},
   "outputs": [],
   "source": [
    "df.tail(20)"
   ]
  },
  {
   "cell_type": "code",
   "execution_count": null,
   "id": "aa201473-e561-4171-b711-ef769357aded",
   "metadata": {},
   "outputs": [],
   "source": [
    "df['Day']=df['Date'].apply(lambda x:pd.Timestamp(x).day_name())"
   ]
  },
  {
   "cell_type": "code",
   "execution_count": null,
   "id": "37e1a4c1-a255-44fd-8cfa-48b3d368a9d1",
   "metadata": {},
   "outputs": [],
   "source": [
    "df.tail(20)"
   ]
  },
  {
   "cell_type": "code",
   "execution_count": null,
   "id": "da9e9217-8c87-4ca9-837b-60108cf7c35f",
   "metadata": {},
   "outputs": [],
   "source": [
    "# close higher than open\n",
    "c=sum(df['C-O']>0)\n",
    "o=sum(df['C-O']<0)\n",
    "\n",
    "print(f\"Close > Open: {c}\")\n",
    "print(f\"Close < Open: {o}\")"
   ]
  },
  {
   "cell_type": "code",
   "execution_count": null,
   "id": "7418ae7d-e7d9-49a5-80dc-cb4931459f7a",
   "metadata": {},
   "outputs": [],
   "source": [
    "grouped=df.groupby('Day')\n",
    "days=list(grouped.groups)\n",
    "days"
   ]
  },
  {
   "cell_type": "code",
   "execution_count": null,
   "id": "228d3270-295a-4bc9-a8f0-b5a5470c2d9e",
   "metadata": {},
   "outputs": [],
   "source": [
    "df=grouped.get_group('Monday').tail(20).reset_index(drop=True)\n",
    "df"
   ]
  },
  {
   "cell_type": "code",
   "execution_count": null,
   "id": "48d57579-f42d-42ec-aa7c-6e307ad48a57",
   "metadata": {},
   "outputs": [],
   "source": [
    "def get_day_info(df):\n",
    "    sel_col=['Date', 'Volume', 'C-O', 'H-O', 'O-L', 'H-L', 'Day']\n",
    "    temp_df=df[sel_col]\n",
    "    temp_df.set_index('Date')\n",
    "    #day\n",
    "    day=temp_df.Day.values[0]\n",
    "    mean_vol=temp_df['Volume'].mean().round(2)\n",
    "    co_net=temp_df['C-O'].mean().round(2)\n",
    "    co_abs=temp_df['C-O'].abs().mean().round(2)\n",
    "\n",
    "    ho_net=temp_df['H-O'].mean().round(2)\n",
    "    ol_net=temp_df['O-L'].mean().round(2)\n",
    "    hl_net=temp_df['H-L'].mean().round(2)\n",
    "\n",
    "\n",
    "\n",
    "    print(f\"\"\"\n",
    "    Day        : {day}\n",
    "    volume     : {mean_vol} \n",
    "    co_net     : {co_net}\n",
    "    co_abs     : {co_abs}\n",
    "    ho_net     : {ho_net}\n",
    "    ol_net     : {ol_net}\n",
    "    hl_net     : {hl_net}\n",
    "    \"\"\")\n",
    "    return [day,mean_vol,co_net,co_abs,ho_net,ol_net,hl_net]"
   ]
  },
  {
   "cell_type": "code",
   "execution_count": null,
   "id": "9e249473-9579-4444-a5c5-27f4870c989a",
   "metadata": {},
   "outputs": [],
   "source": [
    "get_day_info(df)"
   ]
  },
  {
   "cell_type": "code",
   "execution_count": null,
   "id": "28aa1861-286e-43af-b9f1-2051898372d3",
   "metadata": {},
   "outputs": [],
   "source": [
    "days=['Monday',  'Tuesday', 'Wednesday','Thursday','Friday']\n",
    "rows=20\n",
    "all_list=[]\n",
    "for i in days:\n",
    "    df=grouped.get_group(i).tail(rows).reset_index(drop=True)\n",
    "    print(df.to_string())\n",
    "    info_list=get_day_info(df)\n",
    "    all_list.append(info_list)"
   ]
  },
  {
   "cell_type": "markdown",
   "id": "14681391-2d12-4de6-948f-b9cd2a5ed2cb",
   "metadata": {},
   "source": [
    "# SINGLE DATA FRAME"
   ]
  },
  {
   "cell_type": "code",
   "execution_count": null,
   "id": "f519cdc4-3c92-40bd-9901-bd3b1159c1a0",
   "metadata": {},
   "outputs": [],
   "source": [
    "columns=['day','vol','co_net','co_abs','ho_net','ol_net','hl_net']\n",
    "df=pd.DataFrame(all_list,columns=columns)"
   ]
  },
  {
   "cell_type": "code",
   "execution_count": null,
   "id": "616c4b8a-50e9-4537-984d-733ebbdb5732",
   "metadata": {},
   "outputs": [],
   "source": [
    "df.set_index('day',inplace=True)"
   ]
  },
  {
   "cell_type": "code",
   "execution_count": null,
   "id": "c69a1426-9a16-4b73-9dd5-c92620dbc99f",
   "metadata": {},
   "outputs": [],
   "source": [
    "df"
   ]
  },
  {
   "cell_type": "code",
   "execution_count": null,
   "id": "b89553c1-19c5-4244-9f53-07fd46099820",
   "metadata": {},
   "outputs": [],
   "source": [
    "ax=df.plot.bar(subplots=False,figsize=(20,10),logy=True)\n",
    "for container in ax.containers:\n",
    "    ax.bar_label(container)\n",
    "plt.tight_layout()\n",
    "plt.show()"
   ]
  },
  {
   "cell_type": "code",
   "execution_count": null,
   "id": "213ad8aa-bf81-4591-8286-9dd5e603f185",
   "metadata": {},
   "outputs": [],
   "source": []
  }
 ],
 "metadata": {
  "kernelspec": {
   "display_name": "Python 3 (ipykernel)",
   "language": "python",
   "name": "python3"
  },
  "language_info": {
   "codemirror_mode": {
    "name": "ipython",
    "version": 3
   },
   "file_extension": ".py",
   "mimetype": "text/x-python",
   "name": "python",
   "nbconvert_exporter": "python",
   "pygments_lexer": "ipython3",
   "version": "3.10.12"
  }
 },
 "nbformat": 4,
 "nbformat_minor": 5
}
