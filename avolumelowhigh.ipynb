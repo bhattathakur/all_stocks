{
 "cells": [
  {
   "cell_type": "code",
   "execution_count": null,
   "id": "8b177d26-d5f7-4d22-8dcf-c12e5cbc7e68",
   "metadata": {},
   "outputs": [],
   "source": [
    "import os\n",
    "import pandas as pd\n",
    "import numpy as np\n",
    "from IPython.display import HTML #to display the table with hyperlink\n",
    "import matplotlib.pyplot as plt"
   ]
  },
  {
   "cell_type": "code",
   "execution_count": null,
   "id": "4ec6f896-b42d-4b19-b293-18f6c90f4991",
   "metadata": {},
   "outputs": [],
   "source": [
    "for dirs in ['mega']:\n",
    "    main_root=f'/home/thakur/test/{dirs}'\n",
    "    stocks=os.listdir(main_root)\n",
    "    #stocks=os.listdir(f'/home/thakur/test/{dirs}')\n",
    "    print(stocks)"
   ]
  },
  {
   "cell_type": "code",
   "execution_count": null,
   "id": "c06cf52d-b992-4adf-80de-9fddba9580b1",
   "metadata": {},
   "outputs": [],
   "source": [
    "for k,i in enumerate(stocks):\n",
    "    if k!=0:continue\n",
    "    print(f'{k}')\n",
    "    file=f'{main_root}/{i}'\n",
    "    print(f'{file}')"
   ]
  },
  {
   "cell_type": "code",
   "execution_count": null,
   "id": "aae4f4a5-dd6f-4dfe-b2d7-dcaa27258ef1",
   "metadata": {},
   "outputs": [],
   "source": [
    "file"
   ]
  },
  {
   "cell_type": "code",
   "execution_count": null,
   "id": "fbb87f8e-6633-484c-8473-196e55d772a0",
   "metadata": {},
   "outputs": [],
   "source": [
    "df=pd.read_csv(file)"
   ]
  },
  {
   "cell_type": "code",
   "execution_count": null,
   "id": "fa2835b3-edb6-43dd-8e8c-6e9f5acdb716",
   "metadata": {},
   "outputs": [],
   "source": [
    "#df=df.dropna()\n",
    "df"
   ]
  },
  {
   "cell_type": "code",
   "execution_count": null,
   "id": "11878ce7-57e6-4f8f-a581-18ad35347b19",
   "metadata": {},
   "outputs": [],
   "source": [
    "d=df.Date[-1:].values[0][:10]\n",
    "print(f\"LAST DATE: {d}\")"
   ]
  },
  {
   "cell_type": "code",
   "execution_count": null,
   "id": "f41385f2-61cc-4f93-b9bc-ce816bfe374b",
   "metadata": {},
   "outputs": [],
   "source": [
    "def get_avergevol_past(df,days=10):\n",
    "    '''\n",
    "    returns two averge volumes: volumes for days and 50 days past days\n",
    "    '''\n",
    "    try:\n",
    "        head_vol=round(df.tail(50+days).head(50).Volume.mean()/1e6,2)\n",
    "        tail_vol=round(df.tail(days).Volume.mean()/1e6,2)\n",
    "        return tail_vol,head_vol\n",
    "    except:\n",
    "        print(f\"some error in get_averagevol_past!\")\n",
    "        return 0,0"
   ]
  },
  {
   "cell_type": "code",
   "execution_count": null,
   "id": "6170eb9d-cf5c-4391-a054-77a2e669e3e9",
   "metadata": {},
   "outputs": [],
   "source": [
    "def get_last_volume(df):\n",
    "    '''\n",
    "    retuns the last volume for the given ticker\n",
    "    '''\n",
    "    try:\n",
    "        return round(df.tail(1)['Volume'].values[0]/1e6,2)\n",
    "    except:\n",
    "        print(f\"some error in get_last_volume!\")\n",
    "        return 0"
   ]
  },
  {
   "cell_type": "code",
   "execution_count": null,
   "id": "62c439c6-0519-4b84-b62e-3a21e2c6ec05",
   "metadata": {},
   "outputs": [],
   "source": [
    "def get_last_price(df):\n",
    "    '''\n",
    "    retuns the last price for the given ticker\n",
    "    '''\n",
    "    try:\n",
    "        return df.tail(1)['Adj Close'].values[0]\n",
    "    except:\n",
    "        print(f\"some error in get_last_price !\")\n",
    "        return 0"
   ]
  },
  {
   "cell_type": "code",
   "execution_count": null,
   "id": "a00a76d9-5323-432e-92ac-dc428ba2e412",
   "metadata": {},
   "outputs": [],
   "source": [
    "def get_second_last_price(df):\n",
    "    '''\n",
    "    retuns the last price for the given ticker\n",
    "    '''\n",
    "    try:\n",
    "        return df.tail(2).head(1)['Adj Close'].values[0]\n",
    "    except:\n",
    "        print(f\"some error get_second_last_price!\")\n",
    "        return 0"
   ]
  },
  {
   "cell_type": "code",
   "execution_count": null,
   "id": "d10b0fc6-fd3f-4c4d-975a-67203d29ae93",
   "metadata": {},
   "outputs": [],
   "source": [
    "def get_change_pct(df):\n",
    "    '''\n",
    "    retuns the last pct_change for the given ticker\n",
    "    '''\n",
    "    try:\n",
    "        return round((get_last_price(df)/get_second_last_price(df)-1)*100,2)\n",
    "    except:\n",
    "        print(f\"some error in get_change_pct!\")\n",
    "        return 0\n"
   ]
  },
  {
   "cell_type": "code",
   "execution_count": null,
   "id": "ea771822-c89c-42a0-a7e7-3d18f95f7031",
   "metadata": {},
   "outputs": [],
   "source": [
    "def get_min_price_date(df):\n",
    "    '''\n",
    "    retuns the min price and corresponding date for the given interval for the given ticker\n",
    "    '''\n",
    "    try:\n",
    "        idx=df['Adj Close'].idxmin()\n",
    "        return df['Adj Close'].min(),df.iloc[idx,].Date[:10]\n",
    "    except:\n",
    "        print(f\"some error get_min_price_date!\")\n",
    "        return 0,0"
   ]
  },
  {
   "cell_type": "code",
   "execution_count": null,
   "id": "39e86046-ba08-4528-95d7-2a19b07bfc4e",
   "metadata": {},
   "outputs": [],
   "source": [
    "def get_max_price_date(df):\n",
    "    '''\n",
    "    retuns the max price and corresponding date for the given interval for the given ticker\n",
    "    '''\n",
    "    try:\n",
    "        idx=df['Adj Close'].idxmax()\n",
    "        return df['Adj Close'].max(),df.iloc[idx,].Date[:10]\n",
    "    except:\n",
    "        print(f\"some error in get_max_price_date !\")\n",
    "        return 0"
   ]
  },
  {
   "cell_type": "code",
   "execution_count": null,
   "id": "a6e357f4-429c-4da4-b882-09207dd85b25",
   "metadata": {},
   "outputs": [],
   "source": [
    "def df_with_link(temp_df):\n",
    "    '''\n",
    "    returns a dataframe with the clickable link to tickers for temp_df as the input \n",
    "    '''\n",
    "    df=temp_df\n",
    "    if 'YAHOO' in list(df.columns):df=df.drop(labels='YAHOO',axis=1)\n",
    "    df['TICKER'] = df['TICKER'].apply(lambda x: f'<a href=\"http://finance.yahoo.com/quote/{x}?p={x}&.tsrc=fin-srch\">{x}</a>')\n",
    "    return HTML(df.to_html(escape=False))"
   ]
  },
  {
   "cell_type": "code",
   "execution_count": null,
   "id": "e0a245c1-dc3b-4b1a-8cc7-e0eb5c5700eb",
   "metadata": {},
   "outputs": [],
   "source": [
    "def get_yahoo_link(ticker):\n",
    "    \"\"\"\n",
    "    Get the yahoo link\n",
    "    \"\"\"\n",
    "    #return '{}\" rel=\"noopener noreferrer\" target=\"_blank\">{}'.format(url,name)\n",
    "    url=\"https://finance.yahoo.com/quote/{}?p={}&.tsrc=fin-srch\"\n",
    "    #return '{}\" rel=\"noopener noreferrer\" target=\"_blank\">{}'.format(url,ticker)\n",
    "    return url.format(ticker,ticker)"
   ]
  },
  {
   "cell_type": "code",
   "execution_count": null,
   "id": "cad0a2e0-0b31-4614-81ca-8d090c5eadfe",
   "metadata": {},
   "outputs": [],
   "source": [
    "def bar_diagram_for_two(df,sel,tit=\"\"):\n",
    "    '''\n",
    "    returns a comparion of two selected quantities in a list for given ticker in a given daframe\n",
    "    '''\n",
    "    cut=['TICKER']+sel\n",
    "    df_temp=df[cut]\n",
    "    labels=list(df['LAST'])\n",
    "    ax=df_temp.set_index('TICKER').plot(kind='bar',figsize=(20,10))\n",
    "    ax.bar_label(ax.containers[2],labels=labels, label_type='edge')\n",
    "    plt.suptitle(f\"{tit} [{d}]\")\n",
    "    save_name=f'{tit}.pdf'\n",
    "    print(f'SAVING AS: {save_name}')\n",
    "    plt.savefig(save_name)\n",
    "    plt.show()\n",
    "    "
   ]
  },
  {
   "cell_type": "code",
   "execution_count": null,
   "id": "fac8cfe2-efa9-43e3-bce5-158a1f339203",
   "metadata": {},
   "outputs": [],
   "source": [
    "def get_all_info(df):\n",
    "    '''returns the information for the given ticker'''\n",
    "    #fill na with 0\n",
    "    #df.fillna(0,inplace=True)\n",
    "    # df=df.dropna()\n",
    "    if df.shape[0]<60 or df.empty:\n",
    "        print(f\"rows less than 60!\")\n",
    "        return \n",
    "    try:\n",
    "        last_price=get_last_price(df)\n",
    "        pct_chg=get_change_pct(df)\n",
    "        vol=get_last_volume(df)\n",
    "        mean_5=get_avergevol_past(df,days=5)[0]\n",
    "        mean_5_50=get_avergevol_past(df,days=5)[1]\n",
    "        mean_10=get_avergevol_past(df,days=10)[0]\n",
    "        mean_10_50=get_avergevol_past(df,days=10)[1]\n",
    "        min_price=get_min_price_date(df)[0]\n",
    "        min_date=get_min_price_date(df)[1]\n",
    "        max_price=get_max_price_date(df)[0]\n",
    "        max_date=get_max_price_date(df)[1]\n",
    "        return [last_price,pct_chg,vol,min_price,min_date,max_price,max_date,mean_5,mean_5_50,mean_10,mean_10_50]\n",
    "    except:\n",
    "        print(f\"some error in get_all_info(df) !\")\n",
    "        return 13*[0]\n",
    "    "
   ]
  },
  {
   "cell_type": "code",
   "execution_count": null,
   "id": "a7107b12-f7b4-4eba-b60b-1c2b2272fa3a",
   "metadata": {},
   "outputs": [],
   "source": [
    "\n",
    "def get_all(dirs):\n",
    "    '''\n",
    "    returns dataframe for given category\n",
    "    '''\n",
    "    try:\n",
    "        main_root=f'/home/thakur/test/{dirs}'\n",
    "        print(f'Working Dir: {main_root}')\n",
    "        stocks=os.listdir(main_root)\n",
    "        all_list=[]\n",
    "        for i in stocks:\n",
    "            #print(f\"Working with: {i}\")\n",
    "            file=f'{main_root}/{i}'\n",
    "            df=pd.read_csv(file)\n",
    "            df=df.dropna()\n",
    "            #df.fillna(0)\n",
    "            if df.empty:continue\n",
    "            if df.shape[0]<60:continue\n",
    "            ticker=i.split('.')[0]\n",
    "            info_list=[ticker]+get_all_info(df)+[dirs]\n",
    "            all_list.append(info_list)\n",
    "\n",
    "        #print(all_list)\n",
    "        columns=['TICKER', 'LAST', 'CHG%','VOLUME','MIN','MIN_DATE','MAX','MAX_DATE','VOL_5','VOL_5_50','VOL_10','VOL_10_50','CATEGORY']\n",
    "        return pd.DataFrame(all_list,columns=columns)\n",
    "    except:\n",
    "        print(f\"some error in get_all(dirs) !\")\n",
    "        return pd.DataFrame()\n",
    "    \n",
    "        \n",
    "    "
   ]
  },
  {
   "cell_type": "code",
   "execution_count": null,
   "id": "bed7e019-7125-4a68-a6af-7e75e5b81cd4",
   "metadata": {},
   "outputs": [],
   "source": [
    "\n",
    "def test_rows(dirs):\n",
    "    '''\n",
    "    returns dataframe for given category\n",
    "    '''\n",
    "    main_root=f'/home/thakur/test/{dirs}'\n",
    "    print(f'Working Dir: {main_root}')\n",
    "    stocks=os.listdir(main_root)\n",
    "    all_list=[]\n",
    "    for i,k in enumerate(stocks,start=1):\n",
    "        #print(f\"Working with {i}/{len(stocks)}: {k}\")\n",
    "        file=f'{main_root}/{k}'\n",
    "        df=pd.read_csv(file)\n",
    "        df=df.dropna()\n",
    "        if df.empty:\n",
    "            print(f\"{k} is empty!\")\n",
    "            continue\n",
    "        if df.shape[0]<60:\n",
    "            print(20*\"=\")\n",
    "            print(f\"{k} has rows less than 60!\")\n",
    "            continue\n",
    "        #print(f\"WORKING TICKER: {k.split('.')[0]}\")\n",
    "        # ticker=i.split('.')[0]\n",
    "        # info_list=[ticker]+get_all_info(df)+[dirs]\n",
    "        # all_list.append(info_list)\n",
    "\n",
    "    #print(all_list)\n",
    "    #columns=['TICKER', 'LAST', 'CHG%','VOLUME','MIN','MIN_DATE','MAX','MAX_DATE','VOL_5','VOL_5_50','VOL_10','VOL_10_50','CATEGORY']\n",
    "    #return pd.DataFrame(all_list,columns=columns)\n",
    "    \n",
    "        \n",
    "    "
   ]
  },
  {
   "cell_type": "code",
   "execution_count": null,
   "id": "4e3e6f13-91ef-480b-bbe7-6b076f3c0fee",
   "metadata": {},
   "outputs": [],
   "source": [
    "dirs='medium'\n",
    "main_root=f'/home/thakur/test/{dirs}'\n",
    "print(f'Working Dir: {main_root}')\n",
    "stocks=os.listdir(main_root)\n",
    "files=[main_root+\"/\"+i for i in stocks]"
   ]
  },
  {
   "cell_type": "code",
   "execution_count": null,
   "id": "e1cc8201-6432-4ca5-9323-8719d5211d6f",
   "metadata": {},
   "outputs": [],
   "source": [
    "\n",
    "dirs=['mega','large','medium','small','micro','nano']\n",
    "fine_list=[]\n",
    "for m in dirs:\n",
    "    main_root=f'/home/thakur/test/{m}'\n",
    "    print(f'Working Dir: {main_root}')\n",
    "    stocks=os.listdir(main_root)\n",
    "    files=[main_root+\"/\"+i for i in stocks]\n",
    "    for k,i in enumerate(files,start=1):\n",
    "        df=pd.read_csv(i)\n",
    "        #print(f\"DataFrame: {df}\")\n",
    "        tick=i.split('/')[-1].split('.')[0]\n",
    "        cat=m\n",
    "        v=[tick]+get_all_info(df)+[cat]\n",
    "        fine_list.append(v)\n",
    "        #print(f\"{k:<6}{i.split('/')[-1]:10}\\t{v}\")"
   ]
  },
  {
   "cell_type": "code",
   "execution_count": null,
   "id": "30a77545-b2c4-4f11-96d0-b1acae35b3d0",
   "metadata": {},
   "outputs": [],
   "source": [
    "columns=['TICKER', 'LAST', 'CHG%','VOLUME','MIN','MIN_DATE','MAX','MAX_DATE','VOL_5','VOL_5_50','VOL_10','VOL_10_50','CATEGORY','c0','c1']\n",
    "cols=['TICKER', 'LAST', 'CHG%','VOLUME','MIN','MIN_DATE','MAX','MAX_DATE','VOL_5','VOL_5_50','VOL_10','VOL_10_50','CATEGORY']\n",
    "df_fine=pd.DataFrame(fine_list,columns=columns)\n",
    "df_fine=df_fine[cols]"
   ]
  },
  {
   "cell_type": "code",
   "execution_count": null,
   "id": "9ed0f47e-9a32-4b27-87e6-e6e47ddfd1d2",
   "metadata": {},
   "outputs": [],
   "source": [
    "df_fine"
   ]
  },
  {
   "cell_type": "markdown",
   "id": "785cf789-aa19-44b2-8721-4b8cd7258219",
   "metadata": {},
   "source": [
    "# SINGLE DATAFRAME"
   ]
  },
  {
   "cell_type": "code",
   "execution_count": null,
   "id": "1c787c0b-02b5-45c5-a46f-e49eff642f45",
   "metadata": {},
   "outputs": [],
   "source": [
    "#df_final\n",
    "df_fine=df_fine.dropna()\n",
    "df_fine"
   ]
  },
  {
   "cell_type": "code",
   "execution_count": null,
   "id": "1da1fc8b-6560-46f5-9375-bd6095223249",
   "metadata": {},
   "outputs": [],
   "source": [
    "#filter\n",
    "filter_condition='VOLUME>0.5 & LAST>1.0'\n",
    "df_fine=df_fine\\\n",
    ".query(filter_condition)\\\n",
    ".reset_index(drop=True)\n",
    "df_fine"
   ]
  },
  {
   "cell_type": "markdown",
   "id": "b77589cf-a4f1-4daa-8fdb-3a621af1ea10",
   "metadata": {},
   "source": [
    "# UP"
   ]
  },
  {
   "cell_type": "code",
   "execution_count": null,
   "id": "a32bcdd3-9327-494c-be26-125a9871e1f2",
   "metadata": {},
   "outputs": [],
   "source": [
    "up=sum(df_fine['CHG%']>0)\n",
    "up"
   ]
  },
  {
   "cell_type": "markdown",
   "id": "11995110-158e-4ff0-b5f6-83d91c251612",
   "metadata": {},
   "source": [
    "# DOWN"
   ]
  },
  {
   "cell_type": "code",
   "execution_count": null,
   "id": "caf5cff2-ea6e-4498-9475-60eb497f0409",
   "metadata": {},
   "outputs": [],
   "source": [
    "down=sum(df_fine['CHG%']<0)\n",
    "down"
   ]
  },
  {
   "cell_type": "code",
   "execution_count": null,
   "id": "9cd97fd4-bcb9-4833-86c8-ad51f8c09c22",
   "metadata": {},
   "outputs": [],
   "source": [
    "up_down=pd.DataFrame.from_dict({\"UP\":[up],\"DOWN\":[down]})"
   ]
  },
  {
   "cell_type": "code",
   "execution_count": null,
   "id": "fb81ba67-9211-4678-b251-d0a3d6b68b39",
   "metadata": {},
   "outputs": [],
   "source": [
    "up_down"
   ]
  },
  {
   "cell_type": "code",
   "execution_count": null,
   "id": "d87dce4b-7744-4696-b607-f3b464f97c7d",
   "metadata": {},
   "outputs": [],
   "source": [
    "up_down.plot(kind='bar')"
   ]
  },
  {
   "cell_type": "markdown",
   "id": "218b20b0-abea-47b9-9ffb-db996e018466",
   "metadata": {},
   "source": [
    "# LAST PRICE < MIN"
   ]
  },
  {
   "cell_type": "code",
   "execution_count": null,
   "id": "e3c710d2-7fa7-431c-b010-740a9a920cad",
   "metadata": {},
   "outputs": [],
   "source": [
    "df_fine[df_fine['LAST']>df_fine['MIN']].dropna().reset_index(drop=True)"
   ]
  },
  {
   "cell_type": "markdown",
   "id": "9ec93f5a-94f3-44dc-8ddc-1d666b2a42ef",
   "metadata": {},
   "source": [
    "# LAST PRICE = MIN"
   ]
  },
  {
   "cell_type": "code",
   "execution_count": null,
   "id": "f09e4022-1059-483f-bcf7-ecf081d31575",
   "metadata": {},
   "outputs": [],
   "source": [
    "df_min=df_fine[df_fine['LAST']==df_fine['MIN']].dropna().reset_index(drop=True).round(2)\n",
    "#df=df_with_link(df_min)\n",
    "df_min"
   ]
  },
  {
   "cell_type": "markdown",
   "id": "0a451ad3-a339-464f-b431-cea8572df922",
   "metadata": {},
   "source": [
    "# LAST PRICE=MIN; CATEGORY WISE"
   ]
  },
  {
   "cell_type": "code",
   "execution_count": null,
   "id": "a043fc78-15d0-4ad2-95c2-82a725326c58",
   "metadata": {},
   "outputs": [],
   "source": [
    "grouped=df_min.groupby(['CATEGORY'])\n",
    "min_dir=df_min.CATEGORY.unique()\n",
    "for i,cat in enumerate(min_dir,start=1):\n",
    "    df_temp=grouped.get_group(cat).reset_index(drop=True).sort_values(by='LAST').reset_index(drop=True)\n",
    "    df_temp.index+=1\n",
    "    df_temp['y-link']=df_temp['TICKER'].apply(lambda x:get_yahoo_link(x))\n",
    "    print(f\"{i}/{len(dirs)} Working with {dirs[i-1]} ...\\n\")\n",
    "    print(f\"{df_temp.to_string()}\\n\")"
   ]
  },
  {
   "cell_type": "code",
   "execution_count": null,
   "id": "96914ba2-0822-4fa2-ad7c-8800a91680c0",
   "metadata": {},
   "outputs": [],
   "source": [
    "# min_dir=list(df_min.CATEGORY.unique())\n",
    "# grouped=df_min.groupby(['CATEGORY'])\n",
    "# for i,cat in enumerate(min_dir,start=1):\n",
    "#     df_temp=grouped.get_group(cat).reset_index(drop=True).sort_values(by='LAST').reset_index(drop=True)\n",
    "#     if df_temp.empty:continue\n",
    "#     df_temp['y-link']=df_temp['TICKER'].apply(lambda x:get_yahoo_link(x))\n",
    "#     print(f\"{i}/{len(dirs)} Working with {dirs[i-1]} ...\\n\")\n",
    "#     print(f\"{df_temp.to_string()}\\n\")"
   ]
  },
  {
   "cell_type": "markdown",
   "id": "ec6f1fb6-2430-4373-a2a3-77b74c1f6496",
   "metadata": {},
   "source": [
    "# LAST PRICE < MAX"
   ]
  },
  {
   "cell_type": "code",
   "execution_count": null,
   "id": "d50cc520-c787-42dc-b334-70b42e04694a",
   "metadata": {},
   "outputs": [],
   "source": [
    "df_fine[df_fine['LAST']<df_fine['MAX']].dropna().reset_index(drop=True)"
   ]
  },
  {
   "cell_type": "markdown",
   "id": "01b1f138-956b-492c-b317-b48d5ec2481a",
   "metadata": {},
   "source": [
    "# LAST PRICE = MAX"
   ]
  },
  {
   "cell_type": "code",
   "execution_count": null,
   "id": "987583af-62c2-49bd-83ba-4197914258aa",
   "metadata": {},
   "outputs": [],
   "source": [
    "df_max=df_fine[(df_fine['LAST']==df_fine['MAX']) & (df_fine['LAST']>0.0)]\\\n",
    ".dropna()\\\n",
    ".reset_index(drop=True).round(2)\\\n",
    "#.sort_values(by='LAST')\\\n",
    "\n",
    "df_max.head(20)"
   ]
  },
  {
   "cell_type": "markdown",
   "id": "218766f9-ff0f-41f0-b576-35f4804332ac",
   "metadata": {},
   "source": [
    "# LAST_PRICE==MAX; CATEGORIWISE"
   ]
  },
  {
   "cell_type": "code",
   "execution_count": null,
   "id": "ea9adcc0-7e9b-4111-9139-d90ce4e15093",
   "metadata": {},
   "outputs": [],
   "source": [
    "grouped=df_max.groupby(['CATEGORY'])\n",
    "max_dir=df_max.CATEGORY.unique()\n",
    "for i,cat in enumerate(max_dir,start=1):\n",
    "    df_temp=grouped.get_group(cat).reset_index(drop=True).sort_values(by='LAST').reset_index(drop=True)\n",
    "    df_temp.index+=1\n",
    "    df_temp['y-link']=df_temp['TICKER'].apply(lambda x:get_yahoo_link(x))\n",
    "    print(f\"{i}/{len(dirs)} Working with {dirs[i-1]} ...\\n\")\n",
    "    print(f\"{df_temp.to_string()}\\n\")"
   ]
  },
  {
   "cell_type": "code",
   "execution_count": null,
   "id": "161fd4da-110a-45b8-bd07-15592de7a4e7",
   "metadata": {},
   "outputs": [],
   "source": [
    "# df_maxx=df_with_link(df_max.head(20))\n",
    "# df_maxx"
   ]
  },
  {
   "cell_type": "code",
   "execution_count": null,
   "id": "7acfd124-7e05-49d3-905e-74d0ed95050d",
   "metadata": {},
   "outputs": [],
   "source": [
    "df_vol_cat=df_fine.sort_values(by='VOLUME',ascending=False)\\\n",
    ".reset_index(drop=True)\n",
    "\n",
    "df_vol_head=df_vol_cat.head(30).round(2)\n",
    "df_vol_head"
   ]
  },
  {
   "cell_type": "code",
   "execution_count": null,
   "id": "1b132f0f-0248-4e9c-ae7b-8627f0114c0c",
   "metadata": {},
   "outputs": [],
   "source": [
    "df_vol=df_fine.sort_values(by='VOLUME',ascending=False)\\\n",
    ".reset_index(drop=True)\n",
    "\n",
    "df_vol_head=df_vol.head(30).round(2)\n",
    "df_vol_head"
   ]
  },
  {
   "cell_type": "code",
   "execution_count": null,
   "id": "51f7aae7-608e-48d5-abaf-74ce8cf6106c",
   "metadata": {},
   "outputs": [],
   "source": [
    "# grouped=df_vol.groupby(['CATEGORY'])\n",
    "# df_vol_micro=grouped.get_group('large')\n",
    "# df_vol_micro"
   ]
  },
  {
   "cell_type": "markdown",
   "id": "1673de7e-b320-41be-afc0-35325d38ef92",
   "metadata": {},
   "source": [
    "# MAX VOLUME CATEGORIWISE"
   ]
  },
  {
   "cell_type": "code",
   "execution_count": null,
   "id": "a9a33650-3d7d-449e-a8ac-60efa16de066",
   "metadata": {},
   "outputs": [],
   "source": [
    "grouped=df_vol.groupby(['CATEGORY'])\n",
    "for i,cat in enumerate(dirs,start=1):\n",
    "    df_temp=grouped.get_group(cat).sort_values(by='VOLUME',ascending=False).reset_index(drop=True).head(20).round(2)\n",
    "    df_temp['y-link']=df_temp['TICKER'].apply(lambda x:get_yahoo_link(x))\n",
    "    df_temp.index+=1\n",
    "    print(f\"{i}/{len(dirs)}) Working with {dirs[i-1]} ...\\n\")\n",
    "    print(f\"{df_temp.to_string()}\\n\")\n",
    "    bar_diagram_for_two(df_temp,['VOL_10_50','VOL_10','VOLUME'],\"MAX_VOLUME-\"+cat.upper())"
   ]
  },
  {
   "cell_type": "markdown",
   "id": "42e31082-3683-4f10-a15c-d1edaa4d0132",
   "metadata": {},
   "source": [
    "# MAX VOLUME and %CHG>0"
   ]
  },
  {
   "cell_type": "code",
   "execution_count": null,
   "id": "98df9e3b-cf1c-4560-a09a-8cbc977f11e9",
   "metadata": {},
   "outputs": [],
   "source": [
    "grouped=df_vol.groupby(['CATEGORY'])\n",
    "for i,cat in enumerate(dirs,start=1):\n",
    "    df_temp=grouped.get_group(cat).reset_index(drop=True).head(100).round(2)\n",
    "    df_temp=df_temp[df_temp['CHG%']>0]#.sort_values(by='LAST').reset_index(drop=True)\n",
    "    if df_temp.empty:continue\n",
    "    df_temp=df_temp.sort_values(by='VOLUME',ascending=False).reset_index(drop=True)\n",
    "    df_temp['y-link']=df_temp['TICKER'].apply(lambda x:get_yahoo_link(x))\n",
    "    df_temp.index+=1\n",
    "    print(f\"{i}/{len(dirs)}) Working with {dirs[i-1]} ...\\n\")\n",
    "    print(f\"{df_temp.to_string()}\\n\")\n",
    "    bar_diagram_for_two(df_temp,['VOL_10_50','VOL_10','VOLUME'],\"MAX_VOLUME-CHG%>0-\"+cat.upper())"
   ]
  },
  {
   "cell_type": "markdown",
   "id": "ca15037e-574b-41dd-80bf-4aa6e1640e12",
   "metadata": {},
   "source": [
    "# MAX % GAIN"
   ]
  },
  {
   "cell_type": "code",
   "execution_count": null,
   "id": "fd3f1236-5366-494b-8be3-573f07776ed4",
   "metadata": {},
   "outputs": [],
   "source": [
    "df_chg=df_fine.sort_values(by='CHG%',ascending=False)\\\n",
    ".reset_index(drop=True)\n",
    "\n",
    "df_chg_head=df_chg.head(50).round(2)\n",
    "df_chg_head"
   ]
  },
  {
   "cell_type": "markdown",
   "id": "0b7eae19-e291-4d1c-85df-c7008c2564ae",
   "metadata": {},
   "source": [
    "# % CHG CATEGORY WISE"
   ]
  },
  {
   "cell_type": "code",
   "execution_count": null,
   "id": "20037f3f-ac46-4929-887d-accc7f8edb3a",
   "metadata": {},
   "outputs": [],
   "source": [
    "grouped=df_chg.groupby(['CATEGORY'])\n",
    "for i,cat in enumerate(dirs,start=1):\n",
    "    df_temp=grouped.get_group(cat).reset_index(drop=True).head(20).round(2)\n",
    "    df_temp['y-link']=df_temp['TICKER'].apply(lambda x:get_yahoo_link(x))\n",
    "    df_temp.index+=1\n",
    "    print(f\"{i}/{len(dirs)}) Working with {dirs[i-1]} ...\\n\")\n",
    "    print(f\"{df_temp.to_string()}\\n\")\n",
    "    bar_diagram_for_two(df_temp,['MIN','MAX','LAST'],\"MAX_CHG%-\"+cat.upper())"
   ]
  },
  {
   "cell_type": "markdown",
   "id": "954cb985-2956-4827-b91a-fca451f09d53",
   "metadata": {},
   "source": [
    "# % MAX LOSS"
   ]
  },
  {
   "cell_type": "code",
   "execution_count": null,
   "id": "09c34ebf-f0d4-4b22-b18e-d0c02e8154e8",
   "metadata": {},
   "outputs": [],
   "source": [
    "df_vol=df_fine.sort_values(by='CHG%',ascending=True)\\\n",
    ".reset_index(drop=True)\n",
    "\n",
    "df_vol.head(20).round(2)"
   ]
  },
  {
   "cell_type": "markdown",
   "id": "84c6142d-acce-4be7-89a9-bd594a425c56",
   "metadata": {},
   "source": [
    "# % MAX LOSS"
   ]
  },
  {
   "cell_type": "code",
   "execution_count": null,
   "id": "ac3d4aca-6462-45ca-8d39-3e13fb41a2f7",
   "metadata": {},
   "outputs": [],
   "source": [
    "# AVG_VOL_10>AVG_VOL_50\n",
    "category=['small']#,'medium','large']\n",
    "df_fine[(df_fine['VOL_10']>df_fine['VOL_10_50']) & (df_fine['CHG%']>0) & (df_fine.CATEGORY.isin(category))].sort_values(by='LAST').reset_index(drop=True)"
   ]
  },
  {
   "cell_type": "code",
   "execution_count": null,
   "id": "0427ab71-cd3c-4c62-83e8-7faac4c719f3",
   "metadata": {},
   "outputs": [],
   "source": [
    "codn='(`VOL_10`>`VOL_10_50`) & (`CHG%`>0)'\n",
    "df_good=df_vol.query(codn).reset_index(drop=True)\n",
    "df_good.index+=1\n",
    "df_good"
   ]
  },
  {
   "cell_type": "code",
   "execution_count": null,
   "id": "121fba43-a534-4b2a-bd49-4f25bca9df4b",
   "metadata": {},
   "outputs": [],
   "source": [
    "grouped=df_good.groupby(['CATEGORY'])\n",
    "for i,cat in enumerate(dirs,start=1):\n",
    "    df_temp=grouped.get_group(cat).sort_values(by='LAST').reset_index(drop=True).head(20).round(2)\n",
    "    df_temp['y-link']=df_temp['TICKER'].apply(lambda x:get_yahoo_link(x))\n",
    "    df_temp.index+=1\n",
    "    print(f\"{i}/{len(dirs)}) Working with {dirs[i-1]} ...\\n\")\n",
    "    print(f\"{df_temp.to_string()}\\n\")\n",
    "    bar_diagram_for_two(df_temp,['MIN','MAX','LAST'],codn+\" -\"+cat.upper())"
   ]
  },
  {
   "cell_type": "code",
   "execution_count": null,
   "id": "62e27d48-e9c4-4536-a2ae-6114f303126e",
   "metadata": {},
   "outputs": [],
   "source": []
  }
 ],
 "metadata": {
  "kernelspec": {
   "display_name": "Python 3 (ipykernel)",
   "language": "python",
   "name": "python3"
  },
  "language_info": {
   "codemirror_mode": {
    "name": "ipython",
    "version": 3
   },
   "file_extension": ".py",
   "mimetype": "text/x-python",
   "name": "python",
   "nbconvert_exporter": "python",
   "pygments_lexer": "ipython3",
   "version": "3.10.12"
  }
 },
 "nbformat": 4,
 "nbformat_minor": 5
}
