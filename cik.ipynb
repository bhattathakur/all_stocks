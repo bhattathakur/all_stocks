{
 "cells": [
  {
   "cell_type": "code",
   "execution_count": null,
   "id": "f01d946a-b94b-49e6-9d78-d61bb6dcc222",
   "metadata": {},
   "outputs": [],
   "source": [
    "import pandas as pd\n",
    "import requests\n",
    "import json"
   ]
  },
  {
   "cell_type": "code",
   "execution_count": null,
   "id": "75fe824d-ffb5-4e59-9b2e-b7b5a6ddae57",
   "metadata": {},
   "outputs": [],
   "source": [
    "#referred: https://github.com/AdamGetbags/secAPI/blob/main/secFilingScraper.py\n",
    "# https://www.youtube.com/watch?v=Wr1NoM3JkTo"
   ]
  },
  {
   "cell_type": "code",
   "execution_count": null,
   "id": "b18be7fb-c302-49a4-9e0f-29580fc6c838",
   "metadata": {},
   "outputs": [],
   "source": [
    "web_site='https://www.sec.gov/files/company_tickers.json'\n",
    "df=pd.read_json(web_site)"
   ]
  },
  {
   "cell_type": "code",
   "execution_count": null,
   "id": "05120cb9-ec23-4f77-a10a-4e8c8e06037d",
   "metadata": {},
   "outputs": [],
   "source": [
    "#df.T"
   ]
  },
  {
   "cell_type": "code",
   "execution_count": null,
   "id": "bb53c523-cd17-4562-a9ef-2d8b211f28bc",
   "metadata": {},
   "outputs": [],
   "source": [
    "df=df.reindex(['ticker','title','cik_str'])"
   ]
  },
  {
   "cell_type": "code",
   "execution_count": null,
   "id": "7b3a58ec-e9de-41d3-b9ff-8dd339ec59ee",
   "metadata": {},
   "outputs": [],
   "source": [
    "df_new=df.T"
   ]
  },
  {
   "cell_type": "code",
   "execution_count": null,
   "id": "d632571c-acb4-4114-8fc3-3f6cd4fda3ff",
   "metadata": {},
   "outputs": [],
   "source": [
    "df_new"
   ]
  },
  {
   "cell_type": "code",
   "execution_count": null,
   "id": "e6f89335-a19b-4341-8618-3e3931d931a5",
   "metadata": {},
   "outputs": [],
   "source": [
    "#10 digit CIK for data referencing\n",
    "df_new['CIK']=df_new['cik_str'].apply(lambda x:str(x).zfill(10))"
   ]
  },
  {
   "cell_type": "code",
   "execution_count": null,
   "id": "838553c1-4936-4731-badb-7c9a84edc09a",
   "metadata": {},
   "outputs": [],
   "source": [
    "df_new"
   ]
  },
  {
   "cell_type": "code",
   "execution_count": null,
   "id": "aab24506-014b-42be-aae3-e57063ec0509",
   "metadata": {},
   "outputs": [],
   "source": [
    "df_new.set_index('ticker',inplace=True)"
   ]
  },
  {
   "cell_type": "code",
   "execution_count": null,
   "id": "a979a6ae-96a1-422d-9aa6-dc4a85f2f6ff",
   "metadata": {},
   "outputs": [],
   "source": [
    "st_name ='MSFT'\n",
    "cik_name=df_new.loc[st_name]['CIK']\n",
    "file='CIK'+cik_name+'.json'\n",
    "print(f\"\"\"\n",
    "      stock_name: {st_name}\n",
    "      cik_name  : {cik_name}\n",
    "      file_name : {file}\n",
    "      \"\"\")\n"
   ]
  },
  {
   "cell_type": "code",
   "execution_count": null,
   "id": "07c26b99-da4b-4d58-9d96-cb2569b93b37",
   "metadata": {},
   "outputs": [],
   "source": [
    "#path to company facts\n",
    "#file='CIK0001753391.json'\n",
    "json_file=f'/home/thakur/Downloads/Aacompnayfacts/{file}'\n",
    "print(json_file)"
   ]
  },
  {
   "cell_type": "markdown",
   "id": "f723ace8-01ff-4b4b-8750-dda51394039b",
   "metadata": {},
   "source": [
    "# JSON FILE"
   ]
  },
  {
   "cell_type": "code",
   "execution_count": null,
   "id": "1fe0228d-1886-42f7-9c3b-900326e4ff60",
   "metadata": {},
   "outputs": [],
   "source": [
    "with open(json_file) as jfile:\n",
    "    jf = json.load(jfile)\n",
    "\n"
   ]
  },
  {
   "cell_type": "code",
   "execution_count": null,
   "id": "d4f28f72-f36d-4a49-ae28-26326bd70d13",
   "metadata": {},
   "outputs": [],
   "source": [
    "print(jf.keys())"
   ]
  },
  {
   "cell_type": "code",
   "execution_count": null,
   "id": "ef8f9ef0-ceee-4cac-a4ff-1d59c4a808d6",
   "metadata": {},
   "outputs": [],
   "source": [
    "# keys of ['facts']['us-gaap']\n",
    "print(pd.DataFrame(jf['facts']['us-gaap'].keys(),columns=['Variable']).to_string())"
   ]
  },
  {
   "cell_type": "code",
   "execution_count": null,
   "id": "cf544251-c644-4698-b0e4-1d538502d5e1",
   "metadata": {},
   "outputs": [],
   "source": [
    "parameter='Revenues'\n",
    "rev=jf['facts']['us-gaap'][parameter]['units']['USD']\n",
    "rev"
   ]
  },
  {
   "cell_type": "code",
   "execution_count": null,
   "id": "c46c2ce4-ae94-43e1-8509-3f1967cad244",
   "metadata": {},
   "outputs": [],
   "source": [
    "#dataframe of revenue\n",
    "rev_df=pd.DataFrame(rev)\n",
    "rev_df"
   ]
  },
  {
   "cell_type": "code",
   "execution_count": null,
   "id": "af9b57a0-ccb0-4144-b001-91c24ffa69dd",
   "metadata": {},
   "outputs": [],
   "source": [
    "df_new.loc['AAPL']['cik_str']"
   ]
  },
  {
   "cell_type": "code",
   "execution_count": null,
   "id": "e88592ed-54af-4e9c-bd6d-4195d7674d5d",
   "metadata": {},
   "outputs": [],
   "source": [
    "# Tickers scrappter\n",
    "# create request header\n",
    "headers = {'User-Agent': \"bhattathakur2015@gmail.com\"}"
   ]
  },
  {
   "cell_type": "code",
   "execution_count": null,
   "id": "aecd4320-4d5f-46a3-9699-0a519b3543ca",
   "metadata": {},
   "outputs": [],
   "source": [
    "# get all companies data\n",
    "companyTickers = requests.get(\n",
    "    \"https://www.sec.gov/files/company_tickers.json\",\n",
    "    headers=headers\n",
    "    )"
   ]
  },
  {
   "cell_type": "code",
   "execution_count": null,
   "id": "6961aaf6-121f-49c5-95e7-16a6123e293b",
   "metadata": {},
   "outputs": [],
   "source": [
    "companyTickers"
   ]
  },
  {
   "cell_type": "code",
   "execution_count": null,
   "id": "9c121bf0-748d-46d0-ac28-0c498dc151e8",
   "metadata": {},
   "outputs": [],
   "source": [
    "# review response / keys\n",
    "#print(companyTickers.json().keys())"
   ]
  },
  {
   "cell_type": "code",
   "execution_count": null,
   "id": "30a38f1e-b456-457f-b408-0ed4b46b003c",
   "metadata": {},
   "outputs": [],
   "source": [
    "# format response to dictionary and get first key/value\n",
    "firstEntry = companyTickers.json()['0']\n",
    "\n",
    "# parse CIK // without leading zeros\n",
    "directCik = companyTickers.json()['0']['cik_str']"
   ]
  },
  {
   "cell_type": "code",
   "execution_count": null,
   "id": "f4fe07b5-ec4f-437e-adc9-cc400db2f516",
   "metadata": {},
   "outputs": [],
   "source": [
    "directCik"
   ]
  },
  {
   "cell_type": "code",
   "execution_count": null,
   "id": "c345fe2f-2875-4663-99f3-6ba5d909dd8d",
   "metadata": {},
   "outputs": [],
   "source": [
    "# dictionary to dataframe\n",
    "companyData = pd.DataFrame.from_dict(companyTickers.json(),\n",
    "                                     orient='index')"
   ]
  },
  {
   "cell_type": "code",
   "execution_count": null,
   "id": "f1a04daf-6dfa-4baf-b964-0f42140510e5",
   "metadata": {},
   "outputs": [],
   "source": [
    "companyData"
   ]
  },
  {
   "cell_type": "code",
   "execution_count": null,
   "id": "2ad97adb-c65e-4c86-aec8-8728115f00ad",
   "metadata": {},
   "outputs": [],
   "source": [
    "# add leading zeros to CIK\n",
    "companyData['cik_str'] = companyData['cik_str'].astype(\n",
    "                           str).str.zfill(10)"
   ]
  },
  {
   "cell_type": "code",
   "execution_count": null,
   "id": "5da41444-61bf-4183-8382-30e53627369c",
   "metadata": {},
   "outputs": [],
   "source": [
    "# review data\n",
    "print(companyData[:1])\n",
    "cik = companyData[0:1].cik_str[0]"
   ]
  },
  {
   "cell_type": "code",
   "execution_count": null,
   "id": "b895b8d4-44f1-4733-84ff-dc7e0f236fdb",
   "metadata": {},
   "outputs": [],
   "source": [
    "# get company specific filing metadata\n",
    "filingMetadata = requests.get(\n",
    "    f'https://data.sec.gov/submissions/CIK{cik}.json',\n",
    "    headers=headers\n",
    "    )\n"
   ]
  },
  {
   "cell_type": "code",
   "execution_count": null,
   "id": "8be42a54-de54-48e8-9110-d975b5e1d5c7",
   "metadata": {},
   "outputs": [],
   "source": [
    "# review json \n",
    "print(filingMetadata.json().keys())"
   ]
  },
  {
   "cell_type": "code",
   "execution_count": null,
   "id": "468feaaa-fa96-452f-b645-b5e3204c10cc",
   "metadata": {},
   "outputs": [],
   "source": [
    "# get company concept data\n",
    "companyConcept = requests.get(\n",
    "    (\n",
    "    f'https://data.sec.gov/api/xbrl/companyconcept/CIK{cik}'\n",
    "     f'/us-gaap/Assets.json'\n",
    "    ),\n",
    "    headers=headers\n",
    "    )"
   ]
  },
  {
   "cell_type": "code",
   "execution_count": null,
   "id": "2192009e-e89f-4de0-a2c7-e104f004505b",
   "metadata": {},
   "outputs": [],
   "source": [
    "# get all filings data \n",
    "assetsData = pd.DataFrame.from_dict((\n",
    "               companyConcept.json()['units']['USD']))"
   ]
  },
  {
   "cell_type": "code",
   "execution_count": null,
   "id": "dc0b32db-97e5-4cbd-b122-52b66c22a505",
   "metadata": {},
   "outputs": [],
   "source": [
    "# get all filings data \n",
    "assetsData = pd.DataFrame.from_dict((\n",
    "               companyConcept.json()['units']['USD']))"
   ]
  },
  {
   "cell_type": "code",
   "execution_count": null,
   "id": "315abbbc-6192-480f-8047-78225c5887cc",
   "metadata": {},
   "outputs": [],
   "source": [
    "# get assets from 10Q forms and reset index\n",
    "assets10Q = assetsData[assetsData.form == '10-Q']\n",
    "assets10Q = assets10Q.reset_index(drop=True)"
   ]
  },
  {
   "cell_type": "code",
   "execution_count": null,
   "id": "f089d294-cc1e-4f98-8b77-0ab64312f157",
   "metadata": {},
   "outputs": [],
   "source": [
    "assets10Q.plot(x='end',y='val')"
   ]
  },
  {
   "cell_type": "code",
   "execution_count": null,
   "id": "48ac9439-167d-4197-a6a5-291708e392c1",
   "metadata": {},
   "outputs": [],
   "source": [
    "assets10Q"
   ]
  },
  {
   "cell_type": "code",
   "execution_count": null,
   "id": "40dfea74-a1b1-4c0f-8c65-b0bc24481ec5",
   "metadata": {},
   "outputs": [],
   "source": [
    "assetsData"
   ]
  },
  {
   "cell_type": "code",
   "execution_count": null,
   "id": "a6f85382-a9a6-4dfa-9604-fb044a969d11",
   "metadata": {},
   "outputs": [],
   "source": [
    "assets10Q = assetsData[assetsData.form == '10-Q']\n",
    "assets10Q"
   ]
  },
  {
   "cell_type": "code",
   "execution_count": null,
   "id": "9caca1a1-aec1-48af-a668-c0665e7d599d",
   "metadata": {},
   "outputs": [],
   "source": [
    "assets10Q[-3:].plot(x='end',y='val')"
   ]
  },
  {
   "cell_type": "code",
   "execution_count": null,
   "id": "da922b69-9f8e-4928-88ea-01e0cec89213",
   "metadata": {},
   "outputs": [],
   "source": [
    "assets10Q.frame"
   ]
  },
  {
   "cell_type": "code",
   "execution_count": null,
   "id": "17ae90e4-0920-4153-95b5-60386e9f217f",
   "metadata": {},
   "outputs": [],
   "source": []
  },
  {
   "cell_type": "code",
   "execution_count": null,
   "id": "76435aaf-48ed-4adf-ac67-e95e3cfab38b",
   "metadata": {},
   "outputs": [],
   "source": [
    "companyFacts = requests.get(\n",
    "    f'https://data.sec.gov/api/xbrl/companyfacts/CIK{cik}.json',\n",
    "    headers=headers\n",
    "    )"
   ]
  },
  {
   "cell_type": "code",
   "execution_count": null,
   "id": "04f6afaf-6912-4a94-a72c-46c09d1eeb96",
   "metadata": {},
   "outputs": [],
   "source": [
    "companyFacts.json()['facts']['us-gaap']['Revenues']"
   ]
  },
  {
   "cell_type": "code",
   "execution_count": null,
   "id": "184fffba-6b85-40eb-94d0-bee9cc22109b",
   "metadata": {},
   "outputs": [],
   "source": [
    "companyFacts.json()['facts']['us-gaap'].keys()"
   ]
  },
  {
   "cell_type": "code",
   "execution_count": null,
   "id": "baf8f917-144c-4ae6-be8f-2d4c02efd09e",
   "metadata": {},
   "outputs": [],
   "source": [
    "# dictionary to dataframe\n",
    "allForms = pd.DataFrame.from_dict(\n",
    "             filingMetadata.json()['filings']['recent']\n",
    "             )"
   ]
  },
  {
   "cell_type": "code",
   "execution_count": null,
   "id": "39dc944f-27a1-4768-9617-3d73d840eab1",
   "metadata": {},
   "outputs": [],
   "source": [
    "allForms.columns"
   ]
  },
  {
   "cell_type": "code",
   "execution_count": null,
   "id": "6941345e-dc6d-4219-92fe-425b6becc68e",
   "metadata": {},
   "outputs": [],
   "source": [
    "allForms[['accessionNumber', 'reportDate', 'form']].iloc[11]"
   ]
  },
  {
   "cell_type": "code",
   "execution_count": null,
   "id": "cd4d85df-077e-4d26-89d1-e0f5d871d70f",
   "metadata": {},
   "outputs": [],
   "source": [
    "# dictionary to dataframe\n",
    "allForms = pd.DataFrame.from_dict(\n",
    "             filingMetadata.json()['filings']['recent']\n",
    "             ).iloc[11]"
   ]
  },
  {
   "cell_type": "code",
   "execution_count": null,
   "id": "380b8cbc-6b69-4a9f-b99a-9468629c2ee1",
   "metadata": {},
   "outputs": [],
   "source": [
    "allForms"
   ]
  },
  {
   "cell_type": "code",
   "execution_count": null,
   "id": "5b2c8964-958c-460d-9ae4-385d50183825",
   "metadata": {},
   "outputs": [],
   "source": []
  },
  {
   "cell_type": "code",
   "execution_count": null,
   "id": "b04958f5-0373-41cb-962f-33960b920eeb",
   "metadata": {},
   "outputs": [],
   "source": []
  }
 ],
 "metadata": {
  "kernelspec": {
   "display_name": "Python 3 (ipykernel)",
   "language": "python",
   "name": "python3"
  },
  "language_info": {
   "codemirror_mode": {
    "name": "ipython",
    "version": 3
   },
   "file_extension": ".py",
   "mimetype": "text/x-python",
   "name": "python",
   "nbconvert_exporter": "python",
   "pygments_lexer": "ipython3",
   "version": "3.10.6"
  }
 },
 "nbformat": 4,
 "nbformat_minor": 5
}
