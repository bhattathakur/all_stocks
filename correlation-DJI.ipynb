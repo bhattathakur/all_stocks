{
 "cells": [
  {
   "cell_type": "code",
   "execution_count": null,
   "metadata": {},
   "outputs": [],
   "source": [
    "import pandas as pd\n",
    "import numpy as np\n",
    "import seaborn as sns\n",
    "import matplotlib.pyplot as plt\n",
    "import yfinance as yf\n",
    "import os\n"
   ]
  },
  {
   "cell_type": "code",
   "execution_count": null,
   "metadata": {},
   "outputs": [],
   "source": [
    "data = yf.download(\"^DJI\", period='52wk',\n",
    "                   group_by=\"ticker\")\n",
    "data.to_csv(\"/home/thakur/test/dow30/DJI.csv\",index=False)"
   ]
  },
  {
   "cell_type": "code",
   "execution_count": null,
   "metadata": {},
   "outputs": [],
   "source": [
    "#select the list\n",
    "root='/home/thakur/test/dow30'\n",
    "\n",
    "new_list=[]\n",
    "\n",
    "# desired_list\n",
    "fold=sorted(os.listdir(root))\n",
    "tick=['DOW.csv']\n",
    "if tick[0] in fold:\n",
    "    fold.remove(tick[0])\n",
    "else:\n",
    "    print(f\"{tick[0]} is not prsent!\")\n",
    "\n",
    "fold.insert(0,'DOW.csv')\n",
    "\n",
    "\n",
    "df=pd.DataFrame()\n",
    "\n",
    "for en,j in enumerate(fold,start=1):\n",
    "    tick=j.split(\".\")[0]\n",
    "\n",
    "    file=root+\"/\"+tick+\".csv\"\n",
    "    #print(f\"file: {file}\")\n",
    "    temp_df=(\n",
    "    pd.read_csv(file)\n",
    "    #.Close\n",
    "    .tail(50)\n",
    "    .Close\n",
    "    )\n",
    "\n",
    "    #print(f\"df: {temp_df}\")\n",
    "    df[tick]=temp_df.copy()\n",
    "    corr_df = df.corr(method='pearson')"
   ]
  },
  {
   "cell_type": "code",
   "execution_count": null,
   "metadata": {},
   "outputs": [],
   "source": [
    "corr_df"
   ]
  },
  {
   "cell_type": "code",
   "execution_count": null,
   "metadata": {},
   "outputs": [],
   "source": [
    "# dow_corr=corr_df['DOW']\n",
    "# dow_corr['AMD']"
   ]
  },
  {
   "cell_type": "code",
   "execution_count": null,
   "metadata": {},
   "outputs": [],
   "source": [
    "high=corr_df['DOW'].sort_values(ascending=False)[:50]\n",
    "low=corr_df['DOW'].sort_values(ascending=True)[:50]\n",
    "high"
   ]
  },
  {
   "cell_type": "code",
   "execution_count": null,
   "metadata": {},
   "outputs": [],
   "source": [
    "high"
   ]
  },
  {
   "cell_type": "code",
   "execution_count": null,
   "metadata": {},
   "outputs": [],
   "source": [
    "high_df=high.to_frame().reset_index()\n",
    "high_list=high_df['index'].to_list()\n",
    "high_list"
   ]
  },
  {
   "cell_type": "code",
   "execution_count": null,
   "metadata": {},
   "outputs": [],
   "source": [
    "df=pd.DataFrame()\n",
    "for en,j in enumerate(high_list,start=1):\n",
    "    tick=j\n",
    "\n",
    "    file=root+\"/\"+j+\".csv\"\n",
    "    print(f\"working with {tick} @ {root}\")\n",
    "    #print(f\"file: {file}\")\n",
    "    temp_df=(\n",
    "    pd.read_csv(file)\n",
    "    #.Close\n",
    "    .tail(50)\n",
    "    .Close\n",
    "    )\n",
    "\n",
    "    #print(f\"df: {temp_df}\")\n",
    "    df[tick]=temp_df.copy()\n",
    "    corr_df = df.corr(method='pearson')"
   ]
  },
  {
   "cell_type": "code",
   "execution_count": null,
   "metadata": {},
   "outputs": [],
   "source": [
    "#cmap='Greys'\n",
    "cmap='RdYlGn'\n",
    "plt.figure(figsize=(23, 18))\n",
    "ax=sns.heatmap(corr_df, annot=True, cmap=cmap)\n",
    "ax.tick_params(axis=\"x\", bottom=True, top=True, labelbottom=True, labeltop=True)\n",
    "ax.tick_params(axis=\"y\", left=True, right=True, labelleft=True, labelright=True)\n",
    "# ax.xaxis.tick_top()\n",
    "# ax.xaxis.tick_botttom()\n",
    "plt.savefig('dow30corr.pdf',dpi=600)\n",
    "plt.show()"
   ]
  },
  {
   "cell_type": "code",
   "execution_count": null,
   "metadata": {},
   "outputs": [],
   "source": [
    "low"
   ]
  },
  {
   "cell_type": "code",
   "execution_count": null,
   "metadata": {},
   "outputs": [],
   "source": [
    "#cmap='Greys'\n",
    "cmap='RdYlGn'\n",
    "plt.figure(figsize=(23, 18))\n",
    "ax=sns.heatmap(corr_df, annot=True, cmap=cmap)\n",
    "ax.tick_params(axis=\"x\", bottom=True, top=True, labelbottom=True, labeltop=True)\n",
    "ax.tick_params(axis=\"y\", left=True, right=True, labelleft=True, labelright=True)\n",
    "# ax.xaxis.tick_top()\n",
    "# ax.xaxis.tick_botttom()\n",
    "plt.savefig('dow30corr.pdf',dpi=600)\n",
    "plt.show()"
   ]
  },
  {
   "cell_type": "code",
   "execution_count": null,
   "metadata": {},
   "outputs": [],
   "source": []
  }
 ],
 "metadata": {
  "kernelspec": {
   "display_name": "Python 3 (ipykernel)",
   "language": "python",
   "name": "python3"
  },
  "language_info": {
   "codemirror_mode": {
    "name": "ipython",
    "version": 3
   },
   "file_extension": ".py",
   "mimetype": "text/x-python",
   "name": "python",
   "nbconvert_exporter": "python",
   "pygments_lexer": "ipython3",
   "version": "3.10.6"
  },
  "vscode": {
   "interpreter": {
    "hash": "916dbcbb3f70747c44a77c7bcd40155683ae19c65e1c03b4aa3499c5328201f1"
   }
  }
 },
 "nbformat": 4,
 "nbformat_minor": 4
}
