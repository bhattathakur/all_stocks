{
 "cells": [
  {
   "cell_type": "code",
   "execution_count": null,
   "metadata": {},
   "outputs": [],
   "source": [
    "import pandas as pd\n",
    "import numpy as np\n",
    "import seaborn as sns\n",
    "import matplotlib.pyplot as plt\n",
    "import os\n"
   ]
  },
  {
   "cell_type": "code",
   "execution_count": null,
   "metadata": {},
   "outputs": [],
   "source": [
    "#select the list\n",
    "root='/home/thakur/test/snp500'\n",
    "\n",
    "fold=sorted(os.listdir(root))\n",
    "df=pd.DataFrame()\n",
    "\n",
    "for en,i in enumerate(fold,start=1):\n",
    "    #if en!=1:continue\n",
    "    #print(f\"{en}\\t {i}\")\n",
    "    tick=i.split(\".\")[0]\n",
    "    #print(f\"Ticker: {tick}\")\n",
    "    file=root+\"/\"+tick+\".csv\"\n",
    "    #print(f\"file: {file}\")\n",
    "    temp_df=(pd.read_csv(file)\n",
    "    .Close\n",
    "    .tail(50)\n",
    "    .to_list()\n",
    "    #.values\n",
    "    )\n",
    "\n",
    "    #print(f\"df: {temp_df}\")\n",
    "    df[tick]=temp_df\n",
    "    #print(f\"df: {close.dtypes}\")\n",
    "df\n",
    "    "
   ]
  },
  {
   "cell_type": "code",
   "execution_count": null,
   "metadata": {},
   "outputs": [],
   "source": [
    "#df=df.head()\n",
    "df"
   ]
  },
  {
   "cell_type": "code",
   "execution_count": null,
   "metadata": {},
   "outputs": [],
   "source": [
    "corr_df = df.corr(method='pearson')\n",
    "#reset symbol as index (rather than 0-X)\n",
    "corr_df.head().reset_index()\n",
    "#del corr_df.index.name\n",
    "corr_df.head(10)"
   ]
  },
  {
   "cell_type": "code",
   "execution_count": null,
   "metadata": {},
   "outputs": [],
   "source": [
    "plt.figure(figsize=(13, 8))\n",
    "sns.heatmap(corr_df, annot=True, cmap='RdYlGn')\n",
    "plt.figure()"
   ]
  },
  {
   "cell_type": "code",
   "execution_count": null,
   "metadata": {},
   "outputs": [],
   "source": [
    "! jupyter-notebook stop"
   ]
  },
  {
   "cell_type": "code",
   "execution_count": null,
   "metadata": {},
   "outputs": [],
   "source": []
  }
 ],
 "metadata": {
  "kernelspec": {
   "display_name": "Python 3.10.6 64-bit",
   "language": "python",
   "name": "python3"
  },
  "language_info": {
   "codemirror_mode": {
    "name": "ipython",
    "version": 3
   },
   "file_extension": ".py",
   "mimetype": "text/x-python",
   "name": "python",
   "nbconvert_exporter": "python",
   "pygments_lexer": "ipython3",
   "version": "3.10.6"
  },
  "vscode": {
   "interpreter": {
    "hash": "916dbcbb3f70747c44a77c7bcd40155683ae19c65e1c03b4aa3499c5328201f1"
   }
  }
 },
 "nbformat": 4,
 "nbformat_minor": 2
}
