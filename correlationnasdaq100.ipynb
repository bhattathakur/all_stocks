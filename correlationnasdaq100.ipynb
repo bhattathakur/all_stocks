{
 "cells": [
  {
   "cell_type": "code",
   "execution_count": null,
   "metadata": {},
   "outputs": [],
   "source": [
    "import pandas as pd\n",
    "import numpy as np\n",
    "import seaborn as sns\n",
    "import matplotlib.pyplot as plt\n",
    "import yfinance as yf\n",
    "import os\n"
   ]
  },
  {
   "cell_type": "code",
   "execution_count": null,
   "metadata": {},
   "outputs": [],
   "source": [
    "data = yf.download(\"QQQ\", period='52wk',\n",
    "                   group_by=\"ticker\")\n",
    "data.to_csv(\"/home/thakur/test/nasdaq100/QQQ.csv\",index=False)"
   ]
  },
  {
   "cell_type": "code",
   "execution_count": null,
   "metadata": {},
   "outputs": [],
   "source": [
    "# #select the list\n",
    "# root='/home/thakur/test/snp500'\n",
    "# spy=['SPY']\n",
    "# list25=['AAPL','MSFT', 'AMZN', 'TSLA', 'GOOGL', 'GOOG', 'BRK.B', 'UNH', 'JNJ', 'XOM', 'JPM', 'META', 'V', 'PG', 'NVDA', 'HD', 'CVX', 'LLY', 'MA', 'ABBV', 'PFE', 'MRK', 'PEP', 'BAC', 'KO']\n",
    "\n",
    "# desired_list=spy+list25\n",
    "# desired_list\n",
    "# #fold=sorted(os.listdir(root))\n",
    "# fold=os.listdir(root)\n",
    "# df=pd.DataFrame()\n",
    "\n",
    "# for en,i in enumerate(fold,start=1):\n",
    "#     #if en!=1:continue\n",
    "#     #print(f\"{en}\\t {i}\")\n",
    "#     tick=i.split(\".\")[0]\n",
    "#     if tick not in list25:continue\n",
    "#     #print(f\"Ticker: {tick}\")\n",
    "#     file=root+\"/\"+tick+\".csv\"\n",
    "#     #print(f\"file: {file}\")\n",
    "#     temp_df=(\n",
    "#     pd.read_csv(file)\n",
    "#     .Close\n",
    "#     .tail(50)\n",
    "#     .to_list()\n",
    "#     #.values\n",
    "#     )\n",
    "\n",
    "#     #print(f\"df: {temp_df}\")\n",
    "#     df[tick]=temp_df\n",
    "#     #print(f\"df: {close.dtypes}\")\n",
    "# df\n",
    "    "
   ]
  },
  {
   "cell_type": "code",
   "execution_count": null,
   "metadata": {},
   "outputs": [],
   "source": [
    "#select the list\n",
    "root='/home/thakur/test/nasdaq100/'\n",
    "\n",
    "# desired_list\n",
    "fold=sorted(os.listdir(root))\n",
    "tick=['QQQ.csv']\n",
    "if tick[0] in fold:\n",
    "    fold.remove(tick[0])\n",
    "else:\n",
    "    print(f\"{tick[0]} is not prsent!\")\n",
    "\n",
    "fold=fold[:100]\n",
    "twod=np.array(fold).reshape(10,10).tolist()\n",
    "\n",
    "for i in range(len(twod)):\n",
    "    new_list=twod[i]\n",
    "    new_list.insert(0,'QQQ.csv')\n",
    "\n",
    "    \n",
    "    if i!=0:continue\n",
    "    print(f\"COUNT: {i+1}/{len(twod)}:\")\n",
    "    \n",
    "    #new_list=tick+twod[i]\n",
    "    print(new_list,end='\\n')\n",
    "    df=pd.DataFrame()\n",
    "\n",
    "    for en,j in enumerate(new_list,start=1):\n",
    "        #if en!=1:continue\n",
    "        #print(f\"{en}\\t {j}\")\n",
    "        tick=j.split(\".\")[0]\n",
    "        #if tick not in list25:continue\n",
    "        #print(f\"Ticker: {tick}\")\n",
    "        file=root+\"/\"+tick+\".csv\"\n",
    "        #print(f\"file: {file}\")\n",
    "        temp_df=(\n",
    "        pd.read_csv(file)\n",
    "        #.Close\n",
    "        .tail(50)\n",
    "        .Close\n",
    "        #.reset_index([],axis=1)\n",
    "        #.to_list()\n",
    "        #.values\n",
    "        )\n",
    "\n",
    "        #print(f\"df: {temp_df}\")\n",
    "        df[tick]=temp_df.copy()\n",
    "\n",
    "    new_list.clear()  \n",
    "    corr_df = df.corr(method='pearson')\n",
    "    print(f\"corr_df:\\n{corr_df}\")\n",
    "    print(f\"corr_df_spy:\\n{corr_df['QQQ']}\")\n",
    "#reset symbol as index (rather than 0-X)\n",
    "    corr_df.head().reset_index()\n",
    "\n",
    "    plt.figure(figsize=(23, 18))\n",
    "    sns.heatmap(corr_df, annot=True, cmap='RdYlGn')\n",
    "    plt.figure()\n",
    "    plt.show()\n",
    "\n",
    "    "
   ]
  },
  {
   "cell_type": "code",
   "execution_count": null,
   "metadata": {},
   "outputs": [],
   "source": [
    "#select the list\n",
    "root='/home/thakur/test/nasdaq100/'\n",
    "\n",
    "new_list=[]\n",
    "\n",
    "# desired_list\n",
    "fold=sorted(os.listdir(root))\n",
    "tick=['QQQ.csv']\n",
    "if tick[0] in fold:\n",
    "    fold.remove(tick[0])\n",
    "else:\n",
    "    print(f\"{tick[0]} is not prsent!\")\n",
    "\n",
    "fold.insert(0,'QQQ.csv')\n",
    "\n",
    "\n",
    "df=pd.DataFrame()\n",
    "\n",
    "for en,j in enumerate(fold,start=1):\n",
    "    tick=j.split(\".\")[0]\n",
    "\n",
    "    file=root+\"/\"+tick+\".csv\"\n",
    "    #print(f\"file: {file}\")\n",
    "    temp_df=(\n",
    "    pd.read_csv(file)\n",
    "    #.Close\n",
    "    .tail(50)\n",
    "    .Close\n",
    "    )\n",
    "\n",
    "    #print(f\"df: {temp_df}\")\n",
    "    df[tick]=temp_df.copy()\n",
    "    corr_df = df.corr(method='pearson')"
   ]
  },
  {
   "cell_type": "code",
   "execution_count": null,
   "metadata": {},
   "outputs": [],
   "source": [
    "#select the list\n",
    "root='/home/thakur/test/nasdaq100/'\n",
    "\n",
    "new_list=[]\n",
    "\n",
    "# desired_list\n",
    "fold=sorted(os.listdir(root))\n",
    "tick=['QQQ.csv']\n",
    "if tick[0] in fold:\n",
    "    fold.remove(tick[0])\n",
    "else:\n",
    "    print(f\"{tick[0]} is not prsent!\")\n",
    "\n",
    "fold.insert(0,'QQQ.csv')\n",
    "\n",
    "\n",
    "df=pd.DataFrame()\n",
    "\n",
    "for en,j in enumerate(fold,start=1):\n",
    "    tick=j.split(\".\")[0]\n",
    "\n",
    "    file=root+\"/\"+tick+\".csv\"\n",
    "    #print(f\"file: {file}\")\n",
    "    temp_df=(\n",
    "    pd.read_csv(file)\n",
    "    #.Close\n",
    "    .tail(50)\n",
    "    .Close\n",
    "    )\n",
    "\n",
    "    #print(f\"df: {temp_df}\")\n",
    "    df[tick]=temp_df.copy()\n",
    "    corr_df = df.corr(method='pearson')"
   ]
  },
  {
   "cell_type": "code",
   "execution_count": null,
   "metadata": {},
   "outputs": [],
   "source": [
    "corr_df"
   ]
  },
  {
   "cell_type": "code",
   "execution_count": null,
   "metadata": {},
   "outputs": [],
   "source": [
    "#corr_df>0.5"
   ]
  },
  {
   "cell_type": "code",
   "execution_count": null,
   "metadata": {},
   "outputs": [],
   "source": [
    "# corr_df.head().reset_index()\n",
    "\n",
    "# plt.figure(figsize=(23, 18))\n",
    "# sns.heatmap(corr_df, annot=True, cmap='RdYlGn')\n",
    "# plt.figure()\n",
    "# plt.show()"
   ]
  },
  {
   "cell_type": "code",
   "execution_count": null,
   "metadata": {},
   "outputs": [],
   "source": [
    "spy_corr=corr_df['QQQ']\n",
    "spy_corr['AMD']"
   ]
  },
  {
   "cell_type": "code",
   "execution_count": null,
   "metadata": {},
   "outputs": [],
   "source": [
    "high=corr_df['QQQ'].sort_values(ascending=False)[:50]\n",
    "low=corr_df['QQQ'].sort_values(ascending=True)[:50]\n",
    "low"
   ]
  },
  {
   "cell_type": "code",
   "execution_count": null,
   "metadata": {},
   "outputs": [],
   "source": [
    "high\n"
   ]
  },
  {
   "cell_type": "code",
   "execution_count": null,
   "metadata": {},
   "outputs": [],
   "source": [
    "high_df=high.to_frame().reset_index()\n",
    "high_df=high_df.query('QQQ>0.8')\n",
    "high_df"
   ]
  },
  {
   "cell_type": "code",
   "execution_count": null,
   "metadata": {},
   "outputs": [],
   "source": [
    "high_list=high_df['index'].to_list()\n",
    "high_list"
   ]
  },
  {
   "cell_type": "code",
   "execution_count": null,
   "metadata": {},
   "outputs": [],
   "source": [
    "# corr_df = high_df.corr(method='pearson')\n",
    "# # corr_df.head().reset_index()\n",
    "\n",
    "# # plt.figure(figsize=(23, 18))\n",
    "# # sns.heatmap(corr_df, annot=True, cmap='RdYlGn')\n",
    "# # plt.figure()\n",
    "# # plt.show()\n",
    "# corr_df"
   ]
  },
  {
   "cell_type": "code",
   "execution_count": null,
   "metadata": {},
   "outputs": [],
   "source": [
    "df=pd.DataFrame()\n",
    "for en,j in enumerate(high_list,start=1):\n",
    "    tick=j\n",
    "\n",
    "    file=root+\"/\"+j+\".csv\"\n",
    "    print(f\"working with {tick} @ {root}\")\n",
    "    #print(f\"file: {file}\")\n",
    "    temp_df=(\n",
    "    pd.read_csv(file)\n",
    "    #.Close\n",
    "    .tail(50)\n",
    "    .Close\n",
    "    )\n",
    "\n",
    "    #print(f\"df: {temp_df}\")\n",
    "    df[tick]=temp_df.copy()\n",
    "    corr_df = df.corr(method='pearson')"
   ]
  },
  {
   "cell_type": "code",
   "execution_count": null,
   "metadata": {},
   "outputs": [],
   "source": [
    "corr_df"
   ]
  },
  {
   "cell_type": "code",
   "execution_count": null,
   "metadata": {},
   "outputs": [],
   "source": [
    "#cmap='Greys'\n",
    "cmap='RdYlGn'\n",
    "plt.figure(figsize=(23, 18))\n",
    "ax=sns.heatmap(corr_df, annot=True, cmap=cmap)\n",
    "ax.tick_params(axis=\"x\", bottom=True, top=True, labelbottom=True, labeltop=True)\n",
    "ax.tick_params(axis=\"y\", left=True, right=True, labelleft=True, labelright=True)\n",
    "# ax.xaxis.tick_top()\n",
    "# ax.xaxis.tick_botttom()\n",
    "plt.savefig('nasdaq100corr.pdf',dpi=600)\n",
    "plt.show()"
   ]
  },
  {
   "cell_type": "code",
   "execution_count": null,
   "metadata": {},
   "outputs": [],
   "source": [
    "holding_pct={\n",
    "    \"AAPL\":\"12.63%\",\n",
    "    \"MSFT\":\"12.63%\",\n",
    "    \"GOOGL\":\"3.81%\",\n",
    "    \"GOOG\":\"3.76%\",\n",
    "    \"META\":\"3.66%\",\n",
    "    \"AMZN\":\"6.34%\",\n",
    "    \"NVDA\":\"5.17%\",\n",
    "    \"INTC\":\"0.99%\",\n",
    "    \"MDLZ\":\"0.75%\",\n",
    "    \"VRTX\":\"0.65%\",\n",
    "    \"CDNS\":\"0.45%\",\n",
    "}"
   ]
  },
  {
   "cell_type": "code",
   "execution_count": null,
   "metadata": {},
   "outputs": [],
   "source": [
    "holding_pct"
   ]
  },
  {
   "cell_type": "markdown",
   "metadata": {},
   "source": [
    "# Beta $\\beta$ Calculation"
   ]
  },
  {
   "cell_type": "code",
   "execution_count": null,
   "metadata": {},
   "outputs": [],
   "source": [
    "import numpy as np\n",
    "j='AAPL'\n",
    "file=root+\"/\"+j+\".csv\"\n",
    "print(f\"working with {tick} @ {root}\")\n",
    "    #print(f\"file: {file}\")\n",
    "temp_df=(\n",
    "    pd.read_csv(file)\n",
    "    #.Close\n",
    "    #.tail(50)\n",
    "    .Close\n",
    "    )"
   ]
  },
  {
   "cell_type": "code",
   "execution_count": null,
   "metadata": {},
   "outputs": [],
   "source": [
    "temp_df"
   ]
  },
  {
   "cell_type": "code",
   "execution_count": null,
   "metadata": {},
   "outputs": [],
   "source": [
    "log_returns=np.log(temp_df/temp_df.shift())"
   ]
  },
  {
   "cell_type": "code",
   "execution_count": null,
   "metadata": {},
   "outputs": [],
   "source": [
    "log_returns"
   ]
  },
  {
   "cell_type": "code",
   "execution_count": null,
   "metadata": {},
   "outputs": [],
   "source": [
    "cov=log_returns.cov()"
   ]
  },
  {
   "cell_type": "code",
   "execution_count": null,
   "metadata": {},
   "outputs": [],
   "source": [
    "snp500='/home/thakur/stock_information/snp500finalwvol.csv'"
   ]
  },
  {
   "cell_type": "code",
   "execution_count": null,
   "metadata": {},
   "outputs": [],
   "source": [
    "df=pd.read_csv(snp500)"
   ]
  },
  {
   "cell_type": "code",
   "execution_count": null,
   "metadata": {},
   "outputs": [],
   "source": [
    "snplist=df.SYMBOL.to_list()\n",
    "snplist.insert(0,'SPY')\n",
    "snplist[:10]"
   ]
  },
  {
   "cell_type": "code",
   "execution_count": null,
   "metadata": {},
   "outputs": [],
   "source": [
    "import yfinance as yf\n",
    "import numpy as np\n",
    "from sklearn.linear_model import LinearRegression"
   ]
  },
  {
   "cell_type": "code",
   "execution_count": null,
   "metadata": {},
   "outputs": [],
   "source": [
    "data=yf.download(snplist,period='1y',\n",
    "                 interval='1d')['Adj Close']"
   ]
  },
  {
   "cell_type": "code",
   "execution_count": null,
   "metadata": {},
   "outputs": [],
   "source": [
    "#data=data['Adj Close']\n",
    "data"
   ]
  },
  {
   "cell_type": "code",
   "execution_count": null,
   "metadata": {},
   "outputs": [],
   "source": [
    "price_change=data.pct_change()"
   ]
  },
  {
   "cell_type": "code",
   "execution_count": null,
   "metadata": {},
   "outputs": [],
   "source": [
    "price_change"
   ]
  },
  {
   "cell_type": "code",
   "execution_count": null,
   "metadata": {},
   "outputs": [],
   "source": [
    "df=price_change#.dropna()"
   ]
  },
  {
   "cell_type": "code",
   "execution_count": null,
   "metadata": {},
   "outputs": [],
   "source": [
    "df=df[2:]"
   ]
  },
  {
   "cell_type": "code",
   "execution_count": null,
   "metadata": {},
   "outputs": [],
   "source": [
    "#x=np.array(df['AAPL']).reshape((-1,1));y=np.array(df['SPY'])"
   ]
  },
  {
   "cell_type": "code",
   "execution_count": null,
   "metadata": {},
   "outputs": [],
   "source": [
    "def get_beta(ticker):\n",
    "    x=np.array(df[ticker]).reshape((-1,1));y=np.array(df['SPY'])\n",
    "    model=LinearRegression().fit(x,y)\n",
    "    return [ticker,model.coef_[0]]"
   ]
  },
  {
   "cell_type": "code",
   "execution_count": null,
   "metadata": {},
   "outputs": [],
   "source": [
    "get_beta('AAPL')"
   ]
  },
  {
   "cell_type": "code",
   "execution_count": null,
   "metadata": {},
   "outputs": [],
   "source": [
    "for i in snplist:\n",
    "    get_beta(i)"
   ]
  },
  {
   "cell_type": "code",
   "execution_count": null,
   "metadata": {},
   "outputs": [],
   "source": [
    "model=LinearRegression().fit(x,y)"
   ]
  },
  {
   "cell_type": "code",
   "execution_count": null,
   "metadata": {},
   "outputs": [],
   "source": [
    "print('Beta =', model.coef_)"
   ]
  },
  {
   "cell_type": "code",
   "execution_count": null,
   "metadata": {},
   "outputs": [],
   "source": []
  }
 ],
 "metadata": {
  "kernelspec": {
   "display_name": "Python 3 (ipykernel)",
   "language": "python",
   "name": "python3"
  },
  "language_info": {
   "codemirror_mode": {
    "name": "ipython",
    "version": 3
   },
   "file_extension": ".py",
   "mimetype": "text/x-python",
   "name": "python",
   "nbconvert_exporter": "python",
   "pygments_lexer": "ipython3",
   "version": "3.10.6"
  },
  "vscode": {
   "interpreter": {
    "hash": "916dbcbb3f70747c44a77c7bcd40155683ae19c65e1c03b4aa3499c5328201f1"
   }
  }
 },
 "nbformat": 4,
 "nbformat_minor": 4
}
