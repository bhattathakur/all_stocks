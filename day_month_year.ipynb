{
 "cells": [
  {
   "cell_type": "code",
   "execution_count": null,
   "id": "93a7469b-d19f-4e23-b6d1-93e8057a8e4f",
   "metadata": {},
   "outputs": [],
   "source": [
    "\n",
    "\"\"\"\n",
    "This program creates the html pages with tick's increment in daily, weekly, or monthly basis\n",
    "\"\"\"\n",
    "\n",
    "#libraries\n",
    "import pandas as pd\n",
    "from datetime import datetime\n",
    "import sys\n",
    "import os\n",
    "sys.path.append('/home/thakur/test')\n",
    "import html_template as html\n",
    "import numpy as np\n"
   ]
  },
  {
   "cell_type": "code",
   "execution_count": null,
   "id": "cde45466-9e8e-4151-a7ff-dfa0296f54f7",
   "metadata": {},
   "outputs": [],
   "source": [
    "# nas=pd.read_csv('/home/thakur/stock_information/nasdaq_all.csv')\n",
    "# nas[nas.Symbol=='NIO']\n",
    "# us_com=nas[nas.Country=='United States'].Symbol.to_list()\n",
    "# us_com"
   ]
  },
  {
   "cell_type": "code",
   "execution_count": null,
   "id": "bec9621d-d3db-4cef-98e0-246233542825",
   "metadata": {},
   "outputs": [],
   "source": [
    "nas=pd.read_csv('/home/thakur/stock_information/nasdaq_all.csv')\n",
    "us_com=nas[nas.Country=='United States'].Symbol.to_list()\n",
    "us_com[:10]"
   ]
  },
  {
   "cell_type": "code",
   "execution_count": null,
   "id": "d506fefa-0fa6-4963-b90d-8b2364292cab",
   "metadata": {},
   "outputs": [],
   "source": [
    "#today\n",
    "today=datetime.now().strftime('%m%d%y')\n",
    "#today='100722'\n",
    "def get_status_df(file,cat,days=3):\n",
    "    \"\"\"\n",
    "    Checks whether the df is increasing for days, weeks and months and returns the list.\n",
    "    \"\"\"\n",
    "    #read the file\n",
    "    df_day=pd.read_csv(file)\n",
    "    df_day['Date']=df_day['Date'].apply(lambda x:x.split()[0])\n",
    "    df_day[\"Date\"] = pd.to_datetime(df_day[\"Date\"])\n",
    "    #df_day[\"Date\"]=df_day[\"Date\"].apply(lambda x:x.strftime(\"%Y-%m-%d\"))\n",
    "    df_day.set_index(\"Date\", inplace=True)\n",
    "    #df_day.index=pd.to_datetime(df_day.index,unit='s')\n",
    "    #tick\n",
    "    tick=file.split('.')[0].split('/')[-1]\n",
    "\n",
    "    #get the dataframe\n",
    "    df_daily=df_day['Adj Close'].tail(days)\n",
    "    df_monthly=df_day['Adj Close'].resample(rule='BM').last().tail(days)\n",
    "    df_weekly=df_day['Adj Close'].resample(rule='W').last().tail(days+1)\n",
    "    #print(50*'==')\n",
    "    #print(\"Daily  :\\n\",df_daily)\n",
    "    #print(\"Weekly :\\n\",df_weekly)\n",
    "    #print(\"Monthly:\\n\",df_monthly)\n",
    "\n",
    "    #checking the status\n",
    "    month_increasing=df_monthly.is_monotonic_increasing\n",
    "    month_decreasing=df_monthly.is_monotonic_decreasing\n",
    "    week_increasing=df_weekly.is_monotonic_increasing\n",
    "    week_decreasing=df_weekly.is_monotonic_decreasing\n",
    "    day_increasing=df_daily.is_monotonic_increasing\n",
    "    day_decreasing=df_daily.is_monotonic_decreasing\n",
    "\n",
    "    chk_day=\"up\" if day_increasing else \"down\" if day_decreasing else \"none\"\n",
    "    chk_week=\"up\" if week_increasing else \"down\" if week_decreasing else \"none\"\n",
    "\n",
    "    chk_month=\"up\" if month_increasing else \"down\" if month_decreasing else \"none\"\n",
    "    #print([tick,chk_day,chk_week,chk_month])\n",
    "    return [tick,chk_day,chk_week,chk_month,cat]\n"
   ]
  },
  {
   "cell_type": "code",
   "execution_count": null,
   "id": "9a15d0a8-1173-40d2-b3d0-5eb33d0e80f3",
   "metadata": {},
   "outputs": [],
   "source": [
    "root='/home/thakur/test/{}/'\n",
    "dirs=['mega','medium','large','small','micro','nano']\n",
    "root,dirs"
   ]
  },
  {
   "cell_type": "code",
   "execution_count": null,
   "id": "d871d428-b889-4c84-988d-6ff0880df2a1",
   "metadata": {},
   "outputs": [],
   "source": [
    "all_list=[]\n",
    "for i in dirs:\n",
    "    files=os.listdir(root.format(i))\n",
    "    for f in files:\n",
    "        # if f.split('.')[0] not in nas:\n",
    "        #     print(f\"{f}: Non American\")\n",
    "        #     continue\n",
    "        all_list.append(get_status_df(root.format(i)+f,i))\n",
    "        "
   ]
  },
  {
   "cell_type": "code",
   "execution_count": null,
   "id": "dbfefa9c-8d47-42bf-b2e8-1e8ce097e4b2",
   "metadata": {},
   "outputs": [],
   "source": [
    "#all_list"
   ]
  },
  {
   "cell_type": "code",
   "execution_count": null,
   "id": "e76bf902-96f0-4c61-bb64-62532c429be4",
   "metadata": {},
   "outputs": [],
   "source": [
    "col_names=['TICKER','DAYS_UP','WEEK_UP','MONTH_UP','CATEGORY']\n",
    "\n",
    "df=pd.DataFrame(all_list,columns=col_names)"
   ]
  },
  {
   "cell_type": "code",
   "execution_count": null,
   "id": "a009023e-c773-4861-b2bc-7d1c9144154f",
   "metadata": {},
   "outputs": [],
   "source": [
    "df"
   ]
  },
  {
   "cell_type": "code",
   "execution_count": null,
   "id": "4ebc692d-b579-49a1-92e1-c65e1c1d4c1e",
   "metadata": {},
   "outputs": [],
   "source": [
    "df=df[df.TICKER.isin(us_com)].reset_index(drop=True)\n",
    "df"
   ]
  },
  {
   "cell_type": "markdown",
   "id": "4aa8d6b9-bee4-476e-a472-147ce1bf437a",
   "metadata": {},
   "source": [
    "# DAYS, WEEK, MONTH UP"
   ]
  },
  {
   "cell_type": "code",
   "execution_count": null,
   "id": "1246d491-4d17-4132-8cb2-f51b89a4c724",
   "metadata": {},
   "outputs": [],
   "source": [
    "cond=(df['DAYS_UP']=='up')&(df['WEEK_UP']=='up')&(df['MONTH_UP']=='up')\n",
    "df_up=df[cond]\n",
    "df_up=df_up\\\n",
    ".reset_index(drop=True)\n",
    "df_up"
   ]
  },
  {
   "cell_type": "code",
   "execution_count": null,
   "id": "54519710-8f57-4160-9905-2ca1fdb159ce",
   "metadata": {},
   "outputs": [],
   "source": [
    "grouped=df_up.groupby(['CATEGORY'])\n"
   ]
  },
  {
   "cell_type": "code",
   "execution_count": null,
   "id": "82706117-9158-4fd2-8610-b74d67dc8c06",
   "metadata": {},
   "outputs": [],
   "source": [
    "def get_last_price(ticker,cat):\n",
    "    '''\n",
    "    returns the last price of the ticker\n",
    "    '''\n",
    "    f=root.format(cat)+ticker+'.csv'\n",
    "    last_val=pd.read_csv(f).tail(1)['Adj Close'].values[0]\n",
    "    return last_val\n",
    "    "
   ]
  },
  {
   "cell_type": "code",
   "execution_count": null,
   "id": "c0ab993c-3eb3-4ac9-be00-a662a44ec7ff",
   "metadata": {},
   "outputs": [],
   "source": [
    "def get_yahoo_link(ticker):\n",
    "    '''returns yahoo link to the given ticker'''\n",
    "    return f'https://finance.yahoo.com/quote/{ticker}?p={ticker}&.tsrc=fin-srch'\n",
    "\n",
    "def get_google_link(ticker):\n",
    "    '''returns yahoo link to the given ticker'''\n",
    "    return f'https://www.google.com/finance/quote/{ticker}'\n",
    "    #return f'https://finance.yahoo.com/quote/{ticker}?p={ticker}&.tsrc=fin-srch'"
   ]
  },
  {
   "cell_type": "code",
   "execution_count": null,
   "id": "c807a63a-67a2-4191-936f-aba2daa9cb68",
   "metadata": {},
   "outputs": [],
   "source": [
    "# nasdaq=nas[['Symbol','Country']]\n",
    "# nasdaq\n",
    "# #nasdaq.Country.value_counts()\n",
    "# #.values_count()"
   ]
  },
  {
   "cell_type": "code",
   "execution_count": null,
   "id": "ab444efc-2dfa-4b2a-8fb6-d4a45f6b890e",
   "metadata": {},
   "outputs": [],
   "source": [
    "for dir in dirs:\n",
    "    temp=grouped.get_group(dir).reset_index(drop=True)\n",
    "    #temp['LAST']=temp['TICKER'].apply(lambda x:get_last_price(x,dir))\n",
    "    temp.insert(1,'LAST',temp['TICKER'].apply(lambda x:get_last_price(x,dir)))\n",
    "    temp['Y-LINK']=temp['TICKER'].apply(lambda x:get_yahoo_link(x))\n",
    "    temp['G-LINK']=temp['TICKER'].apply(lambda x:get_google_link(x))\n",
    "    #temp['COUNTRY']=nasdaq[nasdaq.Symbol==\n",
    "    temp=temp.sort_values(by='LAST').reset_index(drop=True)\n",
    "    temp.index+=1\n",
    "    print(f\"{temp.to_string()}\\n\")"
   ]
  },
  {
   "cell_type": "code",
   "execution_count": null,
   "id": "1ac3cbfe-fab1-418f-bc33-ee2c552678d3",
   "metadata": {},
   "outputs": [],
   "source": []
  }
 ],
 "metadata": {
  "kernelspec": {
   "display_name": "Python 3 (ipykernel)",
   "language": "python",
   "name": "python3"
  },
  "language_info": {
   "codemirror_mode": {
    "name": "ipython",
    "version": 3
   },
   "file_extension": ".py",
   "mimetype": "text/x-python",
   "name": "python",
   "nbconvert_exporter": "python",
   "pygments_lexer": "ipython3",
   "version": "3.10.6"
  }
 },
 "nbformat": 4,
 "nbformat_minor": 5
}
