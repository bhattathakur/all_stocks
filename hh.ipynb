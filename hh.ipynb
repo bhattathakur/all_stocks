{
 "cells": [
  {
   "cell_type": "code",
   "execution_count": null,
   "id": "f5d9a867-877d-4a64-a734-b33e07cfbcce",
   "metadata": {},
   "outputs": [],
   "source": [
    "import pandas as pd\n",
    "import numpy as np\n",
    "import matplotlib.pyplot as plt\n",
    "import talib as ta\n",
    "import mplfinance as mpf\n",
    "import seaborn as sns\n",
    "pd.set_option('display.max_columns', None);pd.set_option('display.max_rows', None)"
   ]
  },
  {
   "cell_type": "code",
   "execution_count": null,
   "id": "2546b98a-255d-4958-bdb5-1b565cc7836b",
   "metadata": {},
   "outputs": [],
   "source": [
    "spac_file='/home/thakur/stock_information/spac_list.csv'\n",
    "spac=pd.read_csv(spac_file)\n",
    "spac_list=spac['Symbol'].to_list()\n",
    "spac_list[:20]"
   ]
  },
  {
   "cell_type": "code",
   "execution_count": null,
   "id": "7150a0c2-7bd8-4e6e-a273-d28cf1fadda5",
   "metadata": {},
   "outputs": [],
   "source": [
    "def plot_with_mpl(root,tick,day=60,sty='classic',typ='candle'):\n",
    "    \"returns the candle stick of a stock tick for the given root file.\"\n",
    "\n",
    "    df=pd.read_csv(root+'/'+tick+'.csv').tail(day)\n",
    "    df['Date']=df['Date'].apply(lambda x:x.split()[0])\n",
    "\n",
    "    df['rsi']=ta.RSI(df['Close']);df['sma-5']=ta.SMA(df['Close'],5);df['sma-10']=ta.SMA(df['Close'],10)\n",
    "    #df.fillna(0,inplace=True)\n",
    "    apds = [ \n",
    "         mpf.make_addplot((df['rsi']),panel=1,color='r',secondary_y=True,type='line',width=0.5),\n",
    "         #mpf.make_addplot((df['sma-5']),color='g',type='line',width=0.2),\n",
    "         #mpf.make_addplot((df['sma-10']),color='r',type='line',width=0.2)\n",
    "       ]\n",
    "    df.Volume=df.Volume/10**6              #100k volume\n",
    "    df.Date=pd.to_datetime(df.Date)\n",
    "    df.set_index('Date',inplace=True)\n",
    "    fig,axes=mpf.plot(df,type=typ,mav=(5,21),volume=True,tight_layout=False,figratio=(80,36),figscale=1,\n",
    "                    style=sty,returnfig=True,addplot=apds,scale_width_adjustment=dict(volume=0.6,candle=0.8,lines=0.4))#,update_width_config=dict(candle_linewidth=1.75,candle_width=0.1))\n",
    "    axes[0].legend([\" \",\" \",\"5-SMA\",\"21-SMA\"],loc='upper center')\n",
    "    #axes[0].legend(loc='upper left')\n",
    "    axes[0].set_title(tick)\n",
    "    mpf.show()\n",
    "\n",
    "# def make_clickable(url, name):\n",
    "#     return '{}\" rel=\"noopener noreferrer\" target=\"_blank\">{}'.format(url,name)\n",
    "\n",
    "def get_yahoo_link(ticker):\n",
    "    \"\"\"\n",
    "    Get the yahoo link\n",
    "    \"\"\"\n",
    "    #return '{}\" rel=\"noopener noreferrer\" target=\"_blank\">{}'.format(url,name)\n",
    "    url=\"https://finance.yahoo.com/quote/{}?p={}&.tsrc=fin-srch\"\n",
    "    #return '{}\" rel=\"noopener noreferrer\" target=\"_blank\">{}'.format(url,ticker)\n",
    "    return url.format(ticker,ticker)\n"
   ]
  },
  {
   "cell_type": "code",
   "execution_count": null,
   "id": "71fe21a1-a85f-4840-8b35-117c1ff901a9",
   "metadata": {},
   "outputs": [],
   "source": [
    "file='/home/thakur/test/combined/all_nasdaq.csv'"
   ]
  },
  {
   "cell_type": "code",
   "execution_count": null,
   "id": "0be62598-4257-4323-b432-f950c41845a7",
   "metadata": {},
   "outputs": [],
   "source": [
    "df=pd.read_csv(file)"
   ]
  },
  {
   "cell_type": "code",
   "execution_count": null,
   "id": "f1584969-3d22-42aa-95a9-044f1bc79c64",
   "metadata": {},
   "outputs": [],
   "source": [
    "df=df[(df.CATEGORY!='nano') & (df.CATEGORY!='micro') & (df['%CHG']!=np.inf) & (df.COUNTRY=='United States')]\n",
    "df['YAHOO']=df['TICKER'].apply(lambda x:get_yahoo_link(x))#.apply(lambda x: yahoo_clickable(x, 'yahoo'))\n",
    "df=df.query('HH & HL & HC & CP>0 & VOL>AVGVOL & CP>SMA50 & CP>SMA200')\\\n",
    ".sort_values('CP')\\\n",
    ".reset_index(drop=True)\n",
    "\n",
    "\n",
    "\n",
    "df[:20]"
   ]
  },
  {
   "cell_type": "code",
   "execution_count": null,
   "id": "3ceb0d1c-932d-483d-8076-b82bfaa5ba93",
   "metadata": {},
   "outputs": [],
   "source": [
    "df=df.drop(columns=['LH','LL','SMA21','HH','HL','HC','HV'])\n",
    "df\n",
    "#df[:20]"
   ]
  },
  {
   "cell_type": "code",
   "execution_count": null,
   "id": "84e2074d-d7f5-4052-a9fd-6f724b19428f",
   "metadata": {},
   "outputs": [],
   "source": [
    "df=df[~df.TICKER.isin(spac_list)]\n",
    "df"
   ]
  },
  {
   "cell_type": "code",
   "execution_count": null,
   "id": "d7211761-17d9-4930-a332-6b2bd09999e2",
   "metadata": {},
   "outputs": [],
   "source": [
    "tick=df['TICKER'].to_list()\n",
    "plot=True\n",
    "if plot:\n",
    "    for c,i in enumerate(tick):\n",
    "        \n",
    "        print(f\"\\n\\n{df[df['TICKER']==i].to_string()}\\n\")\n",
    "        dis=df[df['TICKER']==i]['CATEGORY'].values[0]\n",
    "        #print(f\"dis: {dis}\\n\")\n",
    "        root='/home/thakur/test/'+dis+'/'\n",
    "        #print(f\"root: {root}\\n\")\n",
    "        plot_with_mpl(root,i,sty='default')"
   ]
  },
  {
   "cell_type": "code",
   "execution_count": null,
   "id": "1bd332f3-c7e7-4ff1-ab4e-d37e4b1831c8",
   "metadata": {},
   "outputs": [],
   "source": []
  },
  {
   "cell_type": "code",
   "execution_count": null,
   "id": "6f5ac551-b332-4aba-b828-6ecab2609e40",
   "metadata": {},
   "outputs": [],
   "source": []
  }
 ],
 "metadata": {
  "kernelspec": {
   "display_name": "Python 3 (ipykernel)",
   "language": "python",
   "name": "python3"
  },
  "language_info": {
   "codemirror_mode": {
    "name": "ipython",
    "version": 3
   },
   "file_extension": ".py",
   "mimetype": "text/x-python",
   "name": "python",
   "nbconvert_exporter": "python",
   "pygments_lexer": "ipython3",
   "version": "3.10.6"
  }
 },
 "nbformat": 4,
 "nbformat_minor": 5
}
