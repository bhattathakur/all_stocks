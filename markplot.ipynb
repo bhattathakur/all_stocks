{
 "cells": [
  {
   "cell_type": "code",
   "execution_count": null,
   "id": "3805d337-e573-418e-b0da-bdd6d9c93645",
   "metadata": {},
   "outputs": [],
   "source": [
    "#libraries\n",
    "\n",
    "import pandas as pd\n",
    "import numpy as np\n",
    "import mplfinance as mpf\n",
    "import matplotlib.pyplot as plt\n",
    "import talib as ta\n",
    "import seaborn as sns\n",
    "#from datetime import datetime\n",
    "import glob\n",
    "import os\n",
    "#import subprocess\n",
    "sns.set_theme()\n",
    "\n",
    "pd.set_option('display.max_columns', None);pd.set_option('display.max_rows', None)\n"
   ]
  },
  {
   "cell_type": "code",
   "execution_count": null,
   "id": "aa4a04e8-0132-44ee-9c1c-4a684b795b84",
   "metadata": {},
   "outputs": [],
   "source": [
    "def plot_with_mpl(root,tick,day=60,sty='classic',typ='candle'):\n",
    "    \"returns the candle stick of a stock tick for the given root file.\"\n",
    "\n",
    "    df=pd.read_csv(root+'/'+tick+'.csv').tail(day)\n",
    "    df['Date']=df['Date'].apply(lambda x:x.split()[0])\n",
    "\n",
    "    df['rsi']=ta.RSI(df['Close']);df['sma-5']=ta.SMA(df['Close'],5);df['sma-10']=ta.SMA(df['Close'],10)\n",
    "    #df.fillna(0,inplace=True)\n",
    "    apds = [ \n",
    "         mpf.make_addplot((df['rsi']),panel=1,color='r',secondary_y=True,type='line',width=0.5),\n",
    "         #mpf.make_addplot((df['sma-5']),color='g',type='line',width=0.2),\n",
    "         #mpf.make_addplot((df['sma-10']),color='r',type='line',width=0.2)\n",
    "       ]\n",
    "    df.Volume=df.Volume/10**6              #100k volume\n",
    "    df.Date=pd.to_datetime(df.Date)\n",
    "    df.set_index('Date',inplace=True)\n",
    "    fig,axes=mpf.plot(df,type=typ,mav=(5,21),volume=True,tight_layout=False,figratio=(80,36),figscale=1,\n",
    "                    style=sty,returnfig=True,addplot=apds,scale_width_adjustment=dict(volume=0.6,candle=0.8,lines=0.4))#,update_width_config=dict(candle_linewidth=1.75,candle_width=0.1))\n",
    "    axes[0].legend([\" \",\" \",\"5-SMA\",\"21-SMA\"],loc='upper center')\n",
    "    #axes[0].legend(loc='upper left')\n",
    "    axes[0].set_title(tick)\n",
    "    mpf.show()\n",
    "\n",
    "# def make_clickable(url, name):\n",
    "#     return '{}\" rel=\"noopener noreferrer\" target=\"_blank\">{}'.format(url,name)\n",
    "\n",
    "def get_yahoo_link(ticker):\n",
    "    \"\"\"\n",
    "    Get the yahoo link\n",
    "    \"\"\"\n",
    "    #return '{}\" rel=\"noopener noreferrer\" target=\"_blank\">{}'.format(url,name)\n",
    "    url=\"https://finance.yahoo.com/quote/{}?p={}&.tsrc=fin-srch\"\n",
    "    #return '{}\" rel=\"noopener noreferrer\" target=\"_blank\">{}'.format(url,ticker)\n",
    "    return url.format(ticker,ticker)\n",
    "\n",
    "def short_industry(x):\n",
    "    temp=x.split()\n",
    "    if len(temp)>2:\n",
    "        return temp[0]+\"-\"+temp[1]\n",
    "    else:\n",
    "        return x\n"
   ]
  },
  {
   "cell_type": "code",
   "execution_count": null,
   "id": "b7ad277a-e127-42a3-aa8a-6692361bedd6",
   "metadata": {},
   "outputs": [],
   "source": [
    "def plot_all(j,plot=True):\n",
    "    #j=0 #nano\n",
    "    df=pd.read_csv(files[j]).drop(columns=['SMA150','SMA200PAST20','NAME']).sort_values(by='CP').reset_index(drop=True)\n",
    "    df['YAHOO']=df['TICK'].apply(lambda x:get_yahoo_link(x))#.apply(lambda x: yahoo_clickable(x, 'yahoo'))\n",
    "\n",
    "    #df_sector=reset_index(df_sector)\n",
    "    print(df.to_string())\n",
    "    tick=df['TICK'].to_list()\n",
    "    #sec=df_sector['SECTOR'].to_list()\n",
    "    root=roots[j]\n",
    "    if plot:\n",
    "        for c,i in enumerate(tick):\n",
    "        #file=root.format(cat[c],i)\n",
    "        #print(f\"file: {file}\")\n",
    "            print(f\"\\n\\n{df[df['TICK']==i].to_string()}\\n\")\n",
    "            plot_with_mpl(root,i,sty='default')"
   ]
  },
  {
   "cell_type": "code",
   "execution_count": null,
   "id": "939e9f6a-3ec3-4352-a157-ac132ab85d3d",
   "metadata": {},
   "outputs": [],
   "source": [
    "#create yfinance portfolio sample\n",
    "def yahoo_portfolio(df,save_name):\n",
    "    \"\"\"\n",
    "    returns the yfinance compatable portfolio template for given df name of save file\n",
    "    \"\"\"\n",
    "    cols=['Symbol','Current Price','Date', 'Time', 'Change', 'Open', 'High', 'Low', 'Volume', 'Trade Date',\n",
    "          'Purchase Price','Quantity','Commission','High Limit','Low Limit','Comment']\n",
    "\n",
    "    sym=list(df.TICKER)\n",
    "    dic_val=[sym]+14*[None] #14 None\n",
    "    my_dict=dict(zip(cols,dic_val)) #dictionary\n",
    "    my_df=pd.DataFrame.from_dict(my_dict)\n",
    "    my_df.to_csv(save_name+\".csv\")\n",
    "    print(f\"Created the yahoo template: {save_name}.csv from data frame !\")"
   ]
  },
  {
   "cell_type": "code",
   "execution_count": null,
   "id": "f3d54170-635e-4023-a2d0-1cf86617ccb7",
   "metadata": {},
   "outputs": [],
   "source": [
    "root='/home/thakur/test/combined/{}'\n",
    "file_path='/home/thakur/test/combined/mark*.csv'\n",
    "files = sorted(glob.iglob(file_path), key=os.path.getctime, reverse=True)[:6]\n",
    "roots=['nano','micro','small','medium','large','mega']\n",
    "roots=['/home/thakur/test/'+i for i in roots]\n",
    "files"
   ]
  },
  {
   "cell_type": "code",
   "execution_count": null,
   "id": "f43106ac-78d1-4a7c-b8c5-1971c36b8679",
   "metadata": {},
   "outputs": [],
   "source": [
    "all_nasdaq='all_nasdaq.csv'\n",
    "all_mark='all_mark.csv'"
   ]
  },
  {
   "cell_type": "markdown",
   "id": "5703f08a-c1d5-41e3-a91c-7ff92736d254",
   "metadata": {},
   "source": [
    "# ALL NASDAQ"
   ]
  },
  {
   "cell_type": "code",
   "execution_count": null,
   "id": "8c85b9ec-1add-4522-9ef9-5dbd7bc51084",
   "metadata": {},
   "outputs": [],
   "source": [
    "df_nasdaq=pd.read_csv(root.format(all_nasdaq))\n",
    "df_nasdaq.head()"
   ]
  },
  {
   "cell_type": "markdown",
   "id": "d9d5d541-fcf8-4bcf-9c7b-7873798274ba",
   "metadata": {},
   "source": [
    "# MARK"
   ]
  },
  {
   "cell_type": "code",
   "execution_count": null,
   "id": "c9bc1aa0-9c1d-448c-8a59-c734269e76e1",
   "metadata": {},
   "outputs": [],
   "source": [
    "df_mark=pd.read_csv(root.format(all_mark))\n",
    "df_mark.head()"
   ]
  },
  {
   "cell_type": "markdown",
   "id": "5efa8138-8b9f-4ceb-b065-5c9bcf5e8678",
   "metadata": {},
   "source": [
    "# SHAPE"
   ]
  },
  {
   "cell_type": "code",
   "execution_count": null,
   "id": "91db2513-2aaf-40b3-b5ad-47875f6003c8",
   "metadata": {},
   "outputs": [],
   "source": [
    "print(df_mark.shape)"
   ]
  },
  {
   "cell_type": "code",
   "execution_count": null,
   "id": "f2bc26e2-740d-4600-b1cd-3b57c0f1cf8c",
   "metadata": {},
   "outputs": [],
   "source": [
    "test=df_mark.TICK.to_list()\n",
    "df=df_nasdaq[df_nasdaq.TICKER.isin(test)]\\\n",
    ".reset_index(drop=True)\n",
    "df.head(10)"
   ]
  },
  {
   "cell_type": "markdown",
   "id": "af2eef0f-72e6-4f3c-aa11-f02def75c122",
   "metadata": {},
   "source": [
    "# HH & HL & HC "
   ]
  },
  {
   "cell_type": "code",
   "execution_count": null,
   "id": "4818e3ac-b320-44f7-8ad4-1dc3a095919f",
   "metadata": {},
   "outputs": [],
   "source": [
    "# select the data from Mark\n",
    "#category=['mega','medium','large','small','micro','nano']\n",
    "con='HH & HL & HC & HV'\n",
    "selected=['mega','medium','large','small','micro','nano']\n",
    "df=df[df.CATEGORY.isin(selected)]\\\n",
    ".query(con)\\\n",
    ".sort_values('CP')\\\n",
    ".reset_index(drop=True)\n",
    "#df_mark[list(df_mark.CATEGORY.unique()) in ['mega']]\n",
    "#df_mark[df_mark.CATEGORY.unique in ['medium']]# | df_mark.CATEGORY=='large' | df_mark.CATEGORY=='small']\n",
    "df.head(10)"
   ]
  },
  {
   "cell_type": "code",
   "execution_count": null,
   "id": "deba2831-3c35-4c61-b9da-33c72811a8cf",
   "metadata": {},
   "outputs": [],
   "source": [
    "#choose=['TICKER', 'CP','HH','HL','HV', 'RSI', 'SMA21', 'SMA50', 'SMA200','VOL', 'AVGVOL', '%CHG', 'ATR', 'SECTOR',  'IPO','CATEGORY', 'ylink']\n",
    "#print(choose)\n",
    "df.head(20)"
   ]
  },
  {
   "cell_type": "markdown",
   "id": "30b9a953-37c2-444b-a00f-f32566b53959",
   "metadata": {},
   "source": [
    "# By category"
   ]
  },
  {
   "cell_type": "code",
   "execution_count": null,
   "id": "2b35131b-baa9-40e3-92c1-a5a56299ecb7",
   "metadata": {},
   "outputs": [],
   "source": [
    "present=df.CATEGORY.unique()\n",
    "print(f\" {present}\")"
   ]
  },
  {
   "cell_type": "code",
   "execution_count": null,
   "id": "fc28d842-fc35-4452-9ebe-909c05a3f631",
   "metadata": {},
   "outputs": [],
   "source": [
    "drop_cols=list(df.columns)[3:8]+['HV']+['EMA8']+['INDUSTRY']+['COUNTRY']\n",
    "print(f\"Dropped Columns: {drop_cols}\")\n",
    "df_t=df.drop(columns=drop_cols)\n",
    "df_t.head()"
   ]
  },
  {
   "cell_type": "code",
   "execution_count": null,
   "id": "a75d647c-a97a-4216-ac27-5530c0beae3d",
   "metadata": {},
   "outputs": [],
   "source": [
    "grouped=df.groupby(by='CATEGORY')\n",
    "for i,cat in enumerate(present,start=1):\n",
    "    print(f\"\\nWorking with: {i}/{len(present)} => {cat}\\n\")\n",
    "    df_temp=grouped.get_group(cat).reset_index(drop=True)\n",
    "    df_temp['y-link']=df_temp['TICKER'].apply(lambda x:get_yahoo_link(x))\n",
    "    df_temp.index+=1\n",
    "    print(f\"{df_temp.to_string()}\")"
   ]
  },
  {
   "cell_type": "code",
   "execution_count": null,
   "id": "ee1d653c-4597-4281-85b6-11b8341a3de8",
   "metadata": {},
   "outputs": [],
   "source": [
    "# df=df_nasdaq.query('HH & HL & HC')\\\n",
    "# .sort_values(by='CP')\\\n",
    "# .reset_index(drop=True)\n",
    "\n",
    "df['ylink']=df['TICKER'].apply(lambda x:get_yahoo_link(x))\n",
    "#df['INDUSTRY']=df['INDUSTRY'].apply(lambda x:short_industry(x))\n",
    "df.head(10)"
   ]
  },
  {
   "cell_type": "code",
   "execution_count": null,
   "id": "de703d76-494f-429f-a72a-c918169890f4",
   "metadata": {},
   "outputs": [],
   "source": [
    "get=['TICKER','CP','RSI','VOL','AVGVOL','%CHG','ATR','CATEGORY','ylink']\n",
    "print(df[get].to_string())"
   ]
  },
  {
   "cell_type": "code",
   "execution_count": null,
   "id": "ddc040e1-705f-4764-b774-39b4e5d139c6",
   "metadata": {},
   "outputs": [],
   "source": [
    "#df.COUNTRY.value_counts()\n"
   ]
  },
  {
   "cell_type": "code",
   "execution_count": null,
   "id": "b3fccfe2-d860-4cc6-a0d0-752a87f69366",
   "metadata": {},
   "outputs": [],
   "source": [
    "print(f\"Total length : {df.shape[0]}\")"
   ]
  },
  {
   "cell_type": "code",
   "execution_count": null,
   "id": "0f714ae8-16bd-4be9-9da5-6659421a067d",
   "metadata": {},
   "outputs": [],
   "source": [
    "int_list=['SECTOR','CATEGORY','IPO']\n",
    "for c,i in enumerate(int_list):\n",
    "    if c==0:print(20*\"==\")\n",
    "    print(f\"{i:^40}\\n\\n{df[i].value_counts()}\\n\")\n",
    "    print(20*\"==\")"
   ]
  },
  {
   "cell_type": "code",
   "execution_count": null,
   "id": "3f123ef5-f80f-4d5c-b1c0-0a178717bfed",
   "metadata": {},
   "outputs": [],
   "source": [
    "df.columns"
   ]
  },
  {
   "cell_type": "code",
   "execution_count": null,
   "id": "5c2eeb82-9163-481e-a4a1-66ea1eac5020",
   "metadata": {},
   "outputs": [],
   "source": [
    "slc=['TICKER', 'CP', 'RSI',\n",
    "       'SMA5', 'SMA21', 'SMA50', 'SMA200', 'VOL', 'AVGVOL', '%CHG', 'ATR',\n",
    "       'SECTOR', 'INDUSTRY', 'IPO', 'COUNTRY', 'CATEGORY', 'ylink']"
   ]
  },
  {
   "cell_type": "code",
   "execution_count": null,
   "id": "2d93b34f-55c4-4a57-8918-bebf90825a8a",
   "metadata": {},
   "outputs": [],
   "source": [
    "yahoo_portfolio(df,\"yahoo_mark\")"
   ]
  },
  {
   "cell_type": "code",
   "execution_count": null,
   "id": "5d38a5de-db83-4c42-88b0-cf8a8d52d4db",
   "metadata": {},
   "outputs": [],
   "source": [
    "tickers=df.TICKER.to_list()\n",
    "r='/home/thakur/test/{}'\n",
    "#ignore=['micro','nano','mega']\n",
    "for i in tickers:\n",
    "    root=df.loc[df.TICKER==i,\"CATEGORY\"].values[0]\n",
    "    #if root=='micro' or root=='nano':continue #ignoring micro and nano\n",
    "    #if root in ignore:continue\n",
    "    pst=df.loc[df.TICKER==i][slc].to_string()\n",
    "    print(f\"{pst}\")\n",
    "    #print(f\"{df.loc[df.TICKER==i,\"CATEGORY\"]}\")\n",
    "    root=r.format(root)\n",
    "    #print(f\"root: {root}\")\n",
    "    plot_with_mpl(root,i,sty='default')"
   ]
  },
  {
   "cell_type": "markdown",
   "id": "1ef0d204-08ef-4d4c-b608-c103c93f09c4",
   "metadata": {},
   "source": [
    "# MARK MEGA"
   ]
  },
  {
   "cell_type": "code",
   "execution_count": null,
   "id": "ad4d8383-e244-430d-8748-7810db02c097",
   "metadata": {},
   "outputs": [],
   "source": [
    "plot=True\n",
    "plot_all(5,plot)"
   ]
  },
  {
   "cell_type": "markdown",
   "id": "8a022f62-5f41-422e-a745-33d92cf60032",
   "metadata": {},
   "source": [
    "# MARK LARGE"
   ]
  },
  {
   "cell_type": "code",
   "execution_count": null,
   "id": "8990d713-980b-43d2-a337-5f657967c69a",
   "metadata": {},
   "outputs": [],
   "source": [
    "plot=True\n",
    "plot_all(4,plot)"
   ]
  },
  {
   "cell_type": "markdown",
   "id": "57b81dcd-4c12-4dca-9877-82f5e8abc7f8",
   "metadata": {},
   "source": [
    "# MARK MEDIUM"
   ]
  },
  {
   "cell_type": "code",
   "execution_count": null,
   "id": "cd7a04cc-ecf5-417b-aa98-3f5d67e0aab6",
   "metadata": {},
   "outputs": [],
   "source": [
    "plot=True\n",
    "plot_all(3,plot)"
   ]
  },
  {
   "cell_type": "markdown",
   "id": "581bdd91-66fc-488e-8f06-6465c5656d19",
   "metadata": {},
   "source": [
    "# MARK SMALL"
   ]
  },
  {
   "cell_type": "code",
   "execution_count": null,
   "id": "29b8e294-39b1-472c-ac4c-78fd33f914ad",
   "metadata": {},
   "outputs": [],
   "source": [
    "plot=True\n",
    "plot_all(2,plot)"
   ]
  },
  {
   "cell_type": "markdown",
   "id": "8f97dc43-e215-46a0-a274-b7a126882844",
   "metadata": {},
   "source": [
    "# MARK MICRO\n",
    "\n"
   ]
  },
  {
   "cell_type": "code",
   "execution_count": null,
   "id": "ee1ff2f9-187e-4c08-9160-de9d0b498447",
   "metadata": {},
   "outputs": [],
   "source": [
    "plot=True\n",
    "plot_all(1,plot)"
   ]
  },
  {
   "cell_type": "markdown",
   "id": "1ba98af8-f5dd-4474-a244-080a55586a11",
   "metadata": {},
   "source": [
    "# MARK NANO"
   ]
  },
  {
   "cell_type": "code",
   "execution_count": null,
   "id": "b158bf78-17bc-4e29-a9e9-298aa3f4bdc8",
   "metadata": {},
   "outputs": [],
   "source": [
    "plot=True\n",
    "plot_all(0,plot)\n"
   ]
  },
  {
   "cell_type": "code",
   "execution_count": null,
   "id": "1be398ac-89ad-4af2-be7c-004158ae73f1",
   "metadata": {},
   "outputs": [],
   "source": []
  }
 ],
 "metadata": {
  "kernelspec": {
   "display_name": "Python 3 (ipykernel)",
   "language": "python",
   "name": "python3"
  },
  "language_info": {
   "codemirror_mode": {
    "name": "ipython",
    "version": 3
   },
   "file_extension": ".py",
   "mimetype": "text/x-python",
   "name": "python",
   "nbconvert_exporter": "python",
   "pygments_lexer": "ipython3",
   "version": "3.10.6"
  }
 },
 "nbformat": 4,
 "nbformat_minor": 5
}
