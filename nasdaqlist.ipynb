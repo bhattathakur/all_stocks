{
 "cells": [
  {
   "cell_type": "markdown",
   "id": "137de490-70c8-4ddd-ba40-654ed9730106",
   "metadata": {},
   "source": [
    "# Divide the tickers into different categories"
   ]
  },
  {
   "cell_type": "code",
   "execution_count": null,
   "id": "9b5192ad-f2d4-4ba5-a260-10666b1c2613",
   "metadata": {},
   "outputs": [],
   "source": [
    "import pandas as pd"
   ]
  },
  {
   "cell_type": "code",
   "execution_count": null,
   "id": "cf9c095a-ae58-4ace-8a3b-a229a158a8f4",
   "metadata": {},
   "outputs": [],
   "source": [
    "file='nasdaq_screener_1672503426342.csv'"
   ]
  },
  {
   "cell_type": "code",
   "execution_count": null,
   "id": "8e120b5f-d420-404e-97ee-c5cb0139512a",
   "metadata": {},
   "outputs": [],
   "source": [
    "df=pd.read_csv(file)"
   ]
  },
  {
   "cell_type": "code",
   "execution_count": null,
   "id": "8414e606-54ec-486d-9938-168ac88c258c",
   "metadata": {},
   "outputs": [],
   "source": [
    "df.head()"
   ]
  },
  {
   "cell_type": "code",
   "execution_count": null,
   "id": "4ba6d388-9dd3-4455-bf3e-fb426de39514",
   "metadata": {},
   "outputs": [],
   "source": [
    "\n",
    "df.head()"
   ]
  },
  {
   "cell_type": "code",
   "execution_count": null,
   "id": "c7395ef5-2193-474e-81ad-3378e9534315",
   "metadata": {},
   "outputs": [],
   "source": [
    "df.replace('BRK/A','BRK-A',inplace=True);df.replace('BRK/B','BRK-B',inplace=True);"
   ]
  },
  {
   "cell_type": "code",
   "execution_count": null,
   "id": "7c39db99-572b-49a6-ab50-3a0ec70a7801",
   "metadata": {},
   "outputs": [],
   "source": [
    "# 1 billion=1000 millions\n",
    "df['Market Cap']=df['Market Cap']/10**6\n"
   ]
  },
  {
   "cell_type": "code",
   "execution_count": null,
   "id": "6c3c86e7-fff4-4e76-bc79-00cd7a8a18fc",
   "metadata": {},
   "outputs": [],
   "source": [
    "df.sort_values(by='Market Cap',ascending=False).reset_index(drop=True).head(20).round(2)"
   ]
  },
  {
   "cell_type": "markdown",
   "id": "ccc4457b-2952-442d-b62f-5d37b894c702",
   "metadata": {},
   "source": [
    "# MEGA"
   ]
  },
  {
   "cell_type": "code",
   "execution_count": null,
   "id": "7533b681-5232-4403-bcf8-4dc986abb694",
   "metadata": {},
   "outputs": [],
   "source": [
    "test='200000'\n",
    "df_mega=df.query('`Market Cap` > 20000')\\\n",
    ".reset_index(drop=True)\n"
   ]
  },
  {
   "cell_type": "code",
   "execution_count": null,
   "id": "9d25f08e-d641-468c-a13f-6fc3ecbcbd18",
   "metadata": {},
   "outputs": [],
   "source": [
    "df_mega.head(10)"
   ]
  },
  {
   "cell_type": "markdown",
   "id": "758d9cb3-d8de-462f-96fb-c86ca08859bd",
   "metadata": {},
   "source": [
    "# LARGE"
   ]
  },
  {
   "cell_type": "code",
   "execution_count": null,
   "id": "df39a510-ec98-4451-80ed-1c67ce36fe07",
   "metadata": {},
   "outputs": [],
   "source": [
    "df_large=df.query('10000<`Market Cap`<200000')\\\n",
    ".sort_values(by='Market Cap')\\\n",
    ".reset_index(drop=True)"
   ]
  },
  {
   "cell_type": "code",
   "execution_count": null,
   "id": "8b883ad3-3831-434c-a640-3bf0dfe67b0e",
   "metadata": {},
   "outputs": [],
   "source": [
    "df_large"
   ]
  },
  {
   "cell_type": "markdown",
   "id": "892167f0-7eeb-454e-a6e4-79c9c8489d5a",
   "metadata": {},
   "source": [
    "# MEDIUM"
   ]
  },
  {
   "cell_type": "code",
   "execution_count": null,
   "id": "bc756631-559b-43ee-85f7-019a4b4bc05e",
   "metadata": {},
   "outputs": [],
   "source": [
    "df_medium=df.query('2000<`Market Cap`<10000')\\\n",
    ".sort_values(by='Market Cap')\\\n",
    ".reset_index(drop=True)"
   ]
  },
  {
   "cell_type": "code",
   "execution_count": null,
   "id": "9d201b84-ca91-445f-889a-f88490733562",
   "metadata": {},
   "outputs": [],
   "source": [
    "df_medium"
   ]
  },
  {
   "cell_type": "markdown",
   "id": "097b7b78-95e4-45c0-bde2-53d602f28bbc",
   "metadata": {},
   "source": [
    "# SMALL"
   ]
  },
  {
   "cell_type": "code",
   "execution_count": null,
   "id": "fd2f970e-31ea-45d2-9a18-16ec639f72aa",
   "metadata": {},
   "outputs": [],
   "source": [
    "df_small=df.query('300<`Market Cap`<2000')\\\n",
    ".sort_values(by='Market Cap')\\\n",
    ".reset_index(drop=True)"
   ]
  },
  {
   "cell_type": "code",
   "execution_count": null,
   "id": "14f3ca5f-74a1-40d3-bc0a-a30004f5fc60",
   "metadata": {},
   "outputs": [],
   "source": [
    "df_small"
   ]
  },
  {
   "cell_type": "markdown",
   "id": "e5621366-3def-48b0-a066-ef155066625d",
   "metadata": {},
   "source": [
    "# MICRO"
   ]
  },
  {
   "cell_type": "code",
   "execution_count": null,
   "id": "66cf4730-6aad-4186-b566-85c717d2a763",
   "metadata": {},
   "outputs": [],
   "source": [
    "df_micro=df.query('50<`Market Cap`<300')\\\n",
    ".sort_values(by='Market Cap')\\\n",
    ".reset_index(drop=True)"
   ]
  },
  {
   "cell_type": "code",
   "execution_count": null,
   "id": "f248ea74-1840-46df-986a-a5bbda999c02",
   "metadata": {},
   "outputs": [],
   "source": [
    "df_micro"
   ]
  },
  {
   "cell_type": "markdown",
   "id": "6cb2c2e6-7120-4fbd-9086-407e87a176bc",
   "metadata": {},
   "source": [
    "# NANO"
   ]
  },
  {
   "cell_type": "code",
   "execution_count": null,
   "id": "7b3557db-42a4-419f-9955-63843d68d62b",
   "metadata": {},
   "outputs": [],
   "source": [
    "df_nano=df.query('`Market Cap`<50')\\\n",
    ".sort_values(by='Market Cap')\\\n",
    ".reset_index(drop=True)"
   ]
  },
  {
   "cell_type": "code",
   "execution_count": null,
   "id": "ced50da6-c5fd-4214-a8fc-bc49e2eec6c3",
   "metadata": {},
   "outputs": [],
   "source": [
    "df_nano"
   ]
  },
  {
   "cell_type": "code",
   "execution_count": null,
   "id": "c42f81c1-d1ad-4b5a-bc85-b00615547ca3",
   "metadata": {},
   "outputs": [],
   "source": [
    "test=50\n",
    "df_test=df.query('`Market Cap`< @test')\\\n",
    ".sort_values(by='Market Cap')\\\n",
    ".reset_index(drop=True)"
   ]
  },
  {
   "cell_type": "code",
   "execution_count": null,
   "id": "d45279fe-43fa-4231-a2ba-4e4a4b17f720",
   "metadata": {},
   "outputs": [],
   "source": [
    "df_test"
   ]
  },
  {
   "cell_type": "code",
   "execution_count": null,
   "id": "15a21b2a-52c7-4c21-b89c-2886c1d30401",
   "metadata": {},
   "outputs": [],
   "source": []
  }
 ],
 "metadata": {
  "kernelspec": {
   "display_name": "Python 3 (ipykernel)",
   "language": "python",
   "name": "python3"
  },
  "language_info": {
   "codemirror_mode": {
    "name": "ipython",
    "version": 3
   },
   "file_extension": ".py",
   "mimetype": "text/x-python",
   "name": "python",
   "nbconvert_exporter": "python",
   "pygments_lexer": "ipython3",
   "version": "3.10.6"
  }
 },
 "nbformat": 4,
 "nbformat_minor": 5
}
