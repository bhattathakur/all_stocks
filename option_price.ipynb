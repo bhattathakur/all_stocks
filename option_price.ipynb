{
 "cells": [
  {
   "cell_type": "code",
   "execution_count": null,
   "id": "0cb57bc8-bd81-4b6d-866f-380a2795feda",
   "metadata": {},
   "outputs": [],
   "source": [
    "\n",
    "\n"
   ]
  },
  {
   "cell_type": "code",
   "execution_count": null,
   "id": "59a772b4-53e0-4ce1-a023-42c1551d17ca",
   "metadata": {},
   "outputs": [],
   "source": [
    "# https://www.codearmo.com/python-tutorial/options-trading-greeks-black-scholes "
   ]
  },
  {
   "cell_type": "code",
   "execution_count": null,
   "id": "45c56db9-d9d9-48fe-8f58-d7e8b2cb3f13",
   "metadata": {},
   "outputs": [],
   "source": []
  },
  {
   "cell_type": "markdown",
   "id": "1a6ab697-55a7-45c2-97dd-c0f40b3b5b94",
   "metadata": {},
   "source": [
    "![formula](blackscholes.png)"
   ]
  },
  {
   "cell_type": "code",
   "execution_count": null,
   "id": "5dc6daa1-5197-48e0-b696-9e3288eb3b7e",
   "metadata": {},
   "outputs": [],
   "source": [
    "import numpy as np\n",
    "from scipy.stats import norm\n",
    "\n",
    "N = norm.cdf\n",
    "\n",
    "def BS_CALL(S, K, T, r, sigma):\n",
    "    d1 = (np.log(S/K) + (r + sigma**2/2)*T) / (sigma*np.sqrt(T))\n",
    "    d2 = d1 - sigma * np.sqrt(T)\n",
    "    return S * N(d1) - K * np.exp(-r*T)* N(d2)\n",
    "\n",
    "def BS_PUT(S, K, T, r, sigma):\n",
    "    d1 = (np.log(S/K) + (r + sigma**2/2)*T) / (sigma*np.sqrt(T))\n",
    "    d2 = d1 - sigma* np.sqrt(T)\n",
    "    return K*np.exp(-r*T)*N(-d2) - S*N(-d1)"
   ]
  },
  {
   "cell_type": "markdown",
   "id": "b9a02b01-ed8d-4ecd-bb9b-cff8b0eb177b",
   "metadata": {},
   "source": [
    "# EFFECT OF STRICK PRICE"
   ]
  },
  {
   "cell_type": "code",
   "execution_count": null,
   "id": "61eb089b-ca9f-4021-bd07-7962539a6e2d",
   "metadata": {},
   "outputs": [],
   "source": [
    "import matplotlib.pyplot as plt\n",
    "K = 100\n",
    "r = 0.1\n",
    "T = 1\n",
    "sigma = 0.3\n",
    "\n",
    "S = np.arange(60,140,0.1)\n",
    "\n",
    "calls = [BS_CALL(s, K, T, r, sigma) for s in S]\n",
    "puts = [BS_PUT(s, K, T, r, sigma) for s in S]\n",
    "plt.plot(S, calls, label='Call Value')\n",
    "plt.plot(S, puts, label='Put Value')\n",
    "plt.xlabel('$S_0$')\n",
    "plt.ylabel(' Value')\n",
    "plt.legend()"
   ]
  },
  {
   "cell_type": "markdown",
   "id": "f401cdbb-3963-4004-bd70-f8d75f8ff77d",
   "metadata": {},
   "source": [
    "# EFFECT OF SIGMAS"
   ]
  },
  {
   "cell_type": "code",
   "execution_count": null,
   "id": "ceb8dea9-8d82-4b1b-ae46-f03e834448e5",
   "metadata": {},
   "outputs": [],
   "source": [
    "K = 100\n",
    "r = 0.1\n",
    "T = 1\n",
    "Sigmas = np.arange(0.1, 1.5, 0.01)\n",
    "S = 100\n",
    "\n",
    "calls = [BS_CALL(S, K, T, r, sig) for sig in Sigmas]\n",
    "puts = [BS_PUT(S, K, T, r, sig) for sig in Sigmas]\n",
    "plt.plot(Sigmas, calls, label='Call Value')\n",
    "plt.plot(Sigmas, puts, label='Put Value')\n",
    "plt.xlabel('$\\sigma$')\n",
    "plt.ylabel(' Value')\n",
    "plt.legend()"
   ]
  },
  {
   "cell_type": "markdown",
   "id": "1fe3b884-6a94-4fa1-b69b-67aa8780f146",
   "metadata": {},
   "source": [
    "# EFFECT OF TIME"
   ]
  },
  {
   "cell_type": "code",
   "execution_count": null,
   "id": "fd09374c-c743-4fc4-80d9-ee28a2325446",
   "metadata": {},
   "outputs": [],
   "source": [
    "K = 100\n",
    "r = 0.05\n",
    "T = np.arange(0, 2, 0.01)\n",
    "sigma = 0.3\n",
    "S = 100\n",
    "\n",
    "calls = [BS_CALL(S, K, t, r, sigma) for t in T]\n",
    "puts = [BS_PUT(S, K, t, r, sigma) for t in T]\n",
    "plt.plot(T, calls, label='Call Value')\n",
    "plt.plot(T, puts, label='Put Value')\n",
    "plt.xlabel('$T$ in years')\n",
    "plt.ylabel(' Value')\n",
    "plt.legend()"
   ]
  },
  {
   "cell_type": "code",
   "execution_count": null,
   "id": "9ca3eff1-b70a-4b27-ad4a-8ebd7d46500b",
   "metadata": {},
   "outputs": [],
   "source": [
    "from scipy.stats import norm\n",
    "\n",
    "class BsOption:\n",
    "    def __init__(self, S, K, T, r, sigma, q=0):\n",
    "        self.S = S\n",
    "        self.K = K\n",
    "        self.T = T\n",
    "        self.r = r \n",
    "        self.sigma = sigma\n",
    "        self.q = q\n",
    "        \n",
    "    \n",
    "    @staticmethod\n",
    "    def N(x):\n",
    "        return norm.cdf(x)\n",
    "    \n",
    "    @property\n",
    "    def params(self):\n",
    "        return {'S': self.S, \n",
    "                'K': self.K, \n",
    "                'T': self.T, \n",
    "                'r':self.r,\n",
    "                'q':self.q,\n",
    "                'sigma':self.sigma}\n",
    "    \n",
    "    def d1(self):\n",
    "        return (np.log(self.S/self.K) + (self.r -self.q + self.sigma**2/2)*self.T) \\\n",
    "                                / (self.sigma*np.sqrt(self.T))\n",
    "    \n",
    "    def d2(self):\n",
    "        return self.d1() - self.sigma*np.sqrt(self.T)\n",
    "    \n",
    "    def _call_value(self):\n",
    "        return self.S*np.exp(-self.q*self.T)*self.N(self.d1()) - \\\n",
    "                    self.K*np.exp(-self.r*self.T) * self.N(self.d2())\n",
    "                    \n",
    "    def _put_value(self):\n",
    "        return self.K*np.exp(-self.r*self.T) * self.N(-self.d2()) -\\\n",
    "                self.S*np.exp(-self.q*self.T)*self.N(-self.d1())\n",
    "    \n",
    "    def price(self, type_ = 'C'):\n",
    "        if type_ == 'C':\n",
    "            return self._call_value()\n",
    "        if type_ == 'P':\n",
    "            return self._put_value() \n",
    "        if type_ == 'B':\n",
    "            return  {'call': self._call_value(), 'put': self._put_value()}\n",
    "        else:\n",
    "            raise ValueError('Unrecognized type')\n",
    "            \n",
    "        \n",
    "        \n",
    "        \n",
    "        \n",
    "if __name__ == '__main__':\n",
    "    K = 100\n",
    "    r = 0.1\n",
    "    T = 1\n",
    "    sigma = 0.3\n",
    "    S = 100\n",
    "    print(BsOption(S, K, T, r, sigma).price('B'))\n",
    "\n",
    "\n",
    "#Out:\n",
    "#{'call': 16.73413358238666, 'put': 7.217875385982609}        "
   ]
  },
  {
   "cell_type": "code",
   "execution_count": null,
   "id": "06a5d2c6-b357-4903-b6e1-69f591144ada",
   "metadata": {},
   "outputs": [],
   "source": []
  }
 ],
 "metadata": {
  "kernelspec": {
   "display_name": "Python 3 (ipykernel)",
   "language": "python",
   "name": "python3"
  },
  "language_info": {
   "codemirror_mode": {
    "name": "ipython",
    "version": 3
   },
   "file_extension": ".py",
   "mimetype": "text/x-python",
   "name": "python",
   "nbconvert_exporter": "python",
   "pygments_lexer": "ipython3",
   "version": "3.10.6"
  }
 },
 "nbformat": 4,
 "nbformat_minor": 5
}
