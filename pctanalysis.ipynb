{
 "cells": [
  {
   "cell_type": "code",
   "execution_count": null,
   "id": "6aa6b0c8-9d61-46d9-aefa-e216ac0b368e",
   "metadata": {},
   "outputs": [],
   "source": [
    "import numpy as np\n",
    "import matplotlib.pyplot as plt\n",
    "import pandas as pd\n",
    "import yfinance as yf"
   ]
  },
  {
   "cell_type": "code",
   "execution_count": null,
   "id": "5078d7f5-7274-4781-9b96-01a892051489",
   "metadata": {},
   "outputs": [],
   "source": [
    "snp_list=pd.read_html('https://en.wikipedia.org/wiki/List_of_S%26P_500_companies')[0].Symbol.to_list()\n",
    "snp_list=[i.replace('.','-') if i in ['BRK.B','BF.B'] else i for i in snp_list ]"
   ]
  },
  {
   "cell_type": "code",
   "execution_count": null,
   "id": "8df68918-d4d9-44d4-b182-ccd261711067",
   "metadata": {},
   "outputs": [],
   "source": [
    "df=yf.download(snp_list,period='1y')"
   ]
  },
  {
   "cell_type": "code",
   "execution_count": null,
   "id": "9a89d404-51d4-436e-97d8-ee19e5cde917",
   "metadata": {},
   "outputs": [],
   "source": [
    "df=(df['Adj Close'].tail(20).pct_change()+1).cumprod()[-1:].T"
   ]
  },
  {
   "cell_type": "code",
   "execution_count": null,
   "id": "05d7514f-6b77-4c54-b4f8-13364ab4e1b3",
   "metadata": {},
   "outputs": [],
   "source": [
    "df"
   ]
  },
  {
   "cell_type": "code",
   "execution_count": null,
   "id": "a00fad3a-ae25-4805-b088-8546489b8004",
   "metadata": {},
   "outputs": [],
   "source": [
    "#test1=(df['Adj Close'].pct_change()+1).reset_index(drop=True).cumprod()[-1:].T"
   ]
  },
  {
   "cell_type": "code",
   "execution_count": null,
   "id": "86deabf4-fea3-4473-87e9-48951ea16c40",
   "metadata": {},
   "outputs": [],
   "source": [
    "df.columns=['change']"
   ]
  },
  {
   "cell_type": "code",
   "execution_count": null,
   "id": "943edd45-d985-48df-8b5a-de0dea195039",
   "metadata": {},
   "outputs": [],
   "source": [
    "df=df.sort_values(by='change',ascending=False).apply(lambda x:(1-x)*100).round(2)\n",
    "df.head(30)"
   ]
  },
  {
   "cell_type": "code",
   "execution_count": null,
   "id": "e87977d3-f777-4b35-bfb6-11d2cb89b872",
   "metadata": {},
   "outputs": [],
   "source": [
    "df.index"
   ]
  },
  {
   "cell_type": "code",
   "execution_count": null,
   "id": "2ac1400b-dc01-43f2-9480-bc1d542859ac",
   "metadata": {},
   "outputs": [],
   "source": []
  }
 ],
 "metadata": {
  "kernelspec": {
   "display_name": "Python 3 (ipykernel)",
   "language": "python",
   "name": "python3"
  },
  "language_info": {
   "codemirror_mode": {
    "name": "ipython",
    "version": 3
   },
   "file_extension": ".py",
   "mimetype": "text/x-python",
   "name": "python",
   "nbconvert_exporter": "python",
   "pygments_lexer": "ipython3",
   "version": "3.10.6"
  }
 },
 "nbformat": 4,
 "nbformat_minor": 5
}
