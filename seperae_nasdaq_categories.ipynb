{
 "cells": [
  {
   "cell_type": "code",
   "execution_count": null,
   "id": "bfa13474-bb6c-498c-a047-43281e2d60e9",
   "metadata": {},
   "outputs": [],
   "source": [
    "# This program breaks the stocks list into different categories based on the market capitilization\n"
   ]
  },
  {
   "cell_type": "code",
   "execution_count": null,
   "id": "6a51b2a0-c56b-4d03-a5ae-06d95b29a9ad",
   "metadata": {},
   "outputs": [],
   "source": [
    "#libraries\n",
    "import pandas as pd"
   ]
  },
  {
   "cell_type": "code",
   "execution_count": null,
   "id": "3a83735a-e0ef-4956-bab9-02965b0c3393",
   "metadata": {},
   "outputs": [],
   "source": [
    "#check the timestamp of the download\n",
    "! ls -lt /home/thakur/stock_information/  | head"
   ]
  },
  {
   "cell_type": "code",
   "execution_count": null,
   "id": "0b8987d8-c06b-471b-b98c-3767ccb7e7a1",
   "metadata": {},
   "outputs": [],
   "source": [
    "#source of all the stock list downloaded from https://www.nasdaq.com/market-activity/stocks/screener\n",
    "source_file='nasdaq_all.csv'\n",
    "source_root=f'/home/thakur/stock_information/{source_file}'\n",
    "save_root='/home/thakur/stock_information/{}'\n"
   ]
  },
  {
   "cell_type": "code",
   "execution_count": null,
   "id": "fc438685-c79a-49a7-badb-1922b5a1cef6",
   "metadata": {},
   "outputs": [],
   "source": [
    "df=pd.read_csv(source_root)"
   ]
  },
  {
   "cell_type": "code",
   "execution_count": null,
   "id": "b038e718-a4b7-4dbf-9ef1-f33b1ba9256e",
   "metadata": {},
   "outputs": [],
   "source": [
    "df"
   ]
  },
  {
   "cell_type": "code",
   "execution_count": null,
   "id": "a0f9e7ba-3daf-44c6-bbb2-a32805e85a41",
   "metadata": {},
   "outputs": [],
   "source": [
    "# number of stocks \n",
    "print(f\"Total stocks in the main list: {df.shape[0]}\")"
   ]
  },
  {
   "cell_type": "code",
   "execution_count": null,
   "id": "3889ce07-eef6-44fd-b26d-ccc4f0ef8b09",
   "metadata": {},
   "outputs": [],
   "source": [
    "to_million=1e6"
   ]
  },
  {
   "cell_type": "code",
   "execution_count": null,
   "id": "b64a7a4b-31e2-4d9c-bb71-0aa6cab53304",
   "metadata": {},
   "outputs": [],
   "source": [
    "#change the market cap into million\n",
    "df['Market Cap']=df['Market Cap'].div(to_million)"
   ]
  },
  {
   "cell_type": "code",
   "execution_count": null,
   "id": "46259402-c0df-40a0-b4d7-419e22b809d8",
   "metadata": {},
   "outputs": [],
   "source": [
    "#single function to filter the market cap\n",
    "def get_market_cap(df,fil,save_file):\n",
    "    '''\n",
    "    returns and saves the resulting stock df based on filters\n",
    "    '''\n",
    "    print(20*'= '+save_file.upper()+20*' =')\n",
    "    print(f\"Working with filter: {fil}\")\n",
    "    save_loc=save_root.format('nasdaq_'+save_file+'.csv')\n",
    "    temp_df=df.query(fil).reset_index(drop=True)\n",
    "    print(f\"Number of stocks   :  {temp_df.shape[0]}\")\n",
    "    print(f\"Saving as          :  {save_loc}\")\n",
    "    temp_df.to_csv(save_loc,index=False)\n",
    "    #print(f\"Saving to          :  {temp_df.to_csv(save_loc,index=False)}\")\n",
    "    #return temp_df\n"
   ]
  },
  {
   "cell_type": "code",
   "execution_count": null,
   "id": "d593bc63-3651-414b-b770-1559f7bf0414",
   "metadata": {},
   "outputs": [],
   "source": [
    "#market cap\n",
    "market_cap=['nano','micro','small','medium','large','mega']\n",
    "#filters\n",
    "filters=['`Market Cap`< 50',\n",
    "         '`Market Cap`> 50 & `Market Cap`< 300',\n",
    "         '`Market Cap`> 300 & `Market Cap`< 2000',\n",
    "         '`Market Cap`> 2000 & `Market Cap`< 10000',\n",
    "         '`Market Cap`> 10000 & `Market Cap`< 200000',\n",
    "         '`Market Cap`> 200000'\n",
    "        ]\n",
    "filters=['`Market Cap`< 50',\n",
    "         '50 <`Market Cap`< 300',\n",
    "         '300 < `Market Cap`< 2000',\n",
    "         '2000 <`Market Cap`< 10000',\n",
    "         '10000 <`Market Cap`< 200000',\n",
    "         '`Market Cap`> 200000'\n",
    "        ]\n",
    "# x=\"Market Cap\"\n",
    "# filters=['`@x`< 50',\n",
    "#          '50 <`@x`< 300',\n",
    "#          '300 < `@x`< 2000',\n",
    "#          '2000 <`@x`< 10000',\n",
    "#          '10000 <`@x`< 200000',\n",
    "#          '`@x`> 200000'\n",
    "#         ]"
   ]
  },
  {
   "cell_type": "code",
   "execution_count": null,
   "id": "4efb7949-e614-4071-81c1-7df2d3a2cfa4",
   "metadata": {},
   "outputs": [],
   "source": [
    "for i in range(len(market_cap)):\n",
    "    print()\n",
    "    get_market_cap(df,filters[i],market_cap[i])\n",
    "    print()"
   ]
  },
  {
   "cell_type": "code",
   "execution_count": null,
   "id": "ea01b900-d983-450a-85e1-be9fa597b8c9",
   "metadata": {},
   "outputs": [],
   "source": []
  }
 ],
 "metadata": {
  "kernelspec": {
   "display_name": "Python 3 (ipykernel)",
   "language": "python",
   "name": "python3"
  },
  "language_info": {
   "codemirror_mode": {
    "name": "ipython",
    "version": 3
   },
   "file_extension": ".py",
   "mimetype": "text/x-python",
   "name": "python",
   "nbconvert_exporter": "python",
   "pygments_lexer": "ipython3",
   "version": "3.10.6"
  }
 },
 "nbformat": 4,
 "nbformat_minor": 5
}
