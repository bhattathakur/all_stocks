{
 "cells": [
  {
   "cell_type": "markdown",
   "id": "7d5a4922-d437-4015-9883-066818be95d2",
   "metadata": {},
   "source": [
    "# SNP "
   ]
  },
  {
   "cell_type": "code",
   "execution_count": null,
   "id": "07078417-ab11-4657-bd3c-da17f1ca0d86",
   "metadata": {},
   "outputs": [],
   "source": [
    "import pandas as pd\n",
    "import talib\n",
    "from talib import abstract"
   ]
  },
  {
   "cell_type": "code",
   "execution_count": null,
   "id": "347ca7c6-82e0-498f-857d-38d77dc94e71",
   "metadata": {},
   "outputs": [],
   "source": [
    "df_snp=pd.read_csv('/home/thakur/test/combined/all_snp.csv')"
   ]
  },
  {
   "cell_type": "code",
   "execution_count": null,
   "id": "f3ffcb32-43b2-4803-b8a2-2a7dfe6c8acc",
   "metadata": {},
   "outputs": [],
   "source": [
    "def return_query(df,qr):\n",
    "    return df.query(qr).sort_values(by='CP').reset_index(drop=True)"
   ]
  },
  {
   "cell_type": "code",
   "execution_count": null,
   "id": "ae0b82b6-6f46-4297-b112-db4d72a9f6a1",
   "metadata": {},
   "outputs": [],
   "source": [
    "df_snp"
   ]
  },
  {
   "cell_type": "code",
   "execution_count": null,
   "id": "bb947b81-0451-47b2-a18c-1d809ae060e9",
   "metadata": {},
   "outputs": [],
   "source": [
    "st_list=df_snp.TICKER.to_list()\n",
    "#st_list"
   ]
  },
  {
   "cell_type": "code",
   "execution_count": null,
   "id": "51cabf0a-cec4-41cd-be25-0e5e8375e347",
   "metadata": {},
   "outputs": [],
   "source": [
    "df_snp.query('SMA5 > SMA21')\\\n",
    ".sort_values(by='CP')\\\n",
    ".reset_index(drop=True)\\\n",
    "\n"
   ]
  },
  {
   "cell_type": "code",
   "execution_count": null,
   "id": "e5334cfc-a1d1-4155-8f99-0d616e6704e3",
   "metadata": {},
   "outputs": [],
   "source": [
    "return_query(df_snp,'RSI>70')\n"
   ]
  },
  {
   "cell_type": "code",
   "execution_count": null,
   "id": "5b0eb13d-7fdc-41c2-a434-9fcfa58218d5",
   "metadata": {},
   "outputs": [],
   "source": [
    "return_query(df_snp,'RSI<30')"
   ]
  },
  {
   "cell_type": "code",
   "execution_count": null,
   "id": "b009c744-4411-4872-bf84-7ed3e02191ab",
   "metadata": {},
   "outputs": [],
   "source": [
    "return_query(df_snp,'RSI<30')"
   ]
  },
  {
   "cell_type": "markdown",
   "id": "8b9b6ab1-85b1-4c55-b5b3-12fae563a0be",
   "metadata": {},
   "source": [
    "# Important Links\n",
    "1. [wiki pattterns](https://en.wikipedia.org/wiki/Candlestick_pattern)\n",
    "2. [16 candlestick patterns](https://www.ig.com/en/trading-strategies/16-candlestick-patterns-every-trader-should-know-180615)\n",
    "3. [Introduction to Candlesticks](https://school.stockcharts.com/doku.php?id=chart_analysis:introduction_to_candlesticks)\n",
    "4. [TA-Lib library](https://mrjbq7.github.io/ta-lib/)"
   ]
  },
  {
   "cell_type": "code",
   "execution_count": null,
   "id": "9f811543-8eea-4aba-b912-532e237c18e0",
   "metadata": {},
   "outputs": [],
   "source": [
    "#Patterns available\n",
    "'''\n",
    "CDL2CROWS            Two Crows\n",
    "CDL3BLACKCROWS       Three Black Crows\n",
    "CDL3INSIDE           Three Inside Up/Down\n",
    "CDL3LINESTRIKE       Three-Line Strike\n",
    "CDL3OUTSIDE          Three Outside Up/Down\n",
    "CDL3STARSINSOUTH     Three Stars In The South\n",
    "CDL3WHITESOLDIERS    Three Advancing White Soldiers\n",
    "CDLABANDONEDBABY     Abandoned Baby\n",
    "CDLADVANCEBLOCK      Advance Block\n",
    "CDLBELTHOLD          Belt-hold\n",
    "CDLBREAKAWAY         Breakaway\n",
    "CDLCLOSINGMARUBOZU   Closing Marubozu\n",
    "CDLCONCEALBABYSWALL  Concealing Baby Swallow\n",
    "CDLCOUNTERATTACK     Counterattack\n",
    "CDLDARKCLOUDCOVER    Dark Cloud Cover\n",
    "CDLDOJI              Doji\n",
    "CDLDOJISTAR          Doji Star\n",
    "CDLDRAGONFLYDOJI     Dragonfly Doji\n",
    "CDLENGULFING         Engulfing Pattern\n",
    "CDLEVENINGDOJISTAR   Evening Doji Star\n",
    "CDLEVENINGSTAR       Evening Star\n",
    "CDLGAPSIDESIDEWHITE  Up/Down-gap side-by-side white lines\n",
    "CDLGRAVESTONEDOJI    Gravestone Doji\n",
    "CDLHAMMER            Hammer\n",
    "CDLHANGINGMAN        Hanging Man\n",
    "CDLHARAMI            Harami Pattern\n",
    "CDLHARAMICROSS       Harami Cross Pattern\n",
    "CDLHIGHWAVE          High-Wave Candle\n",
    "CDLHIKKAKE           Hikkake Pattern\n",
    "CDLHIKKAKEMOD        Modified Hikkake Pattern\n",
    "CDLHOMINGPIGEON      Homing Pigeon\n",
    "CDLIDENTICAL3CROWS   Identical Three Crows\n",
    "CDLINNECK            In-Neck Pattern\n",
    "CDLINVERTEDHAMMER    Inverted Hammer\n",
    "CDLKICKING           Kicking\n",
    "CDLKICKINGBYLENGTH   Kicking - bull/bear determined by the longer marubozu\n",
    "CDLLADDERBOTTOM      Ladder Bottom\n",
    "CDLLONGLEGGEDDOJI    Long Legged Doji\n",
    "CDLLONGLINE          Long Line Candle\n",
    "CDLMARUBOZU          Marubozu\n",
    "CDLMATCHINGLOW       Matching Low\n",
    "CDLMATHOLD           Mat Hold\n",
    "CDLMORNINGDOJISTAR   Morning Doji Star\n",
    "CDLMORNINGSTAR       Morning Star\n",
    "CDLONNECK            On-Neck Pattern\n",
    "CDLPIERCING          Piercing Pattern\n",
    "CDLRICKSHAWMAN       Rickshaw Man\n",
    "CDLRISEFALL3METHODS  Rising/Falling Three Methods\n",
    "CDLSEPARATINGLINES   Separating Lines\n",
    "CDLSHOOTINGSTAR      Shooting Star\n",
    "CDLSHORTLINE         Short Line Candle\n",
    "CDLSPINNINGTOP       Spinning Top\n",
    "CDLSTALLEDPATTERN    Stalled Pattern\n",
    "CDLSTICKSANDWICH     Stick Sandwich\n",
    "CDLTAKURI            Takuri (Dragonfly Doji with very long lower shadow)\n",
    "CDLTASUKIGAP         Tasuki Gap\n",
    "CDLTHRUSTING         Thrusting Pattern\n",
    "CDLTRISTAR           Tristar Pattern\n",
    "CDLUNIQUE3RIVER      Unique 3 River\n",
    "CDLUPSIDEGAP2CROWS   Upside Gap Two Crows\n",
    "CDLXSIDEGAP3METHODS  Upside/Downside Gap Three Methods'''"
   ]
  },
  {
   "cell_type": "code",
   "execution_count": null,
   "id": "c948ef19-7285-4773-9050-09bbd46247b9",
   "metadata": {},
   "outputs": [],
   "source": [
    "# import talib\n",
    "# import yfinance as yf\n",
    "# from datetime import date\n",
    "\n",
    "#st_list=['AMD']\n",
    "#for ch in st_list:\n",
    "def get_patterns(ch):\n",
    "    tick=\"/home/thakur/test/snp500/{}.csv\".format(ch)\n",
    "    dataframe=pd.read_csv(tick).tail(20)\n",
    "    dataframe.rename(columns={'Date':'date','Open':'open','High':'high','Low':'low','Close':'close','Volume':'volume'},inplace=True)\n",
    "    dataframe.insert(0,'TICKER',ch)\n",
    "    #df.tail(5)\n",
    "\n",
    "    # today = date.today().strftime(\"%Y-%m-%d\")\n",
    "    # stockticker = 'AAPL'\n",
    "    # dataframe = yf.download(stockticker, start='2021-03-31', end=today)\n",
    "\n",
    "    # open = dataframe['Open']\n",
    "    # high = dataframe['High']\n",
    "    # low = dataframe['Low']\n",
    "    # close = dataframe['Adj Close']\n",
    "\n",
    "    #threeLineStrike = abstract.CDL3LINESTRIKE(dataframe)\n",
    "    #threeBlackCrow = abstract.CDL3BLACKCROWS(dataframe)\n",
    "    marubozu=abstract.CDLMARUBOZU(dataframe)\n",
    "    morningstar=abstract.CDLMORNINGSTAR(dataframe)\n",
    "    eveningStar = abstract.CDLEVENINGSTAR(dataframe)\n",
    "    engulfing = abstract.CDLENGULFING(dataframe)\n",
    "    dragonflyDoji = abstract.CDLDRAGONFLYDOJI(dataframe)\n",
    "    gravestoneDoji = abstract.CDLGRAVESTONEDOJI(dataframe)\n",
    "    eveningdojistar=abstract.CDLEVENINGDOJISTAR(dataframe)\n",
    "    tasukigap = abstract.CDLTASUKIGAP(dataframe)\n",
    "    hammer = abstract.CDLHAMMER(dataframe)\n",
    "    hangingman=abstract.CDLHANGINGMAN(dataframe)\n",
    "    invertedhammer=abstract.CDLINVERTEDHAMMER(dataframe)\n",
    "    longleggeddoji=abstract.CDLLONGLEGGEDDOJI(dataframe)\n",
    "    morningdojistar=abstract.CDLMORNINGDOJISTAR(dataframe)\n",
    "    shootingstar=abstract.CDLSHOOTINGSTAR(dataframe)\n",
    "    spinningtop=abstract.CDLSPINNINGTOP(dataframe)\n",
    "    \n",
    "   # darkCloudCover = abstract.CDLDARKCLOUDCOVER(dataframe)\n",
    "    #piercingLine = abstract.CDLPIERCING(dataframe)\n",
    "\n",
    "\n",
    "   # dataframe['3 Line Strike'] = threeLineStrike\n",
    "   # dataframe['3 Black Crow'] = threeBlackCrow\n",
    "    dataframe['marubozu']=marubozu\n",
    "    dataframe['Moring Star']=morningstar\n",
    "    dataframe['Evening Star'] = eveningStar\n",
    "    dataframe['Engulfing'] = engulfing\n",
    "    dataframe['Dragonfly Doji'] = dragonflyDoji\n",
    "    dataframe['Gravestone Doji'] = gravestoneDoji\n",
    "    dataframe['Tasuki Gap'] = tasukigap\n",
    "    dataframe['Hammer'] = hammer\n",
    "    dataframe['Hangingman']=hangingman\n",
    "    dataframe['Invertedhammer']=invertedhammer\n",
    "    dataframe['Longleggeddoji']=longleggeddoji\n",
    "    dataframe['Morningdojistar']=morningdojistar\n",
    "    dataframe['Shootingstar']=shootingstar\n",
    "    dataframe['Spinningtop']=spinningtop\n",
    "    \n",
    "   # dataframe['DarkCloudCover'] = darkCloudCover\n",
    "    #dataframe['Piercing Line'] = piercingLine\n",
    "\n",
    "\n",
    "#     topCandles = [\"3 Line Strike\",\"3 Black Crow\",\"Evening Star\",\"Engulfing\",\"Dragonfly Doji\",\"Gravestone Doji\",\"Tasuki Gap\",\"Hammer\",\"DarkCloudCover\",\"Piercing Line\"]\n",
    "\n",
    "\n",
    "#     for x in dataframe.index:\n",
    "#         for cd in topCandles:\n",
    "#             if dataframe.loc[x, cd] == -100:\n",
    "#                 dataframe.loc[x, cd] = \"Bearish\"\n",
    "#             if dataframe.loc[x, cd] == 100:\n",
    "#                 dataframe.loc[x, cd] = \"Bullish\"\n",
    "    dataframe.drop(columns=['date','open','high','low','close','Adj Close','volume'],inplace=True)\n",
    "    # dataframe.drop('open', axis=1, inplace=True)\n",
    "    # dataframe.drop('high', axis=1, inplace=True)\n",
    "    # dataframe.drop('low', axis=1, inplace=True)\n",
    "    # dataframe.drop('close', axis=1, inplace=True)\n",
    "    # dataframe.drop('Adj Close', axis=1, inplace=True)\n",
    "    # dataframe.drop('volume', axis=1, inplace=True)\n",
    "\n",
    "    #dataframe.to_csv(\"/home/thakur/test/temp/dataf.csv\",index=False)\n",
    "    return dataframe.tail(1).reset_index(drop=True).values[0].tolist()\n",
    "    #return [ch,eveningStar,engulfing,dragonflyDoji,gravestoneDoji,tasukigap,hammer,hangingman,invertedhammer,longleggeddoji,morningdojistar,shootingstar,spinningtop]\n"
   ]
  },
  {
   "cell_type": "code",
   "execution_count": null,
   "id": "a3b83aba-678d-4909-8a70-077e50a38e4a",
   "metadata": {},
   "outputs": [],
   "source": [
    "\n",
    "main_list=[]\n",
    "for i in st_list:\n",
    "    df=get_patterns(i)\n",
    "    main_list.append(df)\n",
    "    #print(f\"{i}:\\n{df}\")"
   ]
  },
  {
   "cell_type": "code",
   "execution_count": null,
   "id": "3b5cbfed-5800-48c0-b228-06c44cfe496f",
   "metadata": {},
   "outputs": [],
   "source": [
    "cols= ['TICKER','Marubozu','MorningStar','EveningStar','Engulfing','DragonflyDoji','GravestoneDoji','TasukiGap','Hammer','Hangingman','Invertedhammer','Longleggeddoji','Morningdojistar',\n",
    "'Shootingstar','Spinningtop']\n",
    "main_df=pd.DataFrame(main_list,columns=cols)"
   ]
  },
  {
   "cell_type": "code",
   "execution_count": null,
   "id": "3b1e3a29-fba4-41d8-981d-eaf861ac0808",
   "metadata": {},
   "outputs": [],
   "source": [
    "main_df"
   ]
  },
  {
   "cell_type": "code",
   "execution_count": null,
   "id": "98e6ab8c-6eba-4ad1-9c13-2a58812bf01c",
   "metadata": {},
   "outputs": [],
   "source": [
    "# def find_pattern(pattern):\n",
    "#     #return main_df.query('@pattern==100').reset_index(drop=True)\n",
    "#     return main_df[pattern==100].reset_index(drop=True)"
   ]
  },
  {
   "cell_type": "markdown",
   "id": "e48c7ee9-aca8-428f-a0b6-3ff88d016a64",
   "metadata": {},
   "source": [
    "# HAMMER"
   ]
  },
  {
   "cell_type": "code",
   "execution_count": null,
   "id": "804285c7-1b23-4beb-b75a-7aef650aef15",
   "metadata": {},
   "outputs": [],
   "source": [
    "para='Hammer'\n",
    "#hammer=main_df.query('Hammer>0').reset_index(drop=True)\n",
    "hammer=main_df[main_df[para]>0].reset_index(drop=True)\n",
    "hammer"
   ]
  },
  {
   "cell_type": "code",
   "execution_count": null,
   "id": "52ed9ffa-68dd-4df4-bf77-a6637b547029",
   "metadata": {},
   "outputs": [],
   "source": [
    "#para='Hammer'\n",
    "#hammer=main_df.query('Hammer>0').reset_index(drop=True)\n",
    "def pattern_df(para,main_df=main_df):\n",
    "    hammer=main_df[(main_df[para]>0) | (main_df[para]<0)].reset_index(drop=True)\n",
    "    #print(hammer[['TICKER',para]].to_string())\n",
    "    print()\n",
    "    return hammer"
   ]
  },
  {
   "cell_type": "code",
   "execution_count": null,
   "id": "bae0064e-25ba-4e86-9a0f-12d78b8389dd",
   "metadata": {},
   "outputs": [],
   "source": [
    "para='Hammer'\n",
    "#hammer=main_df.query('Hammer>0').reset_index(drop=True)\n",
    "# def pattern_df(para,main_df=main_df):\n",
    "#     hammer=main_df[main_df[para]>0].reset_index(drop=True)\n",
    "#     return hammer\n",
    "def pattern_snp(para):\n",
    "    para_df=pattern_df(para)\n",
    "    #para_df\n",
    "    return df_snp[df_snp.TICKER.isin(para_df.TICKER)].sort_values(by='CP').reset_index(drop=True)"
   ]
  },
  {
   "cell_type": "code",
   "execution_count": null,
   "id": "14f8a7b6-fdf2-407c-bc89-61d7b59b99e4",
   "metadata": {},
   "outputs": [],
   "source": [
    "pattern_snp(para)"
   ]
  },
  {
   "cell_type": "code",
   "execution_count": null,
   "id": "70cff182-39ae-4246-8db2-b878a2b74d94",
   "metadata": {},
   "outputs": [],
   "source": [
    "parameters=main_df.columns[1:]\n",
    "df_list=[]\n",
    "for i,para in enumerate(parameters,start=1):\n",
    "    if i==1:print();print(150*'=');print()\n",
    "    print(f\"\\n{i}: PARAMETER: {para}\\n\")\n",
    "    df_list.append(pattern_snp(para))\n",
    "    print(pattern_snp(para).to_string())\n",
    "    pattern_snp(para)[['TICKER','CP','RSI','VOL','AVGVOL5','CHG%','ATR14']].to_csv(f'PATTERNS/{para}.csv',sep='\\t')\n",
    "    print();print(150*'=');print()"
   ]
  },
  {
   "cell_type": "code",
   "execution_count": null,
   "id": "e37d7af3-e19e-49f0-b15d-b99f7a009dc0",
   "metadata": {},
   "outputs": [],
   "source": [
    "inverted_hammer=df_list[9]\n",
    "#inverted_hammer.sort_values(by='ATR14',ascending=False).reset_index(drop=True)\n",
    "inverted_hammer['ATR%']=round(100*inverted_hammer['ATR14']/inverted_hammer['CP'],2)\n",
    "inverted_hammer=inverted_hammer.sort_values(by='RSI',ascending=False).reset_index(drop=True)\n",
    "inverted_hammer\n",
    "#inverted_hammer.columns"
   ]
  },
  {
   "cell_type": "code",
   "execution_count": null,
   "id": "972d2a17-92fb-4565-8d6a-54f7a62a1585",
   "metadata": {},
   "outputs": [],
   "source": [
    "df_snp[df_snp.TICKER.isin(hammer.TICKER)].sort_values(by='CP').reset_index(drop=True)"
   ]
  },
  {
   "cell_type": "code",
   "execution_count": null,
   "id": "a5955ff3-be27-4483-a876-94973a2c0ff7",
   "metadata": {},
   "outputs": [],
   "source": [
    "main_df.columns"
   ]
  },
  {
   "cell_type": "code",
   "execution_count": null,
   "id": "3429d397-6861-4039-ab06-4847859166f2",
   "metadata": {},
   "outputs": [],
   "source": [
    "for col in main_df.columns:\n",
    "    print(col+\"\\n\",main_df[col].unique())"
   ]
  },
  {
   "cell_type": "code",
   "execution_count": null,
   "id": "e22890a5-b0f5-40e5-80ea-878542937584",
   "metadata": {},
   "outputs": [],
   "source": []
  }
 ],
 "metadata": {
  "kernelspec": {
   "display_name": "Python 3 (ipykernel)",
   "language": "python",
   "name": "python3"
  },
  "language_info": {
   "codemirror_mode": {
    "name": "ipython",
    "version": 3
   },
   "file_extension": ".py",
   "mimetype": "text/x-python",
   "name": "python",
   "nbconvert_exporter": "python",
   "pygments_lexer": "ipython3",
   "version": "3.10.6"
  }
 },
 "nbformat": 4,
 "nbformat_minor": 5
}
