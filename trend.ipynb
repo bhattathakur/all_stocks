{
 "cells": [
  {
   "cell_type": "code",
   "execution_count": null,
   "id": "7cb2d9a7-fc8d-469d-8591-b4757fa191c8",
   "metadata": {},
   "outputs": [],
   "source": [
    "import pandas as pd\n",
    "import pandas_ta as ta\n",
    "import talib"
   ]
  },
  {
   "cell_type": "code",
   "execution_count": null,
   "id": "63b80bb2-6fbb-4467-9e88-d9658b7a3d2f",
   "metadata": {},
   "outputs": [],
   "source": [
    "df=pd.read_csv('/home/thakur/test/"
   ]
  }
 ],
 "metadata": {
  "kernelspec": {
   "display_name": "Python 3 (ipykernel)",
   "language": "python",
   "name": "python3"
  },
  "language_info": {
   "codemirror_mode": {
    "name": "ipython",
    "version": 3
   },
   "file_extension": ".py",
   "mimetype": "text/x-python",
   "name": "python",
   "nbconvert_exporter": "python",
   "pygments_lexer": "ipython3",
   "version": "3.10.6"
  }
 },
 "nbformat": 4,
 "nbformat_minor": 5
}
