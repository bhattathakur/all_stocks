{
 "cells": [
  {
   "cell_type": "code",
   "execution_count": null,
   "id": "8b177d26-d5f7-4d22-8dcf-c12e5cbc7e68",
   "metadata": {},
   "outputs": [],
   "source": [
    "import os\n",
    "import pandas as pd\n",
    "import numpy as np"
   ]
  },
  {
   "cell_type": "code",
   "execution_count": null,
   "id": "4ec6f896-b42d-4b19-b293-18f6c90f4991",
   "metadata": {},
   "outputs": [],
   "source": [
    "for dirs in ['mega']:\n",
    "    main_root=f'/home/thakur/test/{dirs}'\n",
    "    stocks=os.listdir(main_root)\n",
    "    #stocks=os.listdir(f'/home/thakur/test/{dirs}')\n",
    "    print(stocks)"
   ]
  },
  {
   "cell_type": "code",
   "execution_count": null,
   "id": "c06cf52d-b992-4adf-80de-9fddba9580b1",
   "metadata": {},
   "outputs": [],
   "source": [
    "for k,i in enumerate(stocks):\n",
    "    if k!=0:continue\n",
    "    print(f'{k}')\n",
    "    file=f'{main_root}/{i}'\n",
    "    print(f'{file}')"
   ]
  },
  {
   "cell_type": "code",
   "execution_count": null,
   "id": "aae4f4a5-dd6f-4dfe-b2d7-dcaa27258ef1",
   "metadata": {},
   "outputs": [],
   "source": [
    "file"
   ]
  },
  {
   "cell_type": "code",
   "execution_count": null,
   "id": "fbb87f8e-6633-484c-8473-196e55d772a0",
   "metadata": {},
   "outputs": [],
   "source": [
    "df=pd.read_csv(file)"
   ]
  },
  {
   "cell_type": "code",
   "execution_count": null,
   "id": "fa2835b3-edb6-43dd-8e8c-6e9f5acdb716",
   "metadata": {},
   "outputs": [],
   "source": [
    "#df=df.dropna()\n",
    "df"
   ]
  },
  {
   "cell_type": "code",
   "execution_count": null,
   "id": "11878ce7-57e6-4f8f-a581-18ad35347b19",
   "metadata": {},
   "outputs": [],
   "source": [
    "df.Date[0][:10]"
   ]
  },
  {
   "cell_type": "code",
   "execution_count": null,
   "id": "f41385f2-61cc-4f93-b9bc-ce816bfe374b",
   "metadata": {},
   "outputs": [],
   "source": [
    "def get_avergevol_past(df,days=10):\n",
    "    '''\n",
    "    returns two averge volumes: volumes for days and 50 days past days\n",
    "    '''\n",
    "    try:\n",
    "        head_vol=round(df.tail(50+days).head(50).Volume.mean()/1e6,2)\n",
    "        tail_vol=round(df.tail(days).Volume.mean()/1e6,2)\n",
    "        return tail_vol,head_vol\n",
    "    except:\n",
    "        print(f\"some error in get_averagevol_past!\")\n",
    "        return 0,0"
   ]
  },
  {
   "cell_type": "code",
   "execution_count": null,
   "id": "6170eb9d-cf5c-4391-a054-77a2e669e3e9",
   "metadata": {},
   "outputs": [],
   "source": [
    "def get_last_volume(df):\n",
    "    '''\n",
    "    retuns the last volume for the given ticker\n",
    "    '''\n",
    "    try:\n",
    "        return round(df.tail(1)['Volume'].values[0]/1e6,2)\n",
    "    except:\n",
    "        print(f\"some error in get_last_volume!\")\n",
    "        return 0"
   ]
  },
  {
   "cell_type": "code",
   "execution_count": null,
   "id": "62c439c6-0519-4b84-b62e-3a21e2c6ec05",
   "metadata": {},
   "outputs": [],
   "source": [
    "def get_last_price(df):\n",
    "    '''\n",
    "    retuns the last price for the given ticker\n",
    "    '''\n",
    "    try:\n",
    "        return df.tail(1)['Adj Close'].values[0]\n",
    "    except:\n",
    "        print(f\"some error in get_last_price !\")\n",
    "        return 0"
   ]
  },
  {
   "cell_type": "code",
   "execution_count": null,
   "id": "a00a76d9-5323-432e-92ac-dc428ba2e412",
   "metadata": {},
   "outputs": [],
   "source": [
    "def get_second_last_price(df):\n",
    "    '''\n",
    "    retuns the last price for the given ticker\n",
    "    '''\n",
    "    try:\n",
    "        return df.tail(2).head(1)['Adj Close'].values[0]\n",
    "    except:\n",
    "        print(f\"some error get_second_last_price!\")\n",
    "        return 0"
   ]
  },
  {
   "cell_type": "code",
   "execution_count": null,
   "id": "d10b0fc6-fd3f-4c4d-975a-67203d29ae93",
   "metadata": {},
   "outputs": [],
   "source": [
    "def get_change_pct(df):\n",
    "    '''\n",
    "    retuns the last pct_change for the given ticker\n",
    "    '''\n",
    "    try:\n",
    "        return round((get_last_price(df)/get_second_last_price(df)-1)*100,2)\n",
    "    except:\n",
    "        print(f\"some error in get_change_pct!\")\n",
    "        return 0\n"
   ]
  },
  {
   "cell_type": "code",
   "execution_count": null,
   "id": "ea771822-c89c-42a0-a7e7-3d18f95f7031",
   "metadata": {},
   "outputs": [],
   "source": [
    "def get_min_price_date(df):\n",
    "    '''\n",
    "    retuns the min price and corresponding date for the given interval for the given ticker\n",
    "    '''\n",
    "    try:\n",
    "        idx=df['Adj Close'].idxmin()\n",
    "        return df['Adj Close'].min(),df.iloc[idx,].Date[:10]\n",
    "    except:\n",
    "        print(f\"some error get_min_price_date!\")\n",
    "        return 0,0"
   ]
  },
  {
   "cell_type": "code",
   "execution_count": null,
   "id": "39e86046-ba08-4528-95d7-2a19b07bfc4e",
   "metadata": {},
   "outputs": [],
   "source": [
    "def get_max_price_date(df):\n",
    "    '''\n",
    "    retuns the max price and corresponding date for the given interval for the given ticker\n",
    "    '''\n",
    "    try:\n",
    "        idx=df['Adj Close'].idxmax()\n",
    "        return df['Adj Close'].max(),df.iloc[idx,].Date[:10]\n",
    "    except:\n",
    "        print(f\"some error in get_max_price_date !\")\n",
    "        return 0"
   ]
  },
  {
   "cell_type": "code",
   "execution_count": null,
   "id": "fac8cfe2-efa9-43e3-bce5-158a1f339203",
   "metadata": {},
   "outputs": [],
   "source": [
    "def get_all_info(df):\n",
    "    '''returns the information for the given ticker'''\n",
    "    #fill na with 0\n",
    "    #df.fillna(0,inplace=True)\n",
    "    # df=df.dropna()\n",
    "    if df.shape[0]<60 or df.empty:\n",
    "        print(f\"rows less than 60!\")\n",
    "        return \n",
    "    try:\n",
    "        last_price=get_last_price(df)\n",
    "        pct_chg=get_change_pct(df)\n",
    "        vol=get_last_volume(df)\n",
    "        mean_5=get_avergevol_past(df,days=5)[0]\n",
    "        mean_5_50=get_avergevol_past(df,days=5)[1]\n",
    "        mean_10=get_avergevol_past(df,days=10)[0]\n",
    "        mean_10_50=get_avergevol_past(df,days=10)[1]\n",
    "        min_price=get_min_price_date(df)[0]\n",
    "        min_date=get_min_price_date(df)[1]\n",
    "        max_price=get_max_price_date(df)[0]\n",
    "        max_date=get_max_price_date(df)[1]\n",
    "        return [last_price,pct_chg,vol,min_price,min_date,max_price,max_date,mean_5,mean_5_50,mean_10,mean_10_50]\n",
    "    except:\n",
    "        print(f\"some error in get_all_info(df) !\")\n",
    "        return 13*[0]\n",
    "    "
   ]
  },
  {
   "cell_type": "code",
   "execution_count": null,
   "id": "a7107b12-f7b4-4eba-b60b-1c2b2272fa3a",
   "metadata": {},
   "outputs": [],
   "source": [
    "\n",
    "def get_all(dirs):\n",
    "    '''\n",
    "    returns dataframe for given category\n",
    "    '''\n",
    "    try:\n",
    "        main_root=f'/home/thakur/test/{dirs}'\n",
    "        print(f'Working Dir: {main_root}')\n",
    "        stocks=os.listdir(main_root)\n",
    "        all_list=[]\n",
    "        for i in stocks:\n",
    "            #print(f\"Working with: {i}\")\n",
    "            file=f'{main_root}/{i}'\n",
    "            df=pd.read_csv(file)\n",
    "            df=df.dropna()\n",
    "            #df.fillna(0)\n",
    "            if df.empty:continue\n",
    "            if df.shape[0]<60:continue\n",
    "            ticker=i.split('.')[0]\n",
    "            info_list=[ticker]+get_all_info(df)+[dirs]\n",
    "            all_list.append(info_list)\n",
    "\n",
    "        #print(all_list)\n",
    "        columns=['TICKER', 'LAST', 'CHG%','VOLUME','MIN','MIN_DATE','MAX','MAX_DATE','VOL_5','VOL_5_50','VOL_10','VOL_10_50','CATEGORY']\n",
    "        return pd.DataFrame(all_list,columns=columns)\n",
    "    except:\n",
    "        print(f\"some error in get_all(dirs) !\")\n",
    "        return pd.DataFrame()\n",
    "    \n",
    "        \n",
    "    "
   ]
  },
  {
   "cell_type": "code",
   "execution_count": null,
   "id": "bed7e019-7125-4a68-a6af-7e75e5b81cd4",
   "metadata": {},
   "outputs": [],
   "source": [
    "\n",
    "def test_rows(dirs):\n",
    "    '''\n",
    "    returns dataframe for given category\n",
    "    '''\n",
    "    main_root=f'/home/thakur/test/{dirs}'\n",
    "    print(f'Working Dir: {main_root}')\n",
    "    stocks=os.listdir(main_root)\n",
    "    all_list=[]\n",
    "    for i,k in enumerate(stocks,start=1):\n",
    "        #print(f\"Working with {i}/{len(stocks)}: {k}\")\n",
    "        file=f'{main_root}/{k}'\n",
    "        df=pd.read_csv(file)\n",
    "        df=df.dropna()\n",
    "        if df.empty:\n",
    "            print(f\"{k} is empty!\")\n",
    "            continue\n",
    "        if df.shape[0]<60:\n",
    "            print(20*\"=\")\n",
    "            print(f\"{k} has rows less than 60!\")\n",
    "            continue\n",
    "        #print(f\"WORKING TICKER: {k.split('.')[0]}\")\n",
    "        # ticker=i.split('.')[0]\n",
    "        # info_list=[ticker]+get_all_info(df)+[dirs]\n",
    "        # all_list.append(info_list)\n",
    "\n",
    "    #print(all_list)\n",
    "    #columns=['TICKER', 'LAST', 'CHG%','VOLUME','MIN','MIN_DATE','MAX','MAX_DATE','VOL_5','VOL_5_50','VOL_10','VOL_10_50','CATEGORY']\n",
    "    #return pd.DataFrame(all_list,columns=columns)\n",
    "    \n",
    "        \n",
    "    "
   ]
  },
  {
   "cell_type": "code",
   "execution_count": null,
   "id": "4e3e6f13-91ef-480b-bbe7-6b076f3c0fee",
   "metadata": {},
   "outputs": [],
   "source": [
    "dirs='medium'\n",
    "main_root=f'/home/thakur/test/{dirs}'\n",
    "print(f'Working Dir: {main_root}')\n",
    "stocks=os.listdir(main_root)\n",
    "files=[main_root+\"/\"+i for i in stocks]"
   ]
  },
  {
   "cell_type": "code",
   "execution_count": null,
   "id": "e1cc8201-6432-4ca5-9323-8719d5211d6f",
   "metadata": {},
   "outputs": [],
   "source": [
    "\n",
    "dirs=['mega','large','medium','small','micro','nano']\n",
    "fine_list=[]\n",
    "for m in dirs:\n",
    "    main_root=f'/home/thakur/test/{m}'\n",
    "    print(f'Working Dir: {main_root}')\n",
    "    stocks=os.listdir(main_root)\n",
    "    files=[main_root+\"/\"+i for i in stocks]\n",
    "    for k,i in enumerate(files,start=1):\n",
    "        df=pd.read_csv(i)\n",
    "        #print(f\"DataFrame: {df}\")\n",
    "        tick=i.split('/')[-1].split('.')[0]\n",
    "        cat=m\n",
    "        v=[tick]+get_all_info(df)+[cat]\n",
    "        fine_list.append(v)\n",
    "        print(f\"{k:<6}{i.split('/')[-1]:10}\\t{v}\")"
   ]
  },
  {
   "cell_type": "code",
   "execution_count": null,
   "id": "30a77545-b2c4-4f11-96d0-b1acae35b3d0",
   "metadata": {},
   "outputs": [],
   "source": [
    "columns=['TICKER', 'LAST', 'CHG%','VOLUME','MIN','MIN_DATE','MAX','MAX_DATE','VOL_5','VOL_5_50','VOL_10','VOL_10_50','CATEGORY','c0','c1']\n",
    "cols=['TICKER', 'LAST', 'CHG%','VOLUME','MIN','MIN_DATE','MAX','MAX_DATE','VOL_5','VOL_5_50','VOL_10','VOL_10_50','CATEGORY']\n",
    "df_fine=pd.DataFrame(fine_list,columns=columns)\n",
    "df_fine=df_fine[cols]"
   ]
  },
  {
   "cell_type": "code",
   "execution_count": null,
   "id": "9ed0f47e-9a32-4b27-87e6-e6e47ddfd1d2",
   "metadata": {},
   "outputs": [],
   "source": [
    "df_fine"
   ]
  },
  {
   "cell_type": "markdown",
   "id": "785cf789-aa19-44b2-8721-4b8cd7258219",
   "metadata": {},
   "source": [
    "# SINGLE DATAFRAME"
   ]
  },
  {
   "cell_type": "code",
   "execution_count": null,
   "id": "1c787c0b-02b5-45c5-a46f-e49eff642f45",
   "metadata": {},
   "outputs": [],
   "source": [
    "#df_final\n",
    "df_fine=df_fine.dropna()\n",
    "df_fine"
   ]
  },
  {
   "cell_type": "markdown",
   "id": "b77589cf-a4f1-4daa-8fdb-3a621af1ea10",
   "metadata": {},
   "source": [
    "# UP"
   ]
  },
  {
   "cell_type": "code",
   "execution_count": null,
   "id": "a32bcdd3-9327-494c-be26-125a9871e1f2",
   "metadata": {},
   "outputs": [],
   "source": [
    "up=sum(df_fine['CHG%']>0)\n",
    "up"
   ]
  },
  {
   "cell_type": "markdown",
   "id": "11995110-158e-4ff0-b5f6-83d91c251612",
   "metadata": {},
   "source": [
    "# DOWN"
   ]
  },
  {
   "cell_type": "code",
   "execution_count": null,
   "id": "caf5cff2-ea6e-4498-9475-60eb497f0409",
   "metadata": {},
   "outputs": [],
   "source": [
    "down=sum(df_fine['CHG%']<0)\n",
    "down"
   ]
  },
  {
   "cell_type": "code",
   "execution_count": null,
   "id": "9cd97fd4-bcb9-4833-86c8-ad51f8c09c22",
   "metadata": {},
   "outputs": [],
   "source": [
    "up_down=pd.DataFrame.from_dict({\"UP\":[up],\"DOWN\":[down]})"
   ]
  },
  {
   "cell_type": "code",
   "execution_count": null,
   "id": "fb81ba67-9211-4678-b251-d0a3d6b68b39",
   "metadata": {},
   "outputs": [],
   "source": [
    "up_down"
   ]
  },
  {
   "cell_type": "code",
   "execution_count": null,
   "id": "d87dce4b-7744-4696-b607-f3b464f97c7d",
   "metadata": {},
   "outputs": [],
   "source": [
    "up_down.plot(kind='bar')"
   ]
  },
  {
   "cell_type": "markdown",
   "id": "218b20b0-abea-47b9-9ffb-db996e018466",
   "metadata": {},
   "source": [
    "# LAST PRICE < MIN"
   ]
  },
  {
   "cell_type": "code",
   "execution_count": null,
   "id": "e3c710d2-7fa7-431c-b010-740a9a920cad",
   "metadata": {},
   "outputs": [],
   "source": [
    "df_fine[df_fine['LAST']>df_fine['MIN']].dropna().reset_index(drop=True)"
   ]
  },
  {
   "cell_type": "markdown",
   "id": "9ec93f5a-94f3-44dc-8ddc-1d666b2a42ef",
   "metadata": {},
   "source": [
    "# LAST PRICE = MIN"
   ]
  },
  {
   "cell_type": "code",
   "execution_count": null,
   "id": "f09e4022-1059-483f-bcf7-ecf081d31575",
   "metadata": {},
   "outputs": [],
   "source": [
    "df_fine[df_fine['LAST']==df_fine['MIN']].dropna().reset_index(drop=True).round(2)"
   ]
  },
  {
   "cell_type": "markdown",
   "id": "ec6f1fb6-2430-4373-a2a3-77b74c1f6496",
   "metadata": {},
   "source": [
    "# LAST PRICE < MAX"
   ]
  },
  {
   "cell_type": "code",
   "execution_count": null,
   "id": "d50cc520-c787-42dc-b334-70b42e04694a",
   "metadata": {},
   "outputs": [],
   "source": [
    "df_fine[df_fine['LAST']<df_fine['MAX']].dropna().reset_index(drop=True)"
   ]
  },
  {
   "cell_type": "markdown",
   "id": "01b1f138-956b-492c-b317-b48d5ec2481a",
   "metadata": {},
   "source": [
    "# LAST PRICE = MAX"
   ]
  },
  {
   "cell_type": "code",
   "execution_count": null,
   "id": "987583af-62c2-49bd-83ba-4197914258aa",
   "metadata": {},
   "outputs": [],
   "source": [
    "df_fine[df_fine['LAST']==df_fine['MAX']].dropna().reset_index(drop=True).round(2)"
   ]
  },
  {
   "cell_type": "markdown",
   "id": "d616686e-176d-4375-83f3-339055431d1d",
   "metadata": {},
   "source": [
    "# MAX VOLUME"
   ]
  },
  {
   "cell_type": "code",
   "execution_count": null,
   "id": "7acfd124-7e05-49d3-905e-74d0ed95050d",
   "metadata": {},
   "outputs": [],
   "source": [
    "df_vol=df_fine.sort_values(by='VOLUME',ascending=False)\\\n",
    ".reset_index(drop=True)\n",
    "\n",
    "df_vol.head(20).round(2)"
   ]
  },
  {
   "cell_type": "markdown",
   "id": "ca15037e-574b-41dd-80bf-4aa6e1640e12",
   "metadata": {},
   "source": [
    "# MAX CHANGE"
   ]
  },
  {
   "cell_type": "code",
   "execution_count": null,
   "id": "fd3f1236-5366-494b-8be3-573f07776ed4",
   "metadata": {},
   "outputs": [],
   "source": [
    "df_vol=df_fine.sort_values(by='CHG%',ascending=False)\\\n",
    ".reset_index(drop=True)\n",
    "\n",
    "df_vol.head(20).round(2)"
   ]
  },
  {
   "cell_type": "markdown",
   "id": "954cb985-2956-4827-b91a-fca451f09d53",
   "metadata": {},
   "source": [
    "# MIN CHANGE"
   ]
  },
  {
   "cell_type": "code",
   "execution_count": null,
   "id": "09c34ebf-f0d4-4b22-b18e-d0c02e8154e8",
   "metadata": {},
   "outputs": [],
   "source": [
    "df_vol=df_fine.sort_values(by='CHG%',ascending=True)\\\n",
    ".reset_index(drop=True)\n",
    "\n",
    "df_vol.head(20).round(2)"
   ]
  },
  {
   "cell_type": "code",
   "execution_count": null,
   "id": "ac3d4aca-6462-45ca-8d39-3e13fb41a2f7",
   "metadata": {},
   "outputs": [],
   "source": [
    "# AVG_VOL_10>AVG_VOL_50\n",
    "category=['small']#,'medium','large']\n",
    "df_fine[(df_fine['VOL_10']>df_fine['VOL_10_50']) & (df_fine['CHG%']>0) & (df_fine.CATEGORY.isin(category))].sort_values(by='LAST').reset_index(drop=True)"
   ]
  },
  {
   "cell_type": "code",
   "execution_count": null,
   "id": "0427ab71-cd3c-4c62-83e8-7faac4c719f3",
   "metadata": {},
   "outputs": [],
   "source": []
  }
 ],
 "metadata": {
  "kernelspec": {
   "display_name": "Python 3 (ipykernel)",
   "language": "python",
   "name": "python3"
  },
  "language_info": {
   "codemirror_mode": {
    "name": "ipython",
    "version": 3
   },
   "file_extension": ".py",
   "mimetype": "text/x-python",
   "name": "python",
   "nbconvert_exporter": "python",
   "pygments_lexer": "ipython3",
   "version": "3.10.6"
  }
 },
 "nbformat": 4,
 "nbformat_minor": 5
}
