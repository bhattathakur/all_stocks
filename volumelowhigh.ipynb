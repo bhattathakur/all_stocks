{
 "cells": [
  {
   "cell_type": "code",
   "execution_count": null,
   "id": "8b177d26-d5f7-4d22-8dcf-c12e5cbc7e68",
   "metadata": {},
   "outputs": [],
   "source": [
    "import os\n",
    "import pandas as pd\n",
    "import numpy as np"
   ]
  },
  {
   "cell_type": "code",
   "execution_count": null,
   "id": "4ec6f896-b42d-4b19-b293-18f6c90f4991",
   "metadata": {},
   "outputs": [],
   "source": [
    "for dirs in ['mega']:\n",
    "    main_root=f'/home/thakur/test/{dirs}'\n",
    "    stocks=os.listdir(main_root)\n",
    "    #stocks=os.listdir(f'/home/thakur/test/{dirs}')\n",
    "    print(stocks)"
   ]
  },
  {
   "cell_type": "code",
   "execution_count": null,
   "id": "c06cf52d-b992-4adf-80de-9fddba9580b1",
   "metadata": {},
   "outputs": [],
   "source": [
    "for k,i in enumerate(stocks):\n",
    "    if k!=0:continue\n",
    "    print(f'{k}')\n",
    "    file=f'{main_root}/{i}'\n",
    "    print(f'{file}')"
   ]
  },
  {
   "cell_type": "code",
   "execution_count": null,
   "id": "aae4f4a5-dd6f-4dfe-b2d7-dcaa27258ef1",
   "metadata": {},
   "outputs": [],
   "source": [
    "file"
   ]
  },
  {
   "cell_type": "code",
   "execution_count": null,
   "id": "fbb87f8e-6633-484c-8473-196e55d772a0",
   "metadata": {},
   "outputs": [],
   "source": [
    "df=pd.read_csv(file)"
   ]
  },
  {
   "cell_type": "code",
   "execution_count": null,
   "id": "fa2835b3-edb6-43dd-8e8c-6e9f5acdb716",
   "metadata": {},
   "outputs": [],
   "source": [
    "#df=df.dropna()\n",
    "df"
   ]
  },
  {
   "cell_type": "code",
   "execution_count": null,
   "id": "f41385f2-61cc-4f93-b9bc-ce816bfe374b",
   "metadata": {},
   "outputs": [],
   "source": [
    "def get_avergevol_past(df,days=10):\n",
    "    '''\n",
    "    returns two averge volumes: volumes for days and 50 days past days\n",
    "    '''\n",
    "    try:\n",
    "        head_vol=round(df.tail(50+days).head(50).Volume.mean()/1e6,2)\n",
    "        tail_vol=round(df.tail(days).Volume.mean()/1e6,2)\n",
    "        return tail_vol,head_vol\n",
    "    except:\n",
    "        print(f\"some error in get_averagevol_past!\")"
   ]
  },
  {
   "cell_type": "code",
   "execution_count": null,
   "id": "6170eb9d-cf5c-4391-a054-77a2e669e3e9",
   "metadata": {},
   "outputs": [],
   "source": [
    "def get_last_volume(df):\n",
    "    '''\n",
    "    retuns the last volume for the given ticker\n",
    "    '''\n",
    "    try:\n",
    "        return round(df.tail(1)['Volume'].values[0]/1e6,2)\n",
    "    except:\n",
    "        print(f\"some error in get_last_volume!\")"
   ]
  },
  {
   "cell_type": "code",
   "execution_count": null,
   "id": "62c439c6-0519-4b84-b62e-3a21e2c6ec05",
   "metadata": {},
   "outputs": [],
   "source": [
    "def get_last_price(df):\n",
    "    '''\n",
    "    retuns the last price for the given ticker\n",
    "    '''\n",
    "    try:\n",
    "        return df.tail(1)['Adj Close'].values[0]\n",
    "    except:\n",
    "        print(f\"some error in get_last_price !\")"
   ]
  },
  {
   "cell_type": "code",
   "execution_count": null,
   "id": "a00a76d9-5323-432e-92ac-dc428ba2e412",
   "metadata": {},
   "outputs": [],
   "source": [
    "def get_second_last_price(df):\n",
    "    '''\n",
    "    retuns the last price for the given ticker\n",
    "    '''\n",
    "    try:\n",
    "        return df.tail(2).head(1)['Adj Close'].values[0]\n",
    "    except:\n",
    "        print(f\"some error get_second_last_price!\")"
   ]
  },
  {
   "cell_type": "code",
   "execution_count": null,
   "id": "d10b0fc6-fd3f-4c4d-975a-67203d29ae93",
   "metadata": {},
   "outputs": [],
   "source": [
    "def get_change_pct(df):\n",
    "    '''\n",
    "    retuns the last pct_change for the given ticker\n",
    "    '''\n",
    "    try:\n",
    "        return round((get_last_price(df)/get_second_last_price(df)-1)*100,2)\n",
    "    except:\n",
    "        print(f\"some error in get_change_pct!\")\n"
   ]
  },
  {
   "cell_type": "code",
   "execution_count": null,
   "id": "ea771822-c89c-42a0-a7e7-3d18f95f7031",
   "metadata": {},
   "outputs": [],
   "source": [
    "def get_min_price_date(df):\n",
    "    '''\n",
    "    retuns the min price and corresponding date for the given interval for the given ticker\n",
    "    '''\n",
    "    try:\n",
    "        idx=df['Adj Close'][:-1].idxmin()\n",
    "        return df['Adj Close'][:-1].min(),df.iloc[idx,].Date.split()[0]\n",
    "    except:\n",
    "        print(f\"some error get_min_price_date!\")\n",
    "        return 0"
   ]
  },
  {
   "cell_type": "code",
   "execution_count": null,
   "id": "39e86046-ba08-4528-95d7-2a19b07bfc4e",
   "metadata": {},
   "outputs": [],
   "source": [
    "def get_max_price_date(df):\n",
    "    '''\n",
    "    retuns the max price and corresponding date for the given interval for the given ticker\n",
    "    '''\n",
    "    try:\n",
    "        idx=df['Adj Close'][:-1].idxmax()\n",
    "        return df['Adj Close'][:-1].max(),df.iloc[idx,].Date.split()[0]\n",
    "    except:\n",
    "        print(f\"some error in get_max_price_date !\")"
   ]
  },
  {
   "cell_type": "code",
   "execution_count": null,
   "id": "fac8cfe2-efa9-43e3-bce5-158a1f339203",
   "metadata": {},
   "outputs": [],
   "source": [
    "def get_all_info(df):\n",
    "    '''returns the information for the given ticker'''\n",
    "    #fill na with 0\n",
    "    #df.fillna(0,inplace=True)\n",
    "    # df=df.dropna()\n",
    "    if df.shape[0]<60 or df.empty:\n",
    "        print(f\"rows less than 60!\")\n",
    "        return \n",
    "    try:\n",
    "        last_price=get_last_price(df)\n",
    "        pct_chg=get_change_pct(df)\n",
    "        vol=get_last_volume(df)\n",
    "        mean_5=get_avergevol_past(df,days=5)[0]\n",
    "        mean_5_50=get_avergevol_past(df,days=5)[1]\n",
    "        mean_10=get_avergevol_past(df,days=10)[0]\n",
    "        mean_10_50=get_avergevol_past(df,days=10)[1]\n",
    "        min_price=get_min_price_date(df)[0]\n",
    "        min_date=get_min_price_date(df)[1]\n",
    "        max_price=get_max_price_date(df)[0]\n",
    "        max_date=get_max_price_date(df)[1]\n",
    "        return [last_price,pct_chg,vol,min_price,min_date,max_price,max_date,mean_5,mean_5_50,mean_10,mean_10_50]\n",
    "    except:\n",
    "        print(f\"some error in get_all_info(df) !\")\n",
    "        return 13*[0]\n",
    "    "
   ]
  },
  {
   "cell_type": "code",
   "execution_count": null,
   "id": "a7107b12-f7b4-4eba-b60b-1c2b2272fa3a",
   "metadata": {},
   "outputs": [],
   "source": [
    "\n",
    "def get_all(dirs):\n",
    "    '''\n",
    "    returns dataframe for given category\n",
    "    '''\n",
    "    try:\n",
    "        main_root=f'/home/thakur/test/{dirs}'\n",
    "        print(f'Working Dir: {main_root}')\n",
    "        stocks=os.listdir(main_root)\n",
    "        all_list=[]\n",
    "        for i in stocks:\n",
    "            #print(f\"Working with: {i}\")\n",
    "            file=f'{main_root}/{i}'\n",
    "            df=pd.read_csv(file)\n",
    "            #df=df.dropna()\n",
    "            df.fillna(0)\n",
    "            if df.empty:continue\n",
    "            if df.shape[0]<60:continue\n",
    "            ticker=i.split('.')[0]\n",
    "            info_list=[ticker]+get_all_info(df)+[dirs]\n",
    "            all_list.append(info_list)\n",
    "\n",
    "        #print(all_list)\n",
    "        columns=['TICKER', 'LAST', 'CHG%','VOLUME','MIN','MIN_DATE','MAX','MAX_DATE','VOL_5','VOL_5_50','VOL_10','VOL_10_50','CATEGORY']\n",
    "        return pd.DataFrame(all_list,columns=columns)\n",
    "    except:\n",
    "        print(f\"some error in get_all(dirs) !\")\n",
    "        return pd.DataFrame()\n",
    "    \n",
    "        \n",
    "    "
   ]
  },
  {
   "cell_type": "code",
   "execution_count": null,
   "id": "bed7e019-7125-4a68-a6af-7e75e5b81cd4",
   "metadata": {},
   "outputs": [],
   "source": [
    "\n",
    "def test_rows(dirs):\n",
    "    '''\n",
    "    returns dataframe for given category\n",
    "    '''\n",
    "    main_root=f'/home/thakur/test/{dirs}'\n",
    "    print(f'Working Dir: {main_root}')\n",
    "    stocks=os.listdir(main_root)\n",
    "    all_list=[]\n",
    "    for i,k in enumerate(stocks,start=1):\n",
    "        #print(f\"Working with {i}/{len(stocks)}: {k}\")\n",
    "        file=f'{main_root}/{k}'\n",
    "        df=pd.read_csv(file)\n",
    "        df=df.dropna()\n",
    "        if df.empty:\n",
    "            print(f\"{k} is empty!\")\n",
    "            continue\n",
    "        if df.shape[0]<60:\n",
    "            print(20*\"=\")\n",
    "            print(f\"{k} has rows less than 60!\")\n",
    "            continue\n",
    "        #print(f\"WORKING TICKER: {k.split('.')[0]}\")\n",
    "        # ticker=i.split('.')[0]\n",
    "        # info_list=[ticker]+get_all_info(df)+[dirs]\n",
    "        # all_list.append(info_list)\n",
    "\n",
    "    #print(all_list)\n",
    "    #columns=['TICKER', 'LAST', 'CHG%','VOLUME','MIN','MIN_DATE','MAX','MAX_DATE','VOL_5','VOL_5_50','VOL_10','VOL_10_50','CATEGORY']\n",
    "    #return pd.DataFrame(all_list,columns=columns)\n",
    "    \n",
    "        \n",
    "    "
   ]
  },
  {
   "cell_type": "code",
   "execution_count": null,
   "id": "7da730c9-15e1-4424-9107-a83cd4a73052",
   "metadata": {},
   "outputs": [],
   "source": [
    "test_rows(\"large\")"
   ]
  },
  {
   "cell_type": "code",
   "execution_count": null,
   "id": "729e686f-bbcd-44a9-a796-de894a2ad29c",
   "metadata": {},
   "outputs": [],
   "source": [
    "get_all(\"small\")"
   ]
  },
  {
   "cell_type": "code",
   "execution_count": null,
   "id": "afcc36a7-af42-4b59-a8e7-64271d3465ae",
   "metadata": {},
   "outputs": [],
   "source": [
    "# dirs='large'\n",
    "# main_root=f'/home/thakur/test/{dirs}'\n",
    "# print(f'Working Dir: {main_root}')\n",
    "# stocks=os.listdir(main_root)[:]\n",
    "# for i in stocks:\n",
    "#     df=pd.read_csv(main_root+'/'+i)\n",
    "#     df=df.dropna()\n",
    "#     if df.shape[0]<60 or df.empty:continue\n",
    "#     #print(f\"{i}: {df.shape[0]}\")\n",
    "#     else:print(get_all_info(df))\n",
    "#     #if df.shape[0]<60:print(\"Error!\")\n",
    "#     #print(pd.read_csv(main_root+'/'+i))"
   ]
  },
  {
   "cell_type": "code",
   "execution_count": null,
   "id": "147a2cf8-c144-4619-af0c-cae590a0ce06",
   "metadata": {},
   "outputs": [],
   "source": [
    "# dirs='large'\n",
    "# main_root=f'/home/thakur/test/{dirs}'\n",
    "# print(f'Working Dir: {main_root}')\n",
    "# stocks=os.listdir(main_root)[:]\n",
    "# for i in stocks:\n",
    "#     df=pd.read_csv(main_root+'/'+i)\n",
    "#     df=df.dropna()\n",
    "#     if df.empty:continue\n",
    "#     if df.shape[0]<60:continue\n",
    "#     #print(f\"{i}: {df.shape[0]}\")\n",
    "#     print(get_all_info(df))\n",
    "#     #if df.shape[0]<60:print(\"Error!\")\n",
    "#     #print(pd.read_csv(main_root+'/'+i))"
   ]
  },
  {
   "cell_type": "code",
   "execution_count": null,
   "id": "6e51500f-cdcb-43a9-9270-7ead4b8d4b7c",
   "metadata": {},
   "outputs": [],
   "source": [
    "ls=13*[0]\n",
    "ls"
   ]
  },
  {
   "cell_type": "markdown",
   "id": "eff836f5-fb61-4cd2-a5da-4a82efdcb0f3",
   "metadata": {},
   "source": [
    "# getting 5 dataframes"
   ]
  },
  {
   "cell_type": "code",
   "execution_count": null,
   "id": "5f311c96-f6a7-4629-b987-607148c01137",
   "metadata": {},
   "outputs": [],
   "source": [
    "my_list=['mega','medium','large','small','micro','nano']\n",
    "my_name=['df_'+i for i in my_list]\n",
    "for i in range(5):my_name[i]=get_all(my_list[i])\n"
   ]
  },
  {
   "cell_type": "code",
   "execution_count": null,
   "id": "7809aa60-e093-4a12-88f9-9967fbb800e4",
   "metadata": {},
   "outputs": [],
   "source": []
  },
  {
   "cell_type": "markdown",
   "id": "785cf789-aa19-44b2-8721-4b8cd7258219",
   "metadata": {},
   "source": [
    "# SINGLE DATAFRAME"
   ]
  },
  {
   "cell_type": "code",
   "execution_count": null,
   "id": "c1dbd8fc-dc09-4e64-b933-ffdbb5313cfb",
   "metadata": {},
   "outputs": [],
   "source": [
    "df_final=pd.concat([my_name[0],my_name[1],my_name[2],my_name[3],my_name[4]])"
   ]
  },
  {
   "cell_type": "code",
   "execution_count": null,
   "id": "1c787c0b-02b5-45c5-a46f-e49eff642f45",
   "metadata": {},
   "outputs": [],
   "source": [
    "df_final"
   ]
  },
  {
   "cell_type": "markdown",
   "id": "b77589cf-a4f1-4daa-8fdb-3a621af1ea10",
   "metadata": {},
   "source": [
    "# UP"
   ]
  },
  {
   "cell_type": "code",
   "execution_count": null,
   "id": "a32bcdd3-9327-494c-be26-125a9871e1f2",
   "metadata": {},
   "outputs": [],
   "source": [
    "up=sum(df_final['CHG%']>0)\n",
    "up"
   ]
  },
  {
   "cell_type": "markdown",
   "id": "11995110-158e-4ff0-b5f6-83d91c251612",
   "metadata": {},
   "source": [
    "# DOWN"
   ]
  },
  {
   "cell_type": "code",
   "execution_count": null,
   "id": "caf5cff2-ea6e-4498-9475-60eb497f0409",
   "metadata": {},
   "outputs": [],
   "source": [
    "down=sum(df_final['CHG%']<0)\n",
    "down"
   ]
  },
  {
   "cell_type": "code",
   "execution_count": null,
   "id": "9cd97fd4-bcb9-4833-86c8-ad51f8c09c22",
   "metadata": {},
   "outputs": [],
   "source": [
    "up_down=pd.DataFrame.from_dict({\"UP\":[up],\"DOWN\":[down]})"
   ]
  },
  {
   "cell_type": "code",
   "execution_count": null,
   "id": "fb81ba67-9211-4678-b251-d0a3d6b68b39",
   "metadata": {},
   "outputs": [],
   "source": [
    "up_down"
   ]
  },
  {
   "cell_type": "code",
   "execution_count": null,
   "id": "d87dce4b-7744-4696-b607-f3b464f97c7d",
   "metadata": {},
   "outputs": [],
   "source": [
    "up_down.plot(kind='bar')"
   ]
  },
  {
   "cell_type": "markdown",
   "id": "9ec93f5a-94f3-44dc-8ddc-1d666b2a42ef",
   "metadata": {},
   "source": [
    "# LAST PRICE < MIN"
   ]
  },
  {
   "cell_type": "code",
   "execution_count": null,
   "id": "e3c710d2-7fa7-431c-b010-740a9a920cad",
   "metadata": {},
   "outputs": [],
   "source": [
    "df_final[df_final['LAST']<df_final['MIN']].reset_index(drop=True)"
   ]
  },
  {
   "cell_type": "markdown",
   "id": "ec6f1fb6-2430-4373-a2a3-77b74c1f6496",
   "metadata": {},
   "source": [
    "# LAST PRICE < MAX"
   ]
  },
  {
   "cell_type": "code",
   "execution_count": null,
   "id": "d50cc520-c787-42dc-b334-70b42e04694a",
   "metadata": {},
   "outputs": [],
   "source": [
    "df_final[df_final['LAST']>df_final['MAX']].reset_index(drop=True)"
   ]
  },
  {
   "cell_type": "markdown",
   "id": "d616686e-176d-4375-83f3-339055431d1d",
   "metadata": {},
   "source": [
    "# MAX VOLUME"
   ]
  },
  {
   "cell_type": "code",
   "execution_count": null,
   "id": "7acfd124-7e05-49d3-905e-74d0ed95050d",
   "metadata": {},
   "outputs": [],
   "source": [
    "df_vol=df_final.sort_values(by='VOLUME',ascending=False)\\\n",
    ".reset_index(drop=True)\n",
    "\n",
    "df_vol.head(20)"
   ]
  },
  {
   "cell_type": "code",
   "execution_count": null,
   "id": "1b5c418d-a12c-4e4a-8145-89db1d23f298",
   "metadata": {},
   "outputs": [],
   "source": [
    "# my_list=['mega','medium','large','small','micro','nano']\n",
    "# #condition='DAYS_UP & VOLUME_UP & INCREMENT'\n",
    "# for i,k in enumerate(my_list,start=1):\n",
    "#     print(40*'=')\n",
    "#     print(f\"\\n{i}/{len(my_list)} Working With {k.upper()}..\\n\")\n",
    "    \n",
    "#     df_m=get_all(k)\n",
    "#     print(\"df_m\")\n",
    "   \n",
    "#     #df_tem=df_m.query(condition).reset_index(drop=True)\n",
    "    \n",
    "#     # if not df_tem.empty:\n",
    "#     #     #print(f'Saved into the file: david_{k}.csv\\n')\n",
    "#     #     #df_tem.to_csv(f'david_{k}.csv',index=False)\n",
    "#     #     print(df_tem)\n",
    "    "
   ]
  },
  {
   "cell_type": "code",
   "execution_count": null,
   "id": "54660369-9f81-49a3-ad08-72a84443d1bb",
   "metadata": {},
   "outputs": [],
   "source": [
    "df_f=pd.read_csv('/home/thakur/test/large/F.csv')\n",
    "df_f=df_f.dropna()\n",
    "df_f.shape[0]"
   ]
  },
  {
   "cell_type": "code",
   "execution_count": null,
   "id": "d503078a-443a-4422-932b-a7fe4503b04f",
   "metadata": {},
   "outputs": [],
   "source": [
    "\n",
    "# def get_all_in_dir(dirs):\n",
    "#     main_root=f'/home/thakur/test/{dirs}'\n",
    "#     print(f'Working Dir: {main_root}')\n",
    "#     stocks=os.listdir(main_root)\n",
    "#     #stocks=os.listdir(f'/home/thakur/test/{dirs}')\n",
    "#     ticker=[];mean_5=[];mean_5_50=[],mean_10=[],mean_10_50=[],last_price=[],min_price=[],min_date=[],max_price=[],max_date=[]\n",
    "#     #print(stocks)\n",
    "#     for i in stocks:\n",
    "#         file=f'{main_root}/{i}'\n",
    "#         df=pd.read_csv(file)\n",
    "        \n",
    "#         ticker.append(i.split('.')[0])\n",
    "#         mean_5.append(get_avergevol_past(df,days=5)[0])\n",
    "#         mean_5_50.append(get_avergevol_past(df,days=5)[1])\n",
    "#         mean_10.append(get_avergevol_past(df,days=10)[0])\n",
    "#         mean_10_50.append(get_avergevol_past(df,days=10)[1])\n",
    "#         last_price.append(get_last_price(df))\n",
    "#         min_price.append(get_min_price_date(df)[0])\n",
    "#         min_date.append(get_min_price_date(df)[1])\n",
    "#         max_price.append(get_max_price_date(df)[0])\n",
    "#         max_date.append(get_max_price_date(df)[1])\n",
    "        \n",
    "        \n",
    "#     zipped=list(zip(ticker,last_price,min_price,min_date,max_price,max_date,mean_5,mean_5_50,mean_10,mean_10_50))\n",
    "#     df = pd.DataFrame(zipped, columns=['TICKER', 'LAST', 'MIN','MIN_DATE','MAX','MAX_DATE','MEAN_5','MEAN_5_50','MEAN_10','MEAN_10_50']).reset_index(drop=True)\n",
    "\n",
    "#     return df\n",
    "        \n",
    "    "
   ]
  },
  {
   "cell_type": "code",
   "execution_count": null,
   "id": "071a8828-edbc-4c07-8853-c406d16d8bba",
   "metadata": {},
   "outputs": [],
   "source": []
  },
  {
   "cell_type": "code",
   "execution_count": null,
   "id": "43d76717-f8c9-4d57-b80e-a8969db3679d",
   "metadata": {},
   "outputs": [],
   "source": [
    "# my_list=['mega','medium','large','small','micro','nano']\n",
    "# #condition='DAYS_UP & VOLUME_UP & INCREMENT'\n",
    "# for i,k in enumerate(my_list,start=1):\n",
    "#     print(40*'=')\n",
    "#     print(f\"\\n{i}/{len(my_list)} Working With {k.upper()}..\\n\")\n",
    "    \n",
    "#     df_m=get_all_in_dir(k)\n",
    "   \n",
    "#     #df_tem=df_m.query(condition).reset_index(drop=True)\n",
    "    \n",
    "#     if not df_tem.empty:\n",
    "#         print(f'Saved into the file: david_{k}.csv\\n')\n",
    "#         df_tem.to_csv(f'david_{k}.csv',index=False)\n",
    "#         print(df_tem)\n",
    "    "
   ]
  },
  {
   "cell_type": "code",
   "execution_count": null,
   "id": "ac3d4aca-6462-45ca-8d39-3e13fb41a2f7",
   "metadata": {},
   "outputs": [],
   "source": []
  }
 ],
 "metadata": {
  "kernelspec": {
   "display_name": "Python 3 (ipykernel)",
   "language": "python",
   "name": "python3"
  },
  "language_info": {
   "codemirror_mode": {
    "name": "ipython",
    "version": 3
   },
   "file_extension": ".py",
   "mimetype": "text/x-python",
   "name": "python",
   "nbconvert_exporter": "python",
   "pygments_lexer": "ipython3",
   "version": "3.10.6"
  }
 },
 "nbformat": 4,
 "nbformat_minor": 5
}
