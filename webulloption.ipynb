{
 "cells": [
  {
   "cell_type": "code",
   "execution_count": null,
   "id": "e34657ee-41a7-4d33-84ac-d7dfb4fbfbc1",
   "metadata": {},
   "outputs": [],
   "source": [
    "#webull option data"
   ]
  },
  {
   "cell_type": "code",
   "execution_count": null,
   "id": "3a2a72e7-ee34-4316-a605-313a99325b57",
   "metadata": {},
   "outputs": [],
   "source": [
    "import pandas as pd\n",
    "import numpy as np\n",
    "import seaborn as sns\n",
    "import matplotlib.pyplot as plt\n",
    "from datetime import datetime\n",
    "sns.set_theme()"
   ]
  },
  {
   "cell_type": "code",
   "execution_count": null,
   "id": "20d24a68-1367-45a1-9c9c-ed032c4ea60c",
   "metadata": {},
   "outputs": [],
   "source": [
    "today=datetime.today().strftime(\"%m/%d/%y\")\n",
    "today"
   ]
  },
  {
   "cell_type": "code",
   "execution_count": null,
   "id": "9e81bf69-5296-41d3-b386-4187c87b16c2",
   "metadata": {},
   "outputs": [],
   "source": [
    "f='feb07.csv'\n",
    "file=\"/home/thakur/all_stocks/{}\".format(f)\n",
    "df=pd.read_csv(file)[::-1].reset_index(drop=True)"
   ]
  },
  {
   "cell_type": "code",
   "execution_count": null,
   "id": "a6e3052c-713b-4f15-896b-a085bb6dcd23",
   "metadata": {},
   "outputs": [],
   "source": [
    "def get_label(x,y):\n",
    "    s=x.split();s1=y.split()\n",
    "    \n",
    "    return s[0]+\"-\"+s[4]+\"-\"+s[-1].split('.')[0]+\"-\"+s1[1]"
   ]
  },
  {
   "cell_type": "code",
   "execution_count": null,
   "id": "430b2ccd-d4d1-44da-a551-8c686506a439",
   "metadata": {},
   "outputs": [],
   "source": [
    "df"
   ]
  },
  {
   "cell_type": "code",
   "execution_count": null,
   "id": "4124e038-52ae-4542-8f1b-8b2ff68c4bd8",
   "metadata": {},
   "outputs": [],
   "source": [
    "\n",
    "df=df[df['Status']=='Filled']"
   ]
  },
  {
   "cell_type": "code",
   "execution_count": null,
   "id": "cf40e879-5402-475f-a7cc-a307e7b4486c",
   "metadata": {},
   "outputs": [],
   "source": [
    "df.head()"
   ]
  },
  {
   "cell_type": "code",
   "execution_count": null,
   "id": "38e5842e-2749-4367-a464-844a4e6e9633",
   "metadata": {},
   "outputs": [],
   "source": [
    "df['Name']=df.apply(lambda x:get_label(x['Name'],x['Filled Time']),axis=1)"
   ]
  },
  {
   "cell_type": "code",
   "execution_count": null,
   "id": "e5369d95-2b95-47ab-b8dc-da0b20943715",
   "metadata": {},
   "outputs": [],
   "source": [
    "df['Placed Time']=pd.to_datetime(df['Placed Time']);df['Filled Time']=pd.to_datetime(df['Filled Time']);\n",
    "df.head()"
   ]
  },
  {
   "cell_type": "code",
   "execution_count": null,
   "id": "449eed83-57af-44ab-8f3d-a1a771d82d9d",
   "metadata": {},
   "outputs": [],
   "source": [
    "df['Sold Price']=df['Avg Price'].shift(-1);df['Sold Time']=df['Filled Time'].shift(-1)"
   ]
  },
  {
   "cell_type": "code",
   "execution_count": null,
   "id": "41e74d07-03a5-4ad2-bb9f-877664e788b5",
   "metadata": {},
   "outputs": [],
   "source": [
    "df.head()"
   ]
  },
  {
   "cell_type": "code",
   "execution_count": null,
   "id": "ad1eab54-0d53-4154-b75d-90e83fe31a9e",
   "metadata": {},
   "outputs": [],
   "source": [
    "# df['Side'].where(df['Side']=='Buy')\n",
    "df.loc[:,'hold_time']=np.where(df['Side'].isin(['Buy']),(df['Sold Time']-df['Filled Time']).dt.seconds.divide(60).round(2),0)"
   ]
  },
  {
   "cell_type": "code",
   "execution_count": null,
   "id": "8fe22897-deed-4c46-b334-73e90ae2798c",
   "metadata": {},
   "outputs": [],
   "source": [
    "df.head()"
   ]
  },
  {
   "cell_type": "code",
   "execution_count": null,
   "id": "456a1e6d-c02f-4b1c-b18f-82119fe97dd0",
   "metadata": {},
   "outputs": [],
   "source": [
    "df.loc[:,'PL']=np.where(df['Side'].isin(['Buy']),df['Total Qty']*(df['Sold Price']-df['Avg Price']),0)*100"
   ]
  },
  {
   "cell_type": "code",
   "execution_count": null,
   "id": "bf827690-50ef-49ac-b7b7-ec8d2ac1ec49",
   "metadata": {},
   "outputs": [],
   "source": [
    "positive_mean=df.query('PL >0')['PL'].mean().round(2);negative_mean=df.query('PL <0')['PL'].mean().round(2);\n",
    "positive_mean,negative_mean"
   ]
  },
  {
   "cell_type": "code",
   "execution_count": null,
   "id": "f3e5f383-28d1-4614-888f-b77289aca8e0",
   "metadata": {},
   "outputs": [],
   "source": [
    "df=df.query('PL!=0.00 or `hold_time`!=0.00')"
   ]
  },
  {
   "cell_type": "code",
   "execution_count": null,
   "id": "6a307b1c-5067-4bcf-b095-2ddf20b763c8",
   "metadata": {},
   "outputs": [],
   "source": [
    "#mi=df['PL'].min();ma=df['PL'].max();av=df['PL'].mean()\n",
    "net=(df['PL'].sum().round(2))-2*df['PL'].count()*0.05\n",
    "net"
   ]
  },
  {
   "cell_type": "code",
   "execution_count": null,
   "id": "351fe7d2-b757-45d2-a3f2-1fa4b53e7ec5",
   "metadata": {},
   "outputs": [],
   "source": [
    "co='r' if net<0 else 'g'\n"
   ]
  },
  {
   "cell_type": "code",
   "execution_count": null,
   "id": "759bb81d-4424-42e1-b2ae-eaedc844d923",
   "metadata": {},
   "outputs": [],
   "source": [
    "profit=(df.query('PL>0')['PL'].sum().round(2))\n",
    "profit"
   ]
  },
  {
   "cell_type": "code",
   "execution_count": null,
   "id": "4080defa-9b6d-4565-b7c1-7c255fc8ceda",
   "metadata": {},
   "outputs": [],
   "source": [
    "loss=(df.query('PL<0')['PL'].sum().round(2))\n",
    "loss"
   ]
  },
  {
   "cell_type": "code",
   "execution_count": null,
   "id": "8a117386-0df0-4bd0-bce4-05aa94494748",
   "metadata": {},
   "outputs": [],
   "source": [
    "df['PL'].describe()"
   ]
  },
  {
   "cell_type": "code",
   "execution_count": null,
   "id": "e8841dbf-3200-4509-a409-285f08f16da1",
   "metadata": {},
   "outputs": [],
   "source": [
    "df.loc[:,'PN']=df['PL']>0\n"
   ]
  },
  {
   "cell_type": "code",
   "execution_count": null,
   "id": "a058ee4b-23d8-4bc8-a4e9-13102203e3e1",
   "metadata": {},
   "outputs": [],
   "source": [
    "df['PL%']=round(df['PL']/df['Avg Price'],2)\n",
    "df=df.reset_index(drop=True)\n",
    "df.head(20)"
   ]
  },
  {
   "cell_type": "code",
   "execution_count": null,
   "id": "cbff5c92-5cf6-4dce-829d-36128a1e4131",
   "metadata": {},
   "outputs": [],
   "source": [
    "df_summary=df[['Name','Side','Total Qty','Avg Price','Sold Price','PL','PL%','Filled Time',\n",
    "        'Sold Time','hold_time', 'PN']].copy()\n",
    "df_summary.loc[:,'Filled Time']=df['Filled Time'].apply(lambda x:x.strftime('%H:%M:%S'))\n",
    "df_summary.loc[:,'Sold Time']=df['Sold Time'].apply(lambda x:x.strftime('%H:%M:%S'))\n",
    "df_summary"
   ]
  },
  {
   "cell_type": "code",
   "execution_count": null,
   "id": "68ccb014-624c-478e-aa77-e9cdafb7c857",
   "metadata": {},
   "outputs": [],
   "source": [
    "df['PL%'].mean().round(2)"
   ]
  },
  {
   "cell_type": "code",
   "execution_count": null,
   "id": "ff16cfb6-20ed-4889-9339-afa04911ec1d",
   "metadata": {},
   "outputs": [],
   "source": [
    "temp_df=df_summary[['Name','PL','PL%','hold_time','PN']]\n",
    "temp_df=temp_df.set_index('Name')\n",
    "temp_df.describe().round(2)\n"
   ]
  },
  {
   "cell_type": "code",
   "execution_count": null,
   "id": "b487f060-dfdd-45c2-8dee-77ae2e310050",
   "metadata": {},
   "outputs": [],
   "source": [
    "p=len(df.query('PL>0'));l=len(df.query('PL<0'))\n",
    "printstr=f\"Profit no: {p}\\nLoss no  : {l}\\nTotal      : {p+l}\"\n",
    "\n",
    "#print(f\"Profit no: {p}\\nLoss no  : {l}\\nTotal    : {p+l}\")\n",
    "\n",
    "print(printstr)"
   ]
  },
  {
   "cell_type": "code",
   "execution_count": null,
   "id": "0a2e9aa6-ebe3-4719-ab7e-4919329add72",
   "metadata": {},
   "outputs": [],
   "source": [
    "\n",
    "# ax=df.plot(x='Name',y='PL',kind='bar',figsize=(12,8),rot=90,width=1.0,color=df.PN.map({True:'g',False:'r'}))\n",
    "# #ax.plot(raw_data['Close'],secondary_y=True)\n",
    "# ax.axhline(positive_mean,color='g',linestyle=':',label=positive_mean)\n",
    "# ax.axhline(negative_mean,color='r',linestyle=':',label=negative_mean)\n",
    "# for container in ax.containers:\n",
    "#     ax.bar_label(container)\n",
    "\n",
    "# for item in ax.get_xticklabels():\n",
    "#             item.set_rotation(90)\n",
    "#             item.set_fontsize(14)\n",
    "#             item.set_fontweight('bold')\n",
    "#             item.set_color('blue')\n",
    "\n",
    "# plt.legend()\n",
    "# #plt.text(5,10,'test')\n",
    "# plt.text(10,30,f\"Profit  no :  {p}\\nLoss   no :  {l}\",backgroundcolor='k',fontsize=16,color='white')\n",
    "# plt.title(\"PL\")\n",
    "\n",
    "# plt.show()"
   ]
  },
  {
   "cell_type": "code",
   "execution_count": null,
   "id": "0e632e6f-4bbe-4922-bb50-e56584a0f084",
   "metadata": {},
   "outputs": [],
   "source": [
    "def get_PL():\n",
    "    ax=df.plot(x='Name',y='PL',kind='bar',figsize=(15,10),rot=90,width=1.0,color=df.PN.map({True:'g',False:'r'}))\n",
    "    #ax.plot(raw_data['Close'],secondary_y=True)\n",
    "    ax.axhline(positive_mean,color='g',linestyle=':',label=positive_mean)\n",
    "    ax.axhline(negative_mean,color='r',linestyle=':',label=negative_mean)\n",
    "    for container in ax.containers:\n",
    "        ax.bar_label(container)\n",
    "\n",
    "    for item in ax.get_xticklabels():\n",
    "                item.set_rotation(90)\n",
    "                item.set_fontsize(14)\n",
    "                item.set_fontweight('bold')\n",
    "                item.set_color('blue')\n",
    "\n",
    "    plt.legend()\n",
    "    #plt.text(5,10,'test')\n",
    "    #plt.text(10,30,f\"Profit  no :  {p}\\nLoss   no :  {l}\",backgroundcolor='k',fontsize=16,color='white')\n",
    "    plt.text(10,30,printstr,backgroundcolor='k',fontsize=16,color='white')\n",
    "    plt.text(10,25,\"PL: \"+str(net),color=co,fontsize=20,backgroundcolor='white')\n",
    "    plt.title(\"PL\")\n",
    "\n",
    "    plt.show()"
   ]
  },
  {
   "cell_type": "code",
   "execution_count": null,
   "id": "36e85d7a-9b78-4954-8f25-6a6014dc4e86",
   "metadata": {},
   "outputs": [],
   "source": [
    "positive_mean_pct=df.query('`PL%` >0')['PL%'].mean().round(2);negative_mean_pct=df.query('`PL%` <0')['PL%'].mean().round(2);hold_time_avg=df['hold_time'].mean().round(2)\n",
    "positive_mean_pct,negative_mean_pct,hold_time_avg"
   ]
  },
  {
   "cell_type": "code",
   "execution_count": null,
   "id": "a7d3fcf3-793c-42d3-9db2-5181376b35cf",
   "metadata": {},
   "outputs": [],
   "source": [
    "def get_PL_pct():\n",
    "    ax=df.plot(x='Name',y='PL%',kind='bar',width=1.0,figsize=(15,10),rot=90,color=df.PN.map({True:'g',False:'r'}))\n",
    "\n",
    "    ax.axhline(positive_mean_pct,color='g',linestyle='--',label=positive_mean_pct)\n",
    "    ax.axhline(negative_mean_pct,color='r',linestyle='--',label=negative_mean_pct)\n",
    "    for container in ax.containers:\n",
    "        ax.bar_label(container)\n",
    "\n",
    "    for item in ax.get_xticklabels():\n",
    "                item.set_rotation(90)\n",
    "                item.set_fontsize(14)\n",
    "                item.set_fontweight('bold')\n",
    "                item.set_color('blue')\n",
    "\n",
    "    plt.legend()\n",
    "    plt.title('PL%')\n",
    "\n",
    "    plt.show()"
   ]
  },
  {
   "cell_type": "code",
   "execution_count": null,
   "id": "9bc37c6f-212d-4886-9058-0a26cd14a813",
   "metadata": {},
   "outputs": [],
   "source": [
    "\n",
    "def get_hold_time():\n",
    "    ax=df.plot(x='Name',y='hold_time',kind='bar',figsize=(12,8),rot=90,width=0.9)#,color=df.PN.map({True:'g',False:'r'}))\n",
    "\n",
    "    ax.axhline(hold_time_avg,color='r',linestyle='--',label=str(hold_time_avg)+\" m\")\n",
    "    #ax.axhline(negative_mean_pct,color='k',linestyle='--',label=negative_mean_pct)\n",
    "    for container in ax.containers:\n",
    "        ax.bar_label(container)\n",
    "\n",
    "    for item in ax.get_xticklabels():\n",
    "                item.set_rotation(90)\n",
    "                item.set_fontsize(14)\n",
    "                item.set_fontweight('bold')\n",
    "                item.set_color('blue')\n",
    "\n",
    "    plt.legend()\n",
    "    plt.title('HOLD TIME')\n",
    "\n",
    "    plt.show()"
   ]
  },
  {
   "cell_type": "code",
   "execution_count": null,
   "id": "04e8ae35-6c7d-41f0-99d6-d4f07111bbe0",
   "metadata": {},
   "outputs": [],
   "source": [
    "get_PL();get_PL_pct();get_hold_time()"
   ]
  },
  {
   "cell_type": "code",
   "execution_count": null,
   "id": "f45850af-5b2e-45f4-98a1-09e844798c89",
   "metadata": {},
   "outputs": [],
   "source": [
    "\n",
    "# ax=df.plot(x='Name',y='PL%',kind='bar',width=1.0,figsize=(12,8),rot=90,color=df.PN.map({True:'g',False:'r'}))\n",
    "\n",
    "# ax.axhline(positive_mean_pct,color='g',linestyle='--',label=positive_mean_pct)\n",
    "# ax.axhline(negative_mean_pct,color='r',linestyle='--',label=negative_mean_pct)\n",
    "# for container in ax.containers:\n",
    "#     ax.bar_label(container)\n",
    "\n",
    "# for item in ax.get_xticklabels():\n",
    "#             item.set_rotation(90)\n",
    "#             item.set_fontsize(14)\n",
    "#             item.set_fontweight('bold')\n",
    "#             item.set_color('blue')\n",
    "\n",
    "# plt.legend()\n",
    "# plt.title('PL%')\n",
    "\n",
    "# plt.show()"
   ]
  },
  {
   "cell_type": "code",
   "execution_count": null,
   "id": "b2487edd-2624-4fbd-864c-c98aa90fd38c",
   "metadata": {},
   "outputs": [],
   "source": [
    "# all plots together\n",
    "fig, axs = plt.subplots(3, 1, figsize=(15,10), sharex=True)\n",
    "\n",
    "axs[0].bar(df['Name'],df['PL'],width=1.0,color=df.PN.map({True:'g',False:'r'}))\n",
    "axs[0].set_ylabel('PL ($) ')\n",
    "axs[0].axhline(positive_mean,color='g',linestyle=':',label=str(positive_mean)+\" $\")\n",
    "axs[0].axhline(negative_mean,color='r',linestyle=':',label=str(negative_mean)+\" $\")\n",
    "#axs[0].text(10,30,f\"Profit  no :  {p}\\nLoss   no :  {l}\",backgroundcolor='k',fontsize=16,color='white')\n",
    "#axs[0].text(5,30,printstr,fontsize=16,color='white')\n",
    "axs[0].text(10,30,printstr,backgroundcolor='k',fontsize=12,color='white')\n",
    "axs[0].text(12,30,\"PL: \"+str(net),color=co,fontsize=12,backgroundcolor='white')\n",
    "axs[0].legend()\n",
    "\n",
    "axs[2].bar(df['Name'],df['hold_time'],width=1.0)\n",
    "axs[2].set_ylabel('HOLD TIME (mins)')\n",
    "axs[2].axhline(hold_time_avg,color='r',linestyle='--',label=str(hold_time_avg)+\" m\")\n",
    "axs[2].legend()\n",
    "\n",
    "axs[1].bar(df['Name'],df['PL%'],width=1.0,color=df.PN.map({True:'g',False:'r'}))\n",
    "axs[1].axhline(positive_mean_pct,color='g',linestyle='--',label=str(positive_mean_pct)+\" %\")\n",
    "axs[1].axhline(negative_mean_pct,color='r',linestyle='--',label=str(negative_mean_pct)+\" %\")\n",
    "axs[1].set_ylabel('PL (%) ')\n",
    "axs[1].legend()\n",
    "\n",
    "for ax in axs:\n",
    "    for container in ax.containers:\n",
    "        ax.bar_label(container)\n",
    "\n",
    "fig.suptitle(f'ALL PLOT {today}')\n",
    "plt.xticks(rotation=90,color='blue',fontweight='bold',fontsize=14)\n",
    "plt.tight_layout()\n",
    "plt.savefig('all.pdf')\n",
    "plt.show()"
   ]
  },
  {
   "cell_type": "code",
   "execution_count": null,
   "id": "2a7351f6-762c-4abf-a8b7-18339e3bff05",
   "metadata": {},
   "outputs": [],
   "source": [
    "# # df_sp=pd.read_csv('/home/thakur/test/snp500/SPY.csv')\n",
    "# # df_sp.head()\n",
    "# import yfinance as yf\n",
    "\n",
    "# raw_data = yf.download (tickers = \"SPY\", period='1d', interval = \"1m\")"
   ]
  },
  {
   "cell_type": "code",
   "execution_count": null,
   "id": "d8e849c9-9f55-4fef-bbdf-dd6e7076be51",
   "metadata": {},
   "outputs": [],
   "source": [
    "df_time=df_summary.copy()"
   ]
  },
  {
   "cell_type": "code",
   "execution_count": null,
   "id": "088d54bd-22fd-4349-b4b5-2844eb3cafcb",
   "metadata": {},
   "outputs": [],
   "source": [
    "df_time"
   ]
  },
  {
   "cell_type": "code",
   "execution_count": null,
   "id": "8befe591-b629-4734-a762-532375d67f85",
   "metadata": {},
   "outputs": [],
   "source": [
    "df_time['cumsum']=df_time['PL'].cumsum()"
   ]
  },
  {
   "cell_type": "code",
   "execution_count": null,
   "id": "10b118ae-3b99-4cde-b46a-83f1dcc9da0d",
   "metadata": {},
   "outputs": [],
   "source": [
    "ax=df_time.plot(x='Filled Time',y='cumsum',rot=90,figsize=(20,10))#,xticks=idx)\n",
    "#ax.set_xticklabels(df_time['Filled Time'])\n",
    "#plt.xticks(rotation=90)\n",
    "plt.title(f'Cumsum {today}')\n",
    "plt.tight_layout()\n",
    "plt.show()"
   ]
  },
  {
   "cell_type": "code",
   "execution_count": null,
   "id": "6e797327-00aa-417b-92d9-61df32b5f8db",
   "metadata": {},
   "outputs": [],
   "source": [
    "kwargs={'color':'r', 'fontsize':14}\n",
    "kwargs1={'color':'b', 'linestyle':'-','lw':2}\n",
    "ax=df_time.plot(y='cumsum',kind='line',rot=90,marker='o',figsize=(16,8),**kwargs1).set_xticks(df_time.index,df_time['Filled Time'],**kwargs)#color='r',fontsize=14)#,xticks=idx)\n",
    "#ax.set_xticklabels(df_time['Filled Time'])\n",
    "#plt.xticks(rotation=90)\n",
    "\n",
    "plt.title(f'Cumsum {today}')\n",
    "plt.ylabel('PL')\n",
    "plt.xlabel('Time')\n",
    "plt.tight_layout()\n",
    "plt.savefig(\"cumsum.pdf\")\n",
    "plt.show()"
   ]
  },
  {
   "cell_type": "code",
   "execution_count": null,
   "id": "69bd51bf-db7a-4662-8d84-4c3775bd07de",
   "metadata": {},
   "outputs": [],
   "source": [
    "# idx=df_time['Filled Time'].astype('datetime64[ns]').apply(lambda x:x.strftime(\"%H-%M\"))\n",
    "# idx\n",
    "# x=[1,2,3]\n",
    "# y=[3,4,5]\n",
    "# dict(x,y)"
   ]
  },
  {
   "cell_type": "code",
   "execution_count": null,
   "id": "0f9104f9-967e-4ea6-9521-1fbb0d3a93df",
   "metadata": {},
   "outputs": [],
   "source": [
    "# idx=pd.to_datetime(df_time['Filled Time']).strftime('%HH:%MM')#.dt.time#.astype('datetime64[ns]')\n",
    "# idx"
   ]
  },
  {
   "cell_type": "code",
   "execution_count": null,
   "id": "61a5217c-aa5a-49f4-b20f-7838f2d66da7",
   "metadata": {},
   "outputs": [],
   "source": [
    "# idx.dtypes"
   ]
  },
  {
   "cell_type": "code",
   "execution_count": null,
   "id": "9c99c805-37f5-4551-b9f0-92a063247dd3",
   "metadata": {},
   "outputs": [],
   "source": [
    "df_time"
   ]
  },
  {
   "cell_type": "code",
   "execution_count": null,
   "id": "caee53bf-2658-4fe5-a69f-da7f80c2180e",
   "metadata": {},
   "outputs": [],
   "source": [
    "# df_time['cumsum'].plot()"
   ]
  },
  {
   "cell_type": "code",
   "execution_count": null,
   "id": "df739d49-22ad-4c16-9ac9-57e44f0c668e",
   "metadata": {},
   "outputs": [],
   "source": [
    "# df_time['Filled Time']=pd.to_datetime(df['Filled Time'])\n",
    "# df_time['Sold Time']=pd.to_datetime(df['Sold Time'])\n",
    "investment=100*df['Avg Price'].sum()\n",
    "investment,net,net*100/investment\n"
   ]
  },
  {
   "cell_type": "code",
   "execution_count": null,
   "id": "ba4f9c37-0c60-4674-8d04-303aad8bdd90",
   "metadata": {},
   "outputs": [],
   "source": [
    "df['PL%'].mean()"
   ]
  },
  {
   "cell_type": "code",
   "execution_count": null,
   "id": "79857a8f-c913-4b17-9f40-6e5fbe9b1bed",
   "metadata": {},
   "outputs": [],
   "source": [
    "df_time.dtypes"
   ]
  },
  {
   "cell_type": "code",
   "execution_count": null,
   "id": "c13e4a1a-7ed4-4e0b-a978-37c6c63afd76",
   "metadata": {},
   "outputs": [],
   "source": [
    "#df_time.plot(x='Filled Time',y='PL',rot=90,kind='scatter')\n",
    "df_time.set_index('Filled Time',inplace=True)\n",
    "df_time.loc[:,'scumsum']=df_time['cumsum']>0\n",
    "df_time=df_time[::-1]\n",
    "#df_time['Avg Price'].plot()\n"
   ]
  },
  {
   "cell_type": "code",
   "execution_count": null,
   "id": "6ffb4d4b-0899-4135-ab6c-e64636e63251",
   "metadata": {},
   "outputs": [],
   "source": [
    "df_time"
   ]
  },
  {
   "cell_type": "code",
   "execution_count": null,
   "id": "4cf0a9b7-649f-4530-a978-8ddfdb8b45b6",
   "metadata": {},
   "outputs": [],
   "source": [
    "#df_time.loc[:,'scumsum']=df_time['cumsum']>0"
   ]
  },
  {
   "cell_type": "code",
   "execution_count": null,
   "id": "deeaf668-ad76-457f-822e-e17b3b1bdd1f",
   "metadata": {},
   "outputs": [],
   "source": [
    "#df_time=df_time[::-1]"
   ]
  },
  {
   "cell_type": "code",
   "execution_count": null,
   "id": "4f735ac9-ccf3-4079-98d3-8efab1ab25de",
   "metadata": {},
   "outputs": [],
   "source": [
    "#raw_data.plot(y='Adj Close')\n",
    "\n",
    "ax1=df_time[::-1][['PL','cumsum']].plot(kind='bar',title=f\"Cumsum {today}\",grid=True,figsize=(20,10))#,color=df_time['scumsum'].map({True:'g',False:'r'}))\n",
    "for container in ax1.containers:\n",
    "        ax1.bar_label(container)\n",
    "ax1.set_xlabel('PL')\n",
    "ax1.set_ylabel('Time')\n",
    "plt.savefig('cumsumplbar.pdf')\n",
    "plt.show()"
   ]
  },
  {
   "cell_type": "code",
   "execution_count": null,
   "id": "22e1b3cd-25ab-4be6-ad3e-325ec44c96d1",
   "metadata": {},
   "outputs": [],
   "source": [
    "#raw_data.plot(y='Adj Close')\n",
    "#df_time=df_time[::-1]\n",
    "ax1=df_time['cumsum'].plot(kind='barh',title=f\"Cumsum {today}\",grid=True,figsize=(20,10),color=df_time['scumsum'].map({True:'g',False:'r'}))\n",
    "for container in ax1.containers:\n",
    "        ax1.bar_label(container)\n",
    "ax1.set_xlabel('PL')\n",
    "ax1.set_ylabel('Time')\n",
    "plt.savefig('cumsumbar.pdf')\n",
    "plt.show()"
   ]
  },
  {
   "cell_type": "code",
   "execution_count": null,
   "id": "e9c99f55-dcdc-4cec-87c2-cf649ee795e0",
   "metadata": {},
   "outputs": [],
   "source": [
    "df_time['cumsum'].plot(kind='barh')\n",
    "#raw_data.head()\n",
    "# ax.plot(raw_data['Close'])\n",
    "# plt.show()\n",
    "# df_time['Avg Price'].plot(color='r')\n",
    "# df_time['Sold Time'].plot(color='b')"
   ]
  },
  {
   "cell_type": "code",
   "execution_count": null,
   "id": "370e5fef-6b2a-4414-b9b2-988e977304a3",
   "metadata": {},
   "outputs": [],
   "source": [
    "# #df.plot(x='Name',y='PL',kind='bar')\n",
    "# x=df['Name'];y=df['PL']\n",
    "# df.plot(x,y)\n",
    "#g=sns.barplot(data=df,x=x,y=y)\n",
    "# for item in g.get_xticklabels():\n",
    "#     item.set_rotation(90)\n",
    "#     item.set_fontsize(10)\n",
    "#     item.set_fontweight('bold')\n",
    "# for i in g.containers:\n",
    "#     g.bar_label(i,rotation=90,fontsize=10,fontweight='bold',color='b',padding=5)\n"
   ]
  },
  {
   "cell_type": "code",
   "execution_count": null,
   "id": "4c6d60e3-4efa-4b1d-94e3-d5f721822da7",
   "metadata": {},
   "outputs": [],
   "source": [
    "def compare_bars(temp_df,rows=30,title=\"\"):\n",
    "    choose=['TICKER','CP','VOL','%CHG','%ATR']\n",
    "    plot_df=temp_df[choose].sort_values(by='CP',ascending=True).reset_index(drop=True,).head(rows)\n",
    "    columns=plot_df.columns.to_list()\n",
    "    x=columns[0];y=columns[1:]\n",
    "    today=datetime.now().strftime(\"%m/%d/%Y\")\n",
    "    f, axs = plt.subplots(2, 2, figsize=(16, 10), gridspec_kw=dict(width_ratios=[4, 4]))\n",
    "    cols=axs.flat\n",
    "    for i,j in enumerate(y):\n",
    "        g=sns.barplot(data=plot_df,x=x,y=y[i],ax=cols[i])\n",
    "        for item in g.get_xticklabels():\n",
    "            item.set_rotation(90)\n",
    "            item.set_fontsize(10)\n",
    "            item.set_fontweight('bold')\n",
    "        for i in g.containers:\n",
    "            g.bar_label(i,rotation=90,fontsize=10,fontweight='bold',color='b',padding=5)\n",
    "    f.suptitle(f\"{title.upper()} {today}\")   \n",
    "    f.tight_layout()\n",
    "    #f.savefig(title+'.pdf')\n",
    "    #f.show()"
   ]
  },
  {
   "cell_type": "code",
   "execution_count": null,
   "id": "86c2db04-4a70-4bb0-ab98-73abeb650e9f",
   "metadata": {},
   "outputs": [],
   "source": []
  }
 ],
 "metadata": {
  "kernelspec": {
   "display_name": "Python 3 (ipykernel)",
   "language": "python",
   "name": "python3"
  },
  "language_info": {
   "codemirror_mode": {
    "name": "ipython",
    "version": 3
   },
   "file_extension": ".py",
   "mimetype": "text/x-python",
   "name": "python",
   "nbconvert_exporter": "python",
   "pygments_lexer": "ipython3",
   "version": "3.10.6"
  }
 },
 "nbformat": 4,
 "nbformat_minor": 5
}
