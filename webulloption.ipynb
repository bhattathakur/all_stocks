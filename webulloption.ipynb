{
 "cells": [
  {
   "cell_type": "code",
   "execution_count": null,
   "id": "e34657ee-41a7-4d33-84ac-d7dfb4fbfbc1",
   "metadata": {},
   "outputs": [],
   "source": [
    "#webull option data"
   ]
  },
  {
   "cell_type": "code",
   "execution_count": null,
   "id": "3a2a72e7-ee34-4316-a605-313a99325b57",
   "metadata": {},
   "outputs": [],
   "source": [
    "import pandas as pd\n",
    "import numpy as np\n",
    "import seaborn as sns\n",
    "import matplotlib.pyplot as plt\n",
    "from datetime import datetime\n",
    "sns.set_theme()"
   ]
  },
  {
   "cell_type": "code",
   "execution_count": null,
   "id": "20d24a68-1367-45a1-9c9c-ed032c4ea60c",
   "metadata": {},
   "outputs": [],
   "source": [
    "today=datetime.today().strftime(\"%m/%d/%y\")\n",
    "today"
   ]
  },
  {
   "cell_type": "code",
   "execution_count": null,
   "id": "9e81bf69-5296-41d3-b386-4187c87b16c2",
   "metadata": {},
   "outputs": [],
   "source": [
    "f='aug31.csv'\n",
    "file=\"/home/thakur/all_stocks/{}\".format(f)\n",
    "df=pd.read_csv(file)[::-1].reset_index(drop=True)"
   ]
  },
  {
   "cell_type": "code",
   "execution_count": null,
   "id": "a6e3052c-713b-4f15-896b-a085bb6dcd23",
   "metadata": {},
   "outputs": [],
   "source": [
    "def get_label(x,y):\n",
    "    s=x.split();s1=y.split()\n",
    "    \n",
    "    return s[0]+\"-\"+s[4]+\"-\"+s[-1].split('.')[0]+\"-\"+s1[1]"
   ]
  },
  {
   "cell_type": "code",
   "execution_count": null,
   "id": "430b2ccd-d4d1-44da-a551-8c686506a439",
   "metadata": {},
   "outputs": [],
   "source": [
    "df"
   ]
  },
  {
   "cell_type": "code",
   "execution_count": null,
   "id": "43a57e2e-9488-4cb1-9ff3-05feb870b5c8",
   "metadata": {},
   "outputs": [],
   "source": [
    "#some cleaning \n",
    "def clean_name(x):\n",
    "    '''\n",
    "    This function returns the ticker-price-call/put from Name of the dataframe df\n",
    "    '''\n",
    "    parts=x.split()\n",
    "    sel=f'{parts[0]}-{parts[-1][1:-3]}-{parts[-2]}'\n",
    "    return sel"
   ]
  },
  {
   "cell_type": "code",
   "execution_count": null,
   "id": "7fd717f6-4774-4818-b546-733c133d7d8a",
   "metadata": {},
   "outputs": [],
   "source": [
    "def clean_time(x):\n",
    "    '''\n",
    "    cleans the Placed/Filled time to get only 00:00:00\n",
    "    '''\n",
    "    return x.split()[1]"
   ]
  },
  {
   "cell_type": "code",
   "execution_count": null,
   "id": "25be9758-3e7e-444e-a4bc-617d842dab0b",
   "metadata": {},
   "outputs": [],
   "source": [
    "df_copy=df.copy()\n",
    "df_copy['Name']=df_copy['Name'].apply(lambda x:clean_name(x))\n",
    "df_copy['Placed Time']=df_copy['Placed Time'].apply(lambda x:clean_time(x))\n",
    "df_copy['Filled Time']=df_copy['Filled Time'].apply(lambda x:clean_time(x))"
   ]
  },
  {
   "cell_type": "code",
   "execution_count": null,
   "id": "414f97b4-2629-4495-96fa-3e625fa7a793",
   "metadata": {},
   "outputs": [],
   "source": [
    "df_copy=df_copy.drop(columns=['Status','Filled','Price','Time-in-Force'])\n",
    "df_copy['Total Price']=df_copy['Total Qty']*df_copy['Avg Price']\n",
    "df_copy"
   ]
  },
  {
   "cell_type": "code",
   "execution_count": null,
   "id": "d9116a46-4206-4829-ac40-7a9e5cf378bc",
   "metadata": {},
   "outputs": [],
   "source": [
    "#unique transactions\n",
    "t_list=list(df_copy.Symbol.unique())\n",
    "t_list"
   ]
  },
  {
   "cell_type": "code",
   "execution_count": null,
   "id": "2a5acfaa-475d-4d36-8f9d-4fc5874f4f32",
   "metadata": {},
   "outputs": [],
   "source": [
    "df_copy.loc[df_copy.Symbol==t_list[0]]"
   ]
  },
  {
   "cell_type": "code",
   "execution_count": null,
   "id": "4124e038-52ae-4542-8f1b-8b2ff68c4bd8",
   "metadata": {},
   "outputs": [],
   "source": [
    "f_str=22*'=='\n",
    "main_list=[]\n",
    "grouped=df_copy.groupby('Symbol')\n",
    "for t in t_list:\n",
    "    print(f'\\n{f_str} {t} {f_str}\\n')\n",
    "    group=grouped.get_group(t).reset_index(drop=True)\n",
    "    name=group['Name'].values[0]\n",
    "    buy=group[group.Side=='Buy']['Total Price'].sum()\n",
    "    sell=group[group.Side=='Sell']['Total Price'].sum()\n",
    "    pl=sell-buy\n",
    "    print(f'{group.to_string()}\\n')\n",
    "    # print(f'buy : {buy*100}')\n",
    "    # print(f'sell: {sell*100}')\n",
    "    # print(f'pl  : {pl*100:0.2f}')\n",
    "    \n",
    "    f_print=f'''\n",
    "    SUMMARY:\n",
    "    {name}:   \n",
    "   \n",
    "            buy : {buy*100:0.2f}\n",
    "            sell: {sell*100:0.2f}\n",
    "            pl  : {pl*100:0.2f}\n",
    "    '''\n",
    "    print(f_print)\n",
    "    main_list.append([name,t,buy*100,sell*100,pl*100])"
   ]
  },
  {
   "cell_type": "code",
   "execution_count": null,
   "id": "3c8c4d03-929e-4110-b18f-c31e7d4feb90",
   "metadata": {},
   "outputs": [],
   "source": [
    "columns=['Name','Symbol','CP','SP','PL']\n",
    "sum_df=pd.DataFrame(main_list,columns=columns)\n",
    "#sum_df['CUMSUM']=sum_df['PL'].cumsum()\n",
    "sum_df"
   ]
  },
  {
   "cell_type": "code",
   "execution_count": null,
   "id": "b53b3be6-1d10-43b3-abbf-0445b7bcf9f2",
   "metadata": {},
   "outputs": [],
   "source": [
    "sum_df.insert(1,'Ticker',sum_df['Name'].apply(lambda x:x.split('-')[0]))\n",
    "sum_df.insert(2,'Kind',sum_df['Name'].apply(lambda x:x.split('-')[2]))"
   ]
  },
  {
   "cell_type": "code",
   "execution_count": null,
   "id": "f82fccfc-a8f5-430f-a1ec-f662cf1b48b8",
   "metadata": {},
   "outputs": [],
   "source": [
    "sum_df"
   ]
  },
  {
   "cell_type": "code",
   "execution_count": null,
   "id": "c16c8c5f-4431-4433-8092-de02d916a698",
   "metadata": {},
   "outputs": [],
   "source": [
    "cp_list=[]\n",
    "for i in sum_df.Ticker.unique():\n",
    "    temp_df=sum_df[sum_df.Ticker==i]\n",
    "    #print(temp_df)\n",
    "    count=temp_df.shape[0]\n",
    "    total_cp=temp_df.CP.sum().round(2)\n",
    "    total_pl=temp_df.PL.sum().round(2)\n",
    "    cp_list.append([i,count,total_cp,total_pl])"
   ]
  },
  {
   "cell_type": "code",
   "execution_count": null,
   "id": "a3712a3a-ccca-4469-a3cd-2e1d6fe56044",
   "metadata": {},
   "outputs": [],
   "source": [
    "tra_sum=pd.DataFrame(cp_list,columns=['TICKER','COUNT','CP','PL'])\n",
    "tra_sum['CP%']=round(tra_sum['CP']*100/tra_sum.CP.sum(),2)\n",
    "tra_sum"
   ]
  },
  {
   "cell_type": "code",
   "execution_count": null,
   "id": "2bc1351e-f6dd-4d6d-93e7-33925da01c27",
   "metadata": {},
   "outputs": [],
   "source": [
    "fig, ax = plt.subplots(figsize=(10,10))\n",
    "ax.pie(tra_sum.COUNT, labels=tra_sum.TICKER,autopct='%1.1f%%')\n",
    "plt.title('COUNT')\n",
    "plt.show()"
   ]
  },
  {
   "cell_type": "code",
   "execution_count": null,
   "id": "e15b8ede-4a7e-4620-8a6b-2e5dd0701920",
   "metadata": {},
   "outputs": [],
   "source": [
    "fig, ax = plt.subplots(figsize=(10,10))\n",
    "tra_sum=tra_sum.set_index('TICKER')\n",
    "ax=tra_sum['PL'].plot(kind='bar',color=(tra_sum.PL>0).map({True:'g',False:'r'}))\n",
    "ax.bar_label(ax.containers[0], label_type='edge',color='blue')\n",
    "plt.show()"
   ]
  },
  {
   "cell_type": "code",
   "execution_count": null,
   "id": "75370299-3bd6-4333-ac3b-1e2796e6573a",
   "metadata": {},
   "outputs": [],
   "source": [
    "tra_sum"
   ]
  },
  {
   "cell_type": "code",
   "execution_count": null,
   "id": "edaddbc7-dcdf-4179-988b-cf7a15d6ab80",
   "metadata": {},
   "outputs": [],
   "source": [
    "ax=tra_sum.plot(kind='bar',subplots=True,figsize=(15,10),sharex=False,layout=(2,2))\n",
    "plt.tight_layout()\n",
    "#for c in range(len(ax)):ax[c].bar_label(ax[c].containers[0], label_type='edge',color='blue')\n",
    "ax[0,1].bar_label(ax[0,1].containers[0],label_type='edge',color='blue')\n",
    "plt.show()\n"
   ]
  },
  {
   "cell_type": "code",
   "execution_count": null,
   "id": "2ede6bbd-3e71-46a8-b4fc-9e1a76dc016f",
   "metadata": {},
   "outputs": [],
   "source": [
    "for i in range(2):\n",
    "    for j in range(2):\n",
    "        print(f'{i}-{j}')"
   ]
  },
  {
   "cell_type": "code",
   "execution_count": null,
   "id": "2231862b-37c4-4f50-941e-0057d8533f46",
   "metadata": {},
   "outputs": [],
   "source": [
    "len(ax)"
   ]
  },
  {
   "cell_type": "code",
   "execution_count": null,
   "id": "4e117f73-3e02-44b5-b32c-e2cd1557145f",
   "metadata": {},
   "outputs": [],
   "source": [
    "fig, ax = plt.subplots(figsize=(10,10))\n",
    "ax.pie(tra_sum['CP%'], labels=tra_sum.TICKER,autopct='%1.1f%%')\n",
    "plt.title('INVESTMENT')\n",
    "plt.show()"
   ]
  },
  {
   "cell_type": "code",
   "execution_count": null,
   "id": "c9703869-3607-4073-ae6c-01b76c0be4f8",
   "metadata": {},
   "outputs": [],
   "source": [
    "cum_sum_df=sum_df.copy()\n",
    "cum_sum_df['CUMSUM']=cum_sum_df.PL.cumsum()\n",
    "cum_sum_df"
   ]
  },
  {
   "cell_type": "code",
   "execution_count": null,
   "id": "81a62186-ee7d-4774-bed9-b51a359d66c8",
   "metadata": {},
   "outputs": [],
   "source": [
    "#ticker transaction\n",
    "tra=cum_sum_df.Ticker.value_counts().to_frame()#.reset_index()\n",
    "tra.columns=['COUNTS']\n",
    "tra"
   ]
  },
  {
   "cell_type": "code",
   "execution_count": null,
   "id": "e526426e-ab58-4e3c-8129-df1dd307d88f",
   "metadata": {},
   "outputs": [],
   "source": [
    "tra.plot(kind='bar',ylabel='COUNTS')"
   ]
  },
  {
   "cell_type": "code",
   "execution_count": null,
   "id": "98b01105-9678-494a-8663-a724cb656a4c",
   "metadata": {},
   "outputs": [],
   "source": [
    "#ticker transaction\n",
    "tra=cum_sum_df.Kind.value_counts().to_frame()#.reset_index()\n",
    "tra.columns=['COUNTS']\n",
    "tra"
   ]
  },
  {
   "cell_type": "code",
   "execution_count": null,
   "id": "dab5f46b-e906-493c-835f-51f790c8450d",
   "metadata": {},
   "outputs": [],
   "source": [
    "tra.plot(kind='bar',ylabel='COUNTS')"
   ]
  },
  {
   "cell_type": "code",
   "execution_count": null,
   "id": "84a9d305-cb97-41a0-b420-19acfb96487c",
   "metadata": {},
   "outputs": [],
   "source": [
    "plt.rcParams['font.size'] = 15\n",
    "net=round(cum_sum_df.PL.sum(),2)\n",
    "ax=cum_sum_df.plot(kind='bar',x='Name',y='PL',width=1.,figsize=(16,10),color=(cum_sum_df.PL>0).map({True:'g',False:'r'}))\n",
    "plt.title(f'Net PL: {net}',color='r' if net<0 else 'b',fontsize=15)\n",
    "ax.bar_label(ax.containers[0], label_type='edge',color='blue')\n",
    "ax1=ax.plot(cum_sum_df['CUMSUM'],marker='o')\n",
    "plt.tight_layout()\n",
    "xval=list(ax1[0].get_data()[0])\n",
    "yval=list(ax1[0].get_data()[1])\n",
    "yval=[round(i,2) for i in yval]\n",
    "for (x,y) in zip(xval,yval):\n",
    "    c='r' if y<0 else 'g'\n",
    "    #print(c)\n",
    "    plt.text(x,y,str(y),color=c,fontfamily='serif',rotation=30)\n",
    "plt.show()"
   ]
  },
  {
   "cell_type": "code",
   "execution_count": null,
   "id": "9c9a4762-3ec0-4a29-9cb0-64d0d62dbbfc",
   "metadata": {},
   "outputs": [],
   "source": [
    "tick_grouped=sum_df.groupby('Ticker')\n",
    "for tick in list(sum_df.Ticker.unique()):\n",
    "    group=tick_grouped.get_group(tick).reset_index(drop=True)\n",
    "    #group.drop(columns=['CUMSUM'],inplace=True)\n",
    "    #print(group)\n",
    "    group['CUMSUM']=group['PL'].cumsum()\n",
    "    #print(group)\n",
    "    # get_new_plot(group)\n",
    "    net=round(group.PL.sum(),2)\n",
    "    ax=group.plot(kind='bar',x='Name',y='PL',width=1.0,figsize=(12,8),color=(group.PL>0).map({True:'g',False:'r'}))\n",
    "    plt.title(f'{tick} [Net PL: {net}]',color='r' if net<0 else 'g',fontsize=15)\n",
    "    ax.bar_label(ax.containers[0], label_type='edge',color='blue')\n",
    "    ax1=ax.plot(group['CUMSUM'],marker='o')\n",
    "    #ax1.bar_label(ax1.containers[1], label_type='edge')\n",
    "    xval=list(ax1[0].get_data()[0])\n",
    "    yval=list(ax1[0].get_data()[1])\n",
    "    yval=[round(i,2) for i in yval]\n",
    "    for (x,y) in zip(xval,yval):\n",
    "        c='r' if y<0 else 'g'\n",
    "        #print(c)\n",
    "        plt.text(x,y,str(y),color=c,fontfamily='serif',rotation=0)\n",
    "    plt.tight_layout()\n",
    "    plt.show()\n"
   ]
  },
  {
   "cell_type": "code",
   "execution_count": null,
   "id": "152cdbb3-6a73-4893-9505-96e8d6210a50",
   "metadata": {},
   "outputs": [],
   "source": [
    "tick_grouped=sum_df.groupby('Kind')\n",
    "for tick in list(sum_df.Kind.unique()):\n",
    "    group=tick_grouped.get_group(tick).reset_index(drop=True)\n",
    "    #group.drop(columns=['CUMSUM'],inplace=True)\n",
    "    #print(group)\n",
    "    group['CUMSUM']=group['PL'].cumsum()\n",
    "    #print(group)\n",
    "    # get_new_plot(group)\n",
    "    net=round(group.PL.sum(),2)\n",
    "    ax=group.plot(kind='bar',x='Name',y='PL',width=1.0,figsize=(12,8),color=(group.PL>0).map({True:'g',False:'r'}))\n",
    "    plt.title(f'{tick} [Net PL: {net}]',color='r' if net<0 else 'g',fontsize=15)\n",
    "    ax.bar_label(ax.containers[0], label_type='edge',color='blue')\n",
    "    ax1=ax.plot(group['CUMSUM'],marker='o')\n",
    "    #ax1.bar_label(ax1.containers[1], label_type='edge')\n",
    "    xval=list(ax1[0].get_data()[0])\n",
    "    yval=list(ax1[0].get_data()[1])\n",
    "    yval=[round(i,2) for i in yval]\n",
    "    for (x,y) in zip(xval,yval):\n",
    "        c='r' if y<0 else 'g'\n",
    "        #print(c)\n",
    "        plt.text(x,y,str(y),color=c,fontfamily='serif',rotation=0)\n",
    "    plt.tight_layout()\n",
    "    plt.show()\n"
   ]
  },
  {
   "cell_type": "markdown",
   "id": "8a5c6d09-5916-4b6d-815e-a2ec853005f1",
   "metadata": {},
   "source": [
    "# STOP HERE"
   ]
  },
  {
   "cell_type": "code",
   "execution_count": null,
   "id": "e8a45dbb-2642-4596-84bb-32397ddaa529",
   "metadata": {},
   "outputs": [],
   "source": [
    "def get_new_plot(sum_df):\n",
    "    plt.rcParams['font.size'] = 15\n",
    "    net=round(sum_df.PL.sum(),2)\n",
    "    ax=sum_df.plot(kind='bar',x='Name',y='PL',figsize=(16,10),color=(sum_df.PL>0).map({True:'g',False:'r'}))\n",
    "    plt.title(f'Net PL: {net}',color='r' if net<0 else 'b',fontsize=15)\n",
    "    ax.bar_label(ax.containers[0], label_type='edge')\n",
    "    ax1=ax.plot(cum_sum,marker='o')\n",
    "    plt.tight_layout()\n",
    "    xval=list(ax1[0].get_data()[0])\n",
    "    yval=list(ax1[0].get_data()[1])\n",
    "    yval=[round(i,2) for i in yval]\n",
    "    for (x,y) in zip(xval,yval):\n",
    "        c='r' if y<0 else 'g'\n",
    "        plt.text(x,y,str(y),color=c,fontfamily='serif',rotation=30)\n",
    "    plt.show()"
   ]
  },
  {
   "cell_type": "code",
   "execution_count": null,
   "id": "71e0c6d1-1676-44e5-989c-002a4883e5b4",
   "metadata": {},
   "outputs": [],
   "source": [
    "sum_df.head()"
   ]
  },
  {
   "cell_type": "code",
   "execution_count": null,
   "id": "38e5842e-2749-4367-a464-844a4e6e9633",
   "metadata": {},
   "outputs": [],
   "source": [
    "df['Name']=df.apply(lambda x:get_label(x['Name'],x['Filled Time']),axis=1)"
   ]
  },
  {
   "cell_type": "code",
   "execution_count": null,
   "id": "a324264b-bd55-4d31-9157-fadd116e2758",
   "metadata": {},
   "outputs": [],
   "source": [
    "df['CallPut']=df['Name'].apply(lambda x:x.split('-')[1])"
   ]
  },
  {
   "cell_type": "code",
   "execution_count": null,
   "id": "35900a12-8461-4d83-8f80-1d34ef866855",
   "metadata": {},
   "outputs": [],
   "source": []
  },
  {
   "cell_type": "code",
   "execution_count": null,
   "id": "e5369d95-2b95-47ab-b8dc-da0b20943715",
   "metadata": {},
   "outputs": [],
   "source": [
    "df['Placed Time']=pd.to_datetime(df['Placed Time']);df['Filled Time']=pd.to_datetime(df['Filled Time']);\n",
    "df.head()"
   ]
  },
  {
   "cell_type": "code",
   "execution_count": null,
   "id": "449eed83-57af-44ab-8f3d-a1a771d82d9d",
   "metadata": {},
   "outputs": [],
   "source": [
    "df['Sold Price']=df['Avg Price'].shift(-1);df['Sold Time']=df['Filled Time'].shift(-1)"
   ]
  },
  {
   "cell_type": "code",
   "execution_count": null,
   "id": "41e74d07-03a5-4ad2-bb9f-877664e788b5",
   "metadata": {},
   "outputs": [],
   "source": [
    "df.head()"
   ]
  },
  {
   "cell_type": "code",
   "execution_count": null,
   "id": "ad1eab54-0d53-4154-b75d-90e83fe31a9e",
   "metadata": {},
   "outputs": [],
   "source": [
    "# df['Side'].where(df['Side']=='Buy')\n",
    "df.loc[:,'hold_time']=np.where(df['Side'].isin(['Buy']),(df['Sold Time']-df['Filled Time']).dt.seconds.divide(60).round(2),0)"
   ]
  },
  {
   "cell_type": "code",
   "execution_count": null,
   "id": "8fe22897-deed-4c46-b334-73e90ae2798c",
   "metadata": {},
   "outputs": [],
   "source": [
    "df.head()"
   ]
  },
  {
   "cell_type": "code",
   "execution_count": null,
   "id": "456a1e6d-c02f-4b1c-b18f-82119fe97dd0",
   "metadata": {},
   "outputs": [],
   "source": [
    "df.loc[:,'PL']=np.where(df['Side'].isin(['Buy']),df['Total Qty']*(df['Sold Price']-df['Avg Price']),0)*100"
   ]
  },
  {
   "cell_type": "code",
   "execution_count": null,
   "id": "bf827690-50ef-49ac-b7b7-ec8d2ac1ec49",
   "metadata": {},
   "outputs": [],
   "source": [
    "positive_mean=df.query('PL >0')['PL'].mean().round(2);negative_mean=df.query('PL <0')['PL'].mean().round(2);\n",
    "positive_mean,negative_mean"
   ]
  },
  {
   "cell_type": "code",
   "execution_count": null,
   "id": "f3e5f383-28d1-4614-888f-b77289aca8e0",
   "metadata": {},
   "outputs": [],
   "source": [
    "df=df.query('PL!=0.00 or `hold_time`!=0.00')"
   ]
  },
  {
   "cell_type": "code",
   "execution_count": null,
   "id": "6a307b1c-5067-4bcf-b095-2ddf20b763c8",
   "metadata": {},
   "outputs": [],
   "source": [
    "#mi=df['PL'].min();ma=df['PL'].max();av=df['PL'].mean()\n",
    "net=(df['PL'].sum().round(2))-2*df['PL'].count()*0.05\n",
    "net"
   ]
  },
  {
   "cell_type": "code",
   "execution_count": null,
   "id": "351fe7d2-b757-45d2-a3f2-1fa4b53e7ec5",
   "metadata": {},
   "outputs": [],
   "source": [
    "co='r' if net<0 else 'g'\n"
   ]
  },
  {
   "cell_type": "code",
   "execution_count": null,
   "id": "759bb81d-4424-42e1-b2ae-eaedc844d923",
   "metadata": {},
   "outputs": [],
   "source": [
    "profit=(df.query('PL>0')['PL'].sum().round(2))\n",
    "profit"
   ]
  },
  {
   "cell_type": "code",
   "execution_count": null,
   "id": "4080defa-9b6d-4565-b7c1-7c255fc8ceda",
   "metadata": {},
   "outputs": [],
   "source": [
    "loss=(df.query('PL<0')['PL'].sum().round(2))\n",
    "loss"
   ]
  },
  {
   "cell_type": "code",
   "execution_count": null,
   "id": "8a117386-0df0-4bd0-bce4-05aa94494748",
   "metadata": {},
   "outputs": [],
   "source": [
    "df['PL'].describe()"
   ]
  },
  {
   "cell_type": "code",
   "execution_count": null,
   "id": "e8841dbf-3200-4509-a409-285f08f16da1",
   "metadata": {},
   "outputs": [],
   "source": [
    "df.loc[:,'PN']=df['PL']>0\n"
   ]
  },
  {
   "cell_type": "code",
   "execution_count": null,
   "id": "a058ee4b-23d8-4bc8-a4e9-13102203e3e1",
   "metadata": {},
   "outputs": [],
   "source": [
    "df['PL%']=round(df['PL']/df['Avg Price'],2)\n",
    "df=df.reset_index(drop=True)\n",
    "df.head(20)"
   ]
  },
  {
   "cell_type": "code",
   "execution_count": null,
   "id": "cbff5c92-5cf6-4dce-829d-36128a1e4131",
   "metadata": {},
   "outputs": [],
   "source": [
    "df_summary=df[['Name','Side','Total Qty','Avg Price','Sold Price','PL','PL%','Filled Time',\n",
    "        'Sold Time','hold_time', 'PN','CallPut']].copy()\n",
    "df_summary.loc[:,'Filled Time']=df['Filled Time'].apply(lambda x:x.strftime('%H:%M:%S'))\n",
    "df_summary.loc[:,'Sold Time']=df['Sold Time'].apply(lambda x:x.strftime('%H:%M:%S'))\n",
    "df_summary"
   ]
  },
  {
   "cell_type": "code",
   "execution_count": null,
   "id": "a7d3fcf3-793c-42d3-9db2-5181376b35cf",
   "metadata": {},
   "outputs": [],
   "source": [
    "def get_PL_pct(df):\n",
    "    ax=df.plot(x='Name',y='PL%',kind='bar',width=1.0,figsize=(15,10),rot=90,color=df.PN.map({True:'g',False:'r'}))\n",
    "\n",
    "    ax.axhline(positive_mean_pct,color='g',linestyle='--',label=positive_mean_pct)\n",
    "    ax.axhline(negative_mean_pct,color='r',linestyle='--',label=negative_mean_pct)\n",
    "    for container in ax.containers:\n",
    "        ax.bar_label(container)\n",
    "\n",
    "    for item in ax.get_xticklabels():\n",
    "                item.set_rotation(90)\n",
    "                item.set_fontsize(14)\n",
    "                item.set_fontweight('bold')\n",
    "                item.set_color('blue')\n",
    "\n",
    "    plt.legend()\n",
    "    plt.title('PL%')\n",
    "\n",
    "    plt.show()"
   ]
  },
  {
   "cell_type": "code",
   "execution_count": null,
   "id": "0e632e6f-4bbe-4922-bb50-e56584a0f084",
   "metadata": {},
   "outputs": [],
   "source": [
    "def get_PL(df):\n",
    "    ax=df.plot(x='Name',y='PL',kind='bar',figsize=(15,10),rot=90,width=1.0,color=df.PN.map({True:'g',False:'r'}))\n",
    "    #ax.plot(raw_data['Close'],secondary_y=True)\n",
    "    ax.axhline(positive_mean,color='g',linestyle=':',label=positive_mean)\n",
    "    ax.axhline(negative_mean,color='r',linestyle=':',label=negative_mean)\n",
    "    for container in ax.containers:\n",
    "        ax.bar_label(container)\n",
    "\n",
    "    for item in ax.get_xticklabels():\n",
    "                item.set_rotation(90)\n",
    "                item.set_fontsize(14)\n",
    "                item.set_fontweight('bold')\n",
    "                item.set_color('blue')\n",
    "\n",
    "    plt.legend()\n",
    "    #plt.text(5,10,'test')\n",
    "    #plt.text(10,30,f\"Profit  no :  {p}\\nLoss   no :  {l}\",backgroundcolor='k',fontsize=16,color='white')\n",
    "    plt.text(10,30,printstr,backgroundcolor='k',fontsize=16,color='white')\n",
    "    plt.text(10,25,\"PL: \"+str(net),color=co,fontsize=20,backgroundcolor='white')\n",
    "    plt.title(\"PL\")\n",
    "\n",
    "    plt.show()"
   ]
  },
  {
   "cell_type": "code",
   "execution_count": null,
   "id": "9bc37c6f-212d-4886-9058-0a26cd14a813",
   "metadata": {},
   "outputs": [],
   "source": [
    "\n",
    "def get_hold_time(df):\n",
    "    ax=df.plot(x='Name',y='hold_time',kind='bar',figsize=(12,8),rot=90,width=0.9)#,color=df.PN.map({True:'g',False:'r'}))\n",
    "\n",
    "    ax.axhline(hold_time_avg,color='r',linestyle='--',label=str(hold_time_avg)+\" m\")\n",
    "    #ax.axhline(negative_mean_pct,color='k',linestyle='--',label=negative_mean_pct)\n",
    "    for container in ax.containers:\n",
    "        ax.bar_label(container)\n",
    "\n",
    "    for item in ax.get_xticklabels():\n",
    "                item.set_rotation(90)\n",
    "                item.set_fontsize(14)\n",
    "                item.set_fontweight('bold')\n",
    "                item.set_color('blue')\n",
    "\n",
    "    plt.legend()\n",
    "    plt.title('HOLD TIME')\n",
    "\n",
    "    plt.show()"
   ]
  },
  {
   "cell_type": "code",
   "execution_count": null,
   "id": "7e787ae6-e089-4187-80ee-ca4f9b1a56bc",
   "metadata": {},
   "outputs": [],
   "source": [
    "# all plots together\n",
    "def all_at_once(df):\n",
    "    fig, axs = plt.subplots(3, 1, figsize=(15,10), sharex=True)\n",
    "\n",
    "    axs[0].bar(df['Name'],df['PL'],width=1.0,color=df.PN.map({True:'g',False:'r'}))\n",
    "    axs[0].set_ylabel('PL ($) ')\n",
    "    axs[0].axhline(positive_mean,color='g',linestyle=':',label=str(positive_mean)+\" $\")\n",
    "    axs[0].axhline(negative_mean,color='r',linestyle=':',label=str(negative_mean)+\" $\")\n",
    "    #axs[0].text(10,30,f\"Profit  no :  {p}\\nLoss   no :  {l}\",backgroundcolor='k',fontsize=16,color='white')\n",
    "    #axs[0].text(5,30,printstr,fontsize=16,color='white')\n",
    "    axs[0].text(10,30,printstr,backgroundcolor='k',fontsize=12,color='white')\n",
    "    axs[0].text(12,30,\"PL: \"+str(net),color=co,fontsize=12,backgroundcolor='white')\n",
    "    axs[0].legend()\n",
    "\n",
    "    axs[2].bar(df['Name'],df['hold_time'],width=1.0)\n",
    "    axs[2].set_ylabel('HOLD TIME (mins)')\n",
    "    axs[2].axhline(hold_time_avg,color='r',linestyle='--',label=str(hold_time_avg)+\" m\")\n",
    "    axs[2].legend()\n",
    "\n",
    "    axs[1].bar(df['Name'],df['PL%'],width=1.0,color=df.PN.map({True:'g',False:'r'}))\n",
    "    axs[1].axhline(positive_mean_pct,color='g',linestyle='--',label=str(positive_mean_pct)+\" %\")\n",
    "    axs[1].axhline(negative_mean_pct,color='r',linestyle='--',label=str(negative_mean_pct)+\" %\")\n",
    "    axs[1].set_ylabel('PL (%) ')\n",
    "    axs[1].legend()\n",
    "\n",
    "    for ax in axs:\n",
    "        for container in ax.containers:\n",
    "            ax.bar_label(container)\n",
    "\n",
    "    fig.suptitle(f'ALL PLOT {today}')\n",
    "    plt.xticks(rotation=90,color='blue',fontweight='bold',fontsize=14)\n",
    "    plt.tight_layout()\n",
    "    plt.savefig(f'{df}all.pdf')\n",
    "    plt.show()"
   ]
  },
  {
   "cell_type": "code",
   "execution_count": null,
   "id": "f70b9d66-1288-448b-a229-e25145f81a2e",
   "metadata": {},
   "outputs": [],
   "source": [
    "call_put_df=df_summary.CallPut.value_counts().to_frame()\n",
    "\n",
    "ax=call_put_df.plot(kind='bar')\n",
    "for container in ax.containers:\n",
    "        ax.bar_label(container)"
   ]
  },
  {
   "cell_type": "code",
   "execution_count": null,
   "id": "e754a5d3-0d70-4f75-829f-e9da7277b6ee",
   "metadata": {},
   "outputs": [],
   "source": [
    "df_call=df_summary[df_summary.CallPut=='Call']\n",
    "df_call"
   ]
  },
  {
   "cell_type": "code",
   "execution_count": null,
   "id": "6f652706-098d-407d-ab88-ed6b6ab951b9",
   "metadata": {},
   "outputs": [],
   "source": [
    "df_call.describe()"
   ]
  },
  {
   "cell_type": "code",
   "execution_count": null,
   "id": "272caa71-99d1-4f55-ac3f-42185f874cdf",
   "metadata": {},
   "outputs": [],
   "source": [
    "get_PL(df_call);get_PL_pct(df_call);get_hold_time(df_call)\n",
    "#all_at_once(df_call)"
   ]
  },
  {
   "cell_type": "code",
   "execution_count": null,
   "id": "d2cf3efb-f1a8-460e-a5d4-ff3649ed34eb",
   "metadata": {},
   "outputs": [],
   "source": [
    "df_put=df_summary[df_summary.CallPut=='Put']\n",
    "df_put"
   ]
  },
  {
   "cell_type": "code",
   "execution_count": null,
   "id": "738d1d93-b494-497b-8550-e8d14567e09e",
   "metadata": {},
   "outputs": [],
   "source": [
    "df_put.describe()"
   ]
  },
  {
   "cell_type": "code",
   "execution_count": null,
   "id": "1a34a0a8-221a-4595-b5b8-2449649d47c3",
   "metadata": {},
   "outputs": [],
   "source": [
    "get_PL(df_put);get_PL_pct(df_put);get_hold_time(df_put)"
   ]
  },
  {
   "cell_type": "code",
   "execution_count": null,
   "id": "4af79c19-b9de-480e-b634-7d614b3e0739",
   "metadata": {},
   "outputs": [],
   "source": [
    "df_summary.round(2).to_csv('test.csv')"
   ]
  },
  {
   "cell_type": "code",
   "execution_count": null,
   "id": "68ccb014-624c-478e-aa77-e9cdafb7c857",
   "metadata": {},
   "outputs": [],
   "source": [
    "df['PL%'].mean().round(2)"
   ]
  },
  {
   "cell_type": "code",
   "execution_count": null,
   "id": "ff16cfb6-20ed-4889-9339-afa04911ec1d",
   "metadata": {},
   "outputs": [],
   "source": [
    "temp_df=df_summary[['Name','PL','PL%','hold_time','PN']]\n",
    "temp_df=temp_df.set_index('Name')\n",
    "temp_df.describe().round(2)\n"
   ]
  },
  {
   "cell_type": "code",
   "execution_count": null,
   "id": "b487f060-dfdd-45c2-8dee-77ae2e310050",
   "metadata": {},
   "outputs": [],
   "source": [
    "p=len(df.query('PL>0'));l=len(df.query('PL<0'))\n",
    "printstr=f\"Profit no: {p}\\nLoss no  : {l}\\nTotal      : {p+l}\"\n",
    "\n",
    "#print(f\"Profit no: {p}\\nLoss no  : {l}\\nTotal    : {p+l}\")\n",
    "\n",
    "print(printstr)"
   ]
  },
  {
   "cell_type": "code",
   "execution_count": null,
   "id": "0a2e9aa6-ebe3-4719-ab7e-4919329add72",
   "metadata": {},
   "outputs": [],
   "source": [
    "\n",
    "# ax=df.plot(x='Name',y='PL',kind='bar',figsize=(12,8),rot=90,width=1.0,color=df.PN.map({True:'g',False:'r'}))\n",
    "# #ax.plot(raw_data['Close'],secondary_y=True)\n",
    "# ax.axhline(positive_mean,color='g',linestyle=':',label=positive_mean)\n",
    "# ax.axhline(negative_mean,color='r',linestyle=':',label=negative_mean)\n",
    "# for container in ax.containers:\n",
    "#     ax.bar_label(container)\n",
    "\n",
    "# for item in ax.get_xticklabels():\n",
    "#             item.set_rotation(90)\n",
    "#             item.set_fontsize(14)\n",
    "#             item.set_fontweight('bold')\n",
    "#             item.set_color('blue')\n",
    "\n",
    "# plt.legend()\n",
    "# #plt.text(5,10,'test')\n",
    "# plt.text(10,30,f\"Profit  no :  {p}\\nLoss   no :  {l}\",backgroundcolor='k',fontsize=16,color='white')\n",
    "# plt.title(\"PL\")\n",
    "\n",
    "# plt.show()"
   ]
  },
  {
   "cell_type": "code",
   "execution_count": null,
   "id": "36e85d7a-9b78-4954-8f25-6a6014dc4e86",
   "metadata": {},
   "outputs": [],
   "source": [
    "positive_mean_pct=df.query('`PL%` >0')['PL%'].mean().round(2);negative_mean_pct=df.query('`PL%` <0')['PL%'].mean().round(2);hold_time_avg=df['hold_time'].mean().round(2)\n",
    "positive_mean_pct,negative_mean_pct,hold_time_avg"
   ]
  },
  {
   "cell_type": "code",
   "execution_count": null,
   "id": "04e8ae35-6c7d-41f0-99d6-d4f07111bbe0",
   "metadata": {},
   "outputs": [],
   "source": [
    "get_PL(df);get_PL_pct(df);get_hold_time(df)"
   ]
  },
  {
   "cell_type": "code",
   "execution_count": null,
   "id": "f45850af-5b2e-45f4-98a1-09e844798c89",
   "metadata": {},
   "outputs": [],
   "source": [
    "\n",
    "# ax=df.plot(x='Name',y='PL%',kind='bar',width=1.0,figsize=(12,8),rot=90,color=df.PN.map({True:'g',False:'r'}))\n",
    "\n",
    "# ax.axhline(positive_mean_pct,color='g',linestyle='--',label=positive_mean_pct)\n",
    "# ax.axhline(negative_mean_pct,color='r',linestyle='--',label=negative_mean_pct)\n",
    "# for container in ax.containers:\n",
    "#     ax.bar_label(container)\n",
    "\n",
    "# for item in ax.get_xticklabels():\n",
    "#             item.set_rotation(90)\n",
    "#             item.set_fontsize(14)\n",
    "#             item.set_fontweight('bold')\n",
    "#             item.set_color('blue')\n",
    "\n",
    "# plt.legend()\n",
    "# plt.title('PL%')\n",
    "\n",
    "# plt.show()"
   ]
  },
  {
   "cell_type": "code",
   "execution_count": null,
   "id": "b2487edd-2624-4fbd-864c-c98aa90fd38c",
   "metadata": {},
   "outputs": [],
   "source": [
    "# all plots together\n",
    "fig, axs = plt.subplots(3, 1, figsize=(15,10), sharex=True)\n",
    "\n",
    "axs[0].bar(df['Name'],df['PL'],width=1.0,color=df.PN.map({True:'g',False:'r'}))\n",
    "axs[0].set_ylabel('PL ($) ')\n",
    "axs[0].axhline(positive_mean,color='g',linestyle=':',label=str(positive_mean)+\" $\")\n",
    "axs[0].axhline(negative_mean,color='r',linestyle=':',label=str(negative_mean)+\" $\")\n",
    "#axs[0].text(10,30,f\"Profit  no :  {p}\\nLoss   no :  {l}\",backgroundcolor='k',fontsize=16,color='white')\n",
    "#axs[0].text(5,30,printstr,fontsize=16,color='white')\n",
    "axs[0].text(10,30,printstr,backgroundcolor='k',fontsize=12,color='white')\n",
    "axs[0].text(12,30,\"PL: \"+str(net),color=co,fontsize=12,backgroundcolor='white')\n",
    "axs[0].legend()\n",
    "\n",
    "axs[2].bar(df['Name'],df['hold_time'],width=1.0)\n",
    "axs[2].set_ylabel('HOLD TIME (mins)')\n",
    "axs[2].axhline(hold_time_avg,color='r',linestyle='--',label=str(hold_time_avg)+\" m\")\n",
    "axs[2].legend()\n",
    "\n",
    "axs[1].bar(df['Name'],df['PL%'],width=1.0,color=df.PN.map({True:'g',False:'r'}))\n",
    "axs[1].axhline(positive_mean_pct,color='g',linestyle='--',label=str(positive_mean_pct)+\" %\")\n",
    "axs[1].axhline(negative_mean_pct,color='r',linestyle='--',label=str(negative_mean_pct)+\" %\")\n",
    "axs[1].set_ylabel('PL (%) ')\n",
    "axs[1].legend()\n",
    "\n",
    "for ax in axs:\n",
    "    for container in ax.containers:\n",
    "        ax.bar_label(container)\n",
    "\n",
    "fig.suptitle(f'ALL PLOT {today}')\n",
    "plt.xticks(rotation=90,color='blue',fontweight='bold',fontsize=14)\n",
    "plt.tight_layout()\n",
    "plt.savefig('all.pdf')\n",
    "plt.show()"
   ]
  },
  {
   "cell_type": "code",
   "execution_count": null,
   "id": "2a7351f6-762c-4abf-a8b7-18339e3bff05",
   "metadata": {},
   "outputs": [],
   "source": [
    "# # df_sp=pd.read_csv('/home/thakur/test/snp500/SPY.csv')\n",
    "# # df_sp.head()\n",
    "# import yfinance as yf\n",
    "\n",
    "# raw_data = yf.download (tickers = \"SPY\", period='1d', interval = \"1m\")"
   ]
  },
  {
   "cell_type": "code",
   "execution_count": null,
   "id": "d8e849c9-9f55-4fef-bbdf-dd6e7076be51",
   "metadata": {},
   "outputs": [],
   "source": [
    "df_time=df_summary.copy()"
   ]
  },
  {
   "cell_type": "code",
   "execution_count": null,
   "id": "088d54bd-22fd-4349-b4b5-2844eb3cafcb",
   "metadata": {},
   "outputs": [],
   "source": [
    "df_time"
   ]
  },
  {
   "cell_type": "code",
   "execution_count": null,
   "id": "8befe591-b629-4734-a762-532375d67f85",
   "metadata": {},
   "outputs": [],
   "source": [
    "df_time['cumsum']=df_time['PL'].cumsum()"
   ]
  },
  {
   "cell_type": "code",
   "execution_count": null,
   "id": "10b118ae-3b99-4cde-b46a-83f1dcc9da0d",
   "metadata": {},
   "outputs": [],
   "source": [
    "ax=df_time.plot(x='Filled Time',y='cumsum',rot=90,figsize=(20,10))#,xticks=idx)\n",
    "#ax.set_xticklabels(df_time['Filled Time'])\n",
    "#plt.xticks(rotation=90)\n",
    "plt.title(f'Cumsum {today}')\n",
    "plt.tight_layout()\n",
    "plt.show()"
   ]
  },
  {
   "cell_type": "code",
   "execution_count": null,
   "id": "6e797327-00aa-417b-92d9-61df32b5f8db",
   "metadata": {},
   "outputs": [],
   "source": [
    "kwargs={'color':'r', 'fontsize':14}\n",
    "kwargs1={'color':'b', 'linestyle':'-','lw':2}\n",
    "ax=df_time.plot(y='cumsum',kind='line',rot=90,marker='o',figsize=(16,8),**kwargs1).set_xticks(df_time.index,df_time['Filled Time'],**kwargs)#color='r',fontsize=14)#,xticks=idx)\n",
    "#ax.set_xticklabels(df_time['Filled Time'])\n",
    "#plt.xticks(rotation=90)\n",
    "\n",
    "plt.title(f'Cumsum {today}')\n",
    "plt.ylabel('PL')\n",
    "plt.xlabel('Time')\n",
    "plt.tight_layout()\n",
    "plt.savefig(\"cumsum.pdf\")\n",
    "plt.show()"
   ]
  },
  {
   "cell_type": "code",
   "execution_count": null,
   "id": "69bd51bf-db7a-4662-8d84-4c3775bd07de",
   "metadata": {},
   "outputs": [],
   "source": [
    "# idx=df_time['Filled Time'].astype('datetime64[ns]').apply(lambda x:x.strftime(\"%H-%M\"))\n",
    "# idx\n",
    "# x=[1,2,3]\n",
    "# y=[3,4,5]\n",
    "# dict(x,y)"
   ]
  },
  {
   "cell_type": "code",
   "execution_count": null,
   "id": "0f9104f9-967e-4ea6-9521-1fbb0d3a93df",
   "metadata": {},
   "outputs": [],
   "source": [
    "# idx=pd.to_datetime(df_time['Filled Time']).strftime('%HH:%MM')#.dt.time#.astype('datetime64[ns]')\n",
    "# idx"
   ]
  },
  {
   "cell_type": "code",
   "execution_count": null,
   "id": "61a5217c-aa5a-49f4-b20f-7838f2d66da7",
   "metadata": {},
   "outputs": [],
   "source": [
    "# idx.dtypes"
   ]
  },
  {
   "cell_type": "code",
   "execution_count": null,
   "id": "9c99c805-37f5-4551-b9f0-92a063247dd3",
   "metadata": {},
   "outputs": [],
   "source": [
    "df_time"
   ]
  },
  {
   "cell_type": "code",
   "execution_count": null,
   "id": "caee53bf-2658-4fe5-a69f-da7f80c2180e",
   "metadata": {},
   "outputs": [],
   "source": [
    "# df_time['cumsum'].plot()"
   ]
  },
  {
   "cell_type": "code",
   "execution_count": null,
   "id": "df739d49-22ad-4c16-9ac9-57e44f0c668e",
   "metadata": {},
   "outputs": [],
   "source": [
    "# df_time['Filled Time']=pd.to_datetime(df['Filled Time'])\n",
    "# df_time['Sold Time']=pd.to_datetime(df['Sold Time'])\n",
    "investment=100*df['Avg Price'].sum()\n",
    "investment,net,net*100/investment\n"
   ]
  },
  {
   "cell_type": "code",
   "execution_count": null,
   "id": "ba4f9c37-0c60-4674-8d04-303aad8bdd90",
   "metadata": {},
   "outputs": [],
   "source": [
    "df['PL%'].mean()"
   ]
  },
  {
   "cell_type": "code",
   "execution_count": null,
   "id": "79857a8f-c913-4b17-9f40-6e5fbe9b1bed",
   "metadata": {},
   "outputs": [],
   "source": [
    "df_time.dtypes"
   ]
  },
  {
   "cell_type": "code",
   "execution_count": null,
   "id": "c13e4a1a-7ed4-4e0b-a978-37c6c63afd76",
   "metadata": {},
   "outputs": [],
   "source": [
    "#df_time.plot(x='Filled Time',y='PL',rot=90,kind='scatter')\n",
    "df_time.set_index('Filled Time',inplace=True)\n",
    "df_time.loc[:,'scumsum']=df_time['cumsum']>0\n",
    "df_time=df_time[::-1]\n",
    "#df_time['Avg Price'].plot()\n"
   ]
  },
  {
   "cell_type": "code",
   "execution_count": null,
   "id": "6ffb4d4b-0899-4135-ab6c-e64636e63251",
   "metadata": {},
   "outputs": [],
   "source": [
    "df_time"
   ]
  },
  {
   "cell_type": "code",
   "execution_count": null,
   "id": "4cf0a9b7-649f-4530-a978-8ddfdb8b45b6",
   "metadata": {},
   "outputs": [],
   "source": [
    "#df_time.loc[:,'scumsum']=df_time['cumsum']>0"
   ]
  },
  {
   "cell_type": "code",
   "execution_count": null,
   "id": "deeaf668-ad76-457f-822e-e17b3b1bdd1f",
   "metadata": {},
   "outputs": [],
   "source": [
    "#df_time=df_time[::-1]"
   ]
  },
  {
   "cell_type": "code",
   "execution_count": null,
   "id": "4f735ac9-ccf3-4079-98d3-8efab1ab25de",
   "metadata": {},
   "outputs": [],
   "source": [
    "#raw_data.plot(y='Adj Close')\n",
    "\n",
    "ax1=df_time[::-1][['PL','cumsum']].plot(kind='bar',title=f\"Cumsum {today}\",grid=True,figsize=(20,10))#,color=df_time['scumsum'].map({True:'g',False:'r'}))\n",
    "for container in ax1.containers:\n",
    "        ax1.bar_label(container)\n",
    "ax1.set_xlabel('PL')\n",
    "ax1.set_ylabel('Time')\n",
    "plt.savefig('cumsumplbar.pdf')\n",
    "plt.show()"
   ]
  },
  {
   "cell_type": "code",
   "execution_count": null,
   "id": "22e1b3cd-25ab-4be6-ad3e-325ec44c96d1",
   "metadata": {},
   "outputs": [],
   "source": [
    "#raw_data.plot(y='Adj Close')\n",
    "#df_time=df_time[::-1]\n",
    "ax1=df_time['cumsum'].plot(kind='barh',title=f\"Cumsum {today}\",grid=True,figsize=(20,10),color=df_time['scumsum'].map({True:'g',False:'r'}))\n",
    "for container in ax1.containers:\n",
    "        ax1.bar_label(container)\n",
    "ax1.set_xlabel('PL')\n",
    "ax1.set_ylabel('Time')\n",
    "plt.savefig('cumsumbar.pdf')\n",
    "plt.show()"
   ]
  },
  {
   "cell_type": "code",
   "execution_count": null,
   "id": "e9c99f55-dcdc-4cec-87c2-cf649ee795e0",
   "metadata": {},
   "outputs": [],
   "source": [
    "df_time['cumsum'].plot(kind='barh')\n",
    "#raw_data.head()\n",
    "# ax.plot(raw_data['Close'])\n",
    "# plt.show()\n",
    "# df_time['Avg Price'].plot(color='r')\n",
    "# df_time['Sold Time'].plot(color='b')"
   ]
  },
  {
   "cell_type": "code",
   "execution_count": null,
   "id": "370e5fef-6b2a-4414-b9b2-988e977304a3",
   "metadata": {},
   "outputs": [],
   "source": [
    "# #df.plot(x='Name',y='PL',kind='bar')\n",
    "# x=df['Name'];y=df['PL']\n",
    "# df.plot(x,y)\n",
    "#g=sns.barplot(data=df,x=x,y=y)\n",
    "# for item in g.get_xticklabels():\n",
    "#     item.set_rotation(90)\n",
    "#     item.set_fontsize(10)\n",
    "#     item.set_fontweight('bold')\n",
    "# for i in g.containers:\n",
    "#     g.bar_label(i,rotation=90,fontsize=10,fontweight='bold',color='b',padding=5)\n"
   ]
  },
  {
   "cell_type": "code",
   "execution_count": null,
   "id": "4c6d60e3-4efa-4b1d-94e3-d5f721822da7",
   "metadata": {},
   "outputs": [],
   "source": [
    "def compare_bars(temp_df,rows=30,title=\"\"):\n",
    "    choose=['TICKER','CP','VOL','%CHG','%ATR']\n",
    "    plot_df=temp_df[choose].sort_values(by='CP',ascending=True).reset_index(drop=True,).head(rows)\n",
    "    columns=plot_df.columns.to_list()\n",
    "    x=columns[0];y=columns[1:]\n",
    "    today=datetime.now().strftime(\"%m/%d/%Y\")\n",
    "    f, axs = plt.subplots(2, 2, figsize=(16, 10), gridspec_kw=dict(width_ratios=[4, 4]))\n",
    "    cols=axs.flat\n",
    "    for i,j in enumerate(y):\n",
    "        g=sns.barplot(data=plot_df,x=x,y=y[i],ax=cols[i])\n",
    "        for item in g.get_xticklabels():\n",
    "            item.set_rotation(90)\n",
    "            item.set_fontsize(10)\n",
    "            item.set_fontweight('bold')\n",
    "        for i in g.containers:\n",
    "            g.bar_label(i,rotation=90,fontsize=10,fontweight='bold',color='b',padding=5)\n",
    "    f.suptitle(f\"{title.upper()} {today}\")   \n",
    "    f.tight_layout()\n",
    "    #f.savefig(title+'.pdf')\n",
    "    #f.show()"
   ]
  },
  {
   "cell_type": "code",
   "execution_count": null,
   "id": "86c2db04-4a70-4bb0-ab98-73abeb650e9f",
   "metadata": {},
   "outputs": [],
   "source": []
  }
 ],
 "metadata": {
  "kernelspec": {
   "display_name": "Python 3 (ipykernel)",
   "language": "python",
   "name": "python3"
  },
  "language_info": {
   "codemirror_mode": {
    "name": "ipython",
    "version": 3
   },
   "file_extension": ".py",
   "mimetype": "text/x-python",
   "name": "python",
   "nbconvert_exporter": "python",
   "pygments_lexer": "ipython3",
   "version": "3.10.12"
  }
 },
 "nbformat": 4,
 "nbformat_minor": 5
}
