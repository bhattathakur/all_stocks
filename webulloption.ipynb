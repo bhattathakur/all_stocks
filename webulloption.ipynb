{
 "cells": [
  {
   "cell_type": "code",
   "execution_count": null,
   "id": "e34657ee-41a7-4d33-84ac-d7dfb4fbfbc1",
   "metadata": {},
   "outputs": [],
   "source": [
    "#webull option data"
   ]
  },
  {
   "cell_type": "code",
   "execution_count": null,
   "id": "3a2a72e7-ee34-4316-a605-313a99325b57",
   "metadata": {},
   "outputs": [],
   "source": [
    "import pandas as pd\n",
    "import numpy as np\n",
    "import seaborn as sns\n",
    "import matplotlib.pyplot as plt\n",
    "sns.set_theme()"
   ]
  },
  {
   "cell_type": "code",
   "execution_count": null,
   "id": "9e81bf69-5296-41d3-b386-4187c87b16c2",
   "metadata": {},
   "outputs": [],
   "source": [
    "file=\"/home/thakur/all_stocks/Webull_Orders_Records_Options.csv\"\n",
    "df=pd.read_csv(file)[::-1].reset_index(drop=True)"
   ]
  },
  {
   "cell_type": "code",
   "execution_count": null,
   "id": "430b2ccd-d4d1-44da-a551-8c686506a439",
   "metadata": {},
   "outputs": [],
   "source": [
    "df"
   ]
  },
  {
   "cell_type": "code",
   "execution_count": null,
   "id": "a6e3052c-713b-4f15-896b-a085bb6dcd23",
   "metadata": {},
   "outputs": [],
   "source": [
    "# test='SPY 12/06/2022 00:00:00 EST Call $400.00';y='12/06/2022 09:35:47 EST'\n",
    "# s=test.split()\n",
    "# s[0]+s[-1]\n",
    "\n",
    "def get_label(x,y):\n",
    "    s=x.split();s1=y.split()\n",
    "    \n",
    "    return s[0]+\"-\"+s[4]+\"-\"+s[-1].split('.')[0]+\"-\"+s1[1]"
   ]
  },
  {
   "cell_type": "code",
   "execution_count": null,
   "id": "97553fd9-6254-474b-9ae2-7ded6c4f4e1e",
   "metadata": {},
   "outputs": [],
   "source": [
    "# x='SPY 12/06/2022 00:00:00 EST Call $400.00';y='12/06/2022 09:35:47 EST'\n",
    "# get_label(x,y)"
   ]
  },
  {
   "cell_type": "code",
   "execution_count": null,
   "id": "f76ab398-35a1-47c2-9b65-36ef3c3b6d67",
   "metadata": {},
   "outputs": [],
   "source": [
    "#df['Name']=df['Name'].apply(lambda x:x.split()[0]+x.split()[-2]+x.split()[-1])\n"
   ]
  },
  {
   "cell_type": "code",
   "execution_count": null,
   "id": "e5369d95-2b95-47ab-b8dc-da0b20943715",
   "metadata": {},
   "outputs": [],
   "source": [
    "df.head()"
   ]
  },
  {
   "cell_type": "code",
   "execution_count": null,
   "id": "38e5842e-2749-4367-a464-844a4e6e9633",
   "metadata": {},
   "outputs": [],
   "source": [
    "df['Name']=df.apply(lambda x:get_label(x['Name'],x['Filled Time']),axis=1)"
   ]
  },
  {
   "cell_type": "code",
   "execution_count": null,
   "id": "449eed83-57af-44ab-8f3d-a1a771d82d9d",
   "metadata": {},
   "outputs": [],
   "source": [
    "df['shifted_price']=df['Avg Price'].shift(-1)"
   ]
  },
  {
   "cell_type": "code",
   "execution_count": null,
   "id": "bd750fe6-a617-49b0-8f79-065b41ee276a",
   "metadata": {},
   "outputs": [],
   "source": [
    "df.head()"
   ]
  },
  {
   "cell_type": "code",
   "execution_count": null,
   "id": "ad1eab54-0d53-4154-b75d-90e83fe31a9e",
   "metadata": {},
   "outputs": [],
   "source": [
    "# df['Side'].where(df['Side']=='Buy')"
   ]
  },
  {
   "cell_type": "code",
   "execution_count": null,
   "id": "456a1e6d-c02f-4b1c-b18f-82119fe97dd0",
   "metadata": {},
   "outputs": [],
   "source": [
    "df.loc[:,'PL']=np.where(df['Side'].isin(['Buy']),df['shifted_price']-df['Avg Price'],0)"
   ]
  },
  {
   "cell_type": "code",
   "execution_count": null,
   "id": "bf827690-50ef-49ac-b7b7-ec8d2ac1ec49",
   "metadata": {},
   "outputs": [],
   "source": [
    "positive_mean=df.query('PL >0')['PL'].mean().round(2);negative_mean=df.query('PL <0')['PL'].mean().round(2);\n",
    "positive_mean,negative_mean"
   ]
  },
  {
   "cell_type": "code",
   "execution_count": null,
   "id": "f3e5f383-28d1-4614-888f-b77289aca8e0",
   "metadata": {},
   "outputs": [],
   "source": [
    "df=df.query('PL!=0.00')"
   ]
  },
  {
   "cell_type": "code",
   "execution_count": null,
   "id": "6a307b1c-5067-4bcf-b095-2ddf20b763c8",
   "metadata": {},
   "outputs": [],
   "source": [
    "#mi=df['PL'].min();ma=df['PL'].max();av=df['PL'].mean()\n",
    "net=(df['PL'].sum().round(2))*100\n",
    "net"
   ]
  },
  {
   "cell_type": "code",
   "execution_count": null,
   "id": "759bb81d-4424-42e1-b2ae-eaedc844d923",
   "metadata": {},
   "outputs": [],
   "source": [
    "profit=(df.query('PL>0')['PL'].sum())*100\n",
    "profit"
   ]
  },
  {
   "cell_type": "code",
   "execution_count": null,
   "id": "4080defa-9b6d-4565-b7c1-7c255fc8ceda",
   "metadata": {},
   "outputs": [],
   "source": [
    "loss=(df.query('PL<0')['PL'].sum())*100\n",
    "loss"
   ]
  },
  {
   "cell_type": "code",
   "execution_count": null,
   "id": "8a117386-0df0-4bd0-bce4-05aa94494748",
   "metadata": {},
   "outputs": [],
   "source": [
    "df['PL'].describe()"
   ]
  },
  {
   "cell_type": "code",
   "execution_count": null,
   "id": "e8841dbf-3200-4509-a409-285f08f16da1",
   "metadata": {},
   "outputs": [],
   "source": [
    "df.loc[:,'PN']=df['PL']>0\n"
   ]
  },
  {
   "cell_type": "code",
   "execution_count": null,
   "id": "a058ee4b-23d8-4bc8-a4e9-13102203e3e1",
   "metadata": {},
   "outputs": [],
   "source": [
    "df['PL%']=round(100*df['PL']/df['Avg Price'],2)\n",
    "df.head(10)"
   ]
  },
  {
   "cell_type": "code",
   "execution_count": null,
   "id": "0a2e9aa6-ebe3-4719-ab7e-4919329add72",
   "metadata": {},
   "outputs": [],
   "source": [
    "\n",
    "ax=df.plot(x='Name',y='PL',kind='bar',figsize=(20,10),rot=90,color=df.PN.map({True:'g',False:'r'}))\n",
    "#ax.plot(raw_data['Close'],secondary_y=True)\n",
    "ax.axhline(positive_mean,color='b',linestyle='--',label=positive_mean)\n",
    "ax.axhline(negative_mean,color='k',linestyle='--',label=negative_mean)\n",
    "for container in ax.containers:\n",
    "    ax.bar_label(container)\n",
    "\n",
    "for item in ax.get_xticklabels():\n",
    "            item.set_rotation(90)\n",
    "            item.set_fontsize(16)\n",
    "            item.set_fontweight('bold')\n",
    "            item.set_color('blue')\n",
    "\n",
    "plt.legend()\n",
    "\n",
    "plt.show()"
   ]
  },
  {
   "cell_type": "code",
   "execution_count": null,
   "id": "36e85d7a-9b78-4954-8f25-6a6014dc4e86",
   "metadata": {},
   "outputs": [],
   "source": [
    "positive_mean_pct=df.query('`PL%` >0')['PL%'].mean().round(2);negative_mean_pct=df.query('`PL%` <0')['PL%'].mean().round(2);\n",
    "positive_mean_pct,negative_mean_pct"
   ]
  },
  {
   "cell_type": "code",
   "execution_count": null,
   "id": "a7d3fcf3-793c-42d3-9db2-5181376b35cf",
   "metadata": {},
   "outputs": [],
   "source": [
    "\n",
    "ax=df.plot(x='Name',y='PL%',kind='bar',figsize=(20,10),rot=90,color=df.PN.map({True:'g',False:'r'}))\n",
    "\n",
    "ax.axhline(positive_mean_pct,color='b',linestyle='--',label=positive_mean_pct)\n",
    "ax.axhline(negative_mean_pct,color='k',linestyle='--',label=negative_mean_pct)\n",
    "for container in ax.containers:\n",
    "    ax.bar_label(container)\n",
    "\n",
    "for item in ax.get_xticklabels():\n",
    "            item.set_rotation(90)\n",
    "            item.set_fontsize(16)\n",
    "            item.set_fontweight('bold')\n",
    "            item.set_color('blue')\n",
    "\n",
    "plt.legend()\n",
    "\n",
    "plt.show()"
   ]
  },
  {
   "cell_type": "code",
   "execution_count": null,
   "id": "2a7351f6-762c-4abf-a8b7-18339e3bff05",
   "metadata": {},
   "outputs": [],
   "source": [
    "# df_sp=pd.read_csv('/home/thakur/test/snp500/SPY.csv')\n",
    "# df_sp.head()\n",
    "import yfinance as yf\n",
    "\n",
    "raw_data = yf.download (tickers = \"SPY\", period='1d', interval = \"1m\""
   ]
  },
  {
   "cell_type": "code",
   "execution_count": null,
   "id": "e9c99f55-dcdc-4cec-87c2-cf649ee795e0",
   "metadata": {},
   "outputs": [],
   "source": [
    "raw_data.head()\n",
    "# ax.plot(raw_data['Close'])\n",
    "# plt.show()"
   ]
  },
  {
   "cell_type": "code",
   "execution_count": null,
   "id": "4f735ac9-ccf3-4079-98d3-8efab1ab25de",
   "metadata": {},
   "outputs": [],
   "source": [
    "raw_data.plot(y='Adj Close')"
   ]
  },
  {
   "cell_type": "code",
   "execution_count": null,
   "id": "370e5fef-6b2a-4414-b9b2-988e977304a3",
   "metadata": {},
   "outputs": [],
   "source": [
    "# #df.plot(x='Name',y='PL',kind='bar')\n",
    "# x=df['Name'];y=df['PL']\n",
    "# df.plot(x,y)\n",
    "#g=sns.barplot(data=df,x=x,y=y)\n",
    "# for item in g.get_xticklabels():\n",
    "#     item.set_rotation(90)\n",
    "#     item.set_fontsize(10)\n",
    "#     item.set_fontweight('bold')\n",
    "# for i in g.containers:\n",
    "#     g.bar_label(i,rotation=90,fontsize=10,fontweight='bold',color='b',padding=5)\n"
   ]
  },
  {
   "cell_type": "code",
   "execution_count": null,
   "id": "4c6d60e3-4efa-4b1d-94e3-d5f721822da7",
   "metadata": {},
   "outputs": [],
   "source": [
    "def compare_bars(temp_df,rows=30,title=\"\"):\n",
    "    choose=['TICKER','CP','VOL','%CHG','%ATR']\n",
    "    plot_df=temp_df[choose].sort_values(by='CP',ascending=True).reset_index(drop=True,).head(rows)\n",
    "    columns=plot_df.columns.to_list()\n",
    "    x=columns[0];y=columns[1:]\n",
    "    today=datetime.now().strftime(\"%m/%d/%Y\")\n",
    "    f, axs = plt.subplots(2, 2, figsize=(16, 10), gridspec_kw=dict(width_ratios=[4, 4]))\n",
    "    cols=axs.flat\n",
    "    for i,j in enumerate(y):\n",
    "        g=sns.barplot(data=plot_df,x=x,y=y[i],ax=cols[i])\n",
    "        for item in g.get_xticklabels():\n",
    "            item.set_rotation(90)\n",
    "            item.set_fontsize(10)\n",
    "            item.set_fontweight('bold')\n",
    "        for i in g.containers:\n",
    "            g.bar_label(i,rotation=90,fontsize=10,fontweight='bold',color='b',padding=5)\n",
    "    f.suptitle(f\"{title.upper()} {today}\")   \n",
    "    f.tight_layout()\n",
    "    #f.savefig(title+'.pdf')\n",
    "    #f.show()"
   ]
  },
  {
   "cell_type": "code",
   "execution_count": null,
   "id": "86c2db04-4a70-4bb0-ab98-73abeb650e9f",
   "metadata": {},
   "outputs": [],
   "source": []
  }
 ],
 "metadata": {
  "kernelspec": {
   "display_name": "Python 3 (ipykernel)",
   "language": "python",
   "name": "python3"
  },
  "language_info": {
   "codemirror_mode": {
    "name": "ipython",
    "version": 3
   },
   "file_extension": ".py",
   "mimetype": "text/x-python",
   "name": "python",
   "nbconvert_exporter": "python",
   "pygments_lexer": "ipython3",
   "version": "3.10.6"
  }
 },
 "nbformat": 4,
 "nbformat_minor": 5
}
